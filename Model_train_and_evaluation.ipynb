{
  "nbformat": 4,
  "nbformat_minor": 0,
  "metadata": {
    "colab": {
      "provenance": [],
      "toc_visible": true,
      "collapsed_sections": [
        "Mmbdoz5-f7Zv",
        "f9FATt_xEyzq",
        "l5pvXeMFDEeQ",
        "L8bBk2-1FebK",
        "llOjytV5KdrH",
        "f46fmb6SApOZ",
        "NCyn8wS3ec4_",
        "awGopb-VjXEx",
        "TvobiqTl2BRg"
      ]
    },
    "kernelspec": {
      "name": "python3",
      "display_name": "Python 3"
    },
    "language_info": {
      "name": "python"
    },
    "widgets": {
      "application/vnd.jupyter.widget-state+json": {
        "3a98ba40fef9476489a67d917c374c6b": {
          "model_module": "@jupyter-widgets/controls",
          "model_name": "HBoxModel",
          "model_module_version": "1.5.0",
          "state": {
            "_dom_classes": [],
            "_model_module": "@jupyter-widgets/controls",
            "_model_module_version": "1.5.0",
            "_model_name": "HBoxModel",
            "_view_count": null,
            "_view_module": "@jupyter-widgets/controls",
            "_view_module_version": "1.5.0",
            "_view_name": "HBoxView",
            "box_style": "",
            "children": [
              "IPY_MODEL_c4f900f55f844ac781dec0b8c0cef26e",
              "IPY_MODEL_92cfa39fd161474a99928b97e4d60957",
              "IPY_MODEL_706606567eb14ddbb040efc3cdf788e1"
            ],
            "layout": "IPY_MODEL_a8bb00a2df34476d9b13abb6c22e6880"
          }
        },
        "c4f900f55f844ac781dec0b8c0cef26e": {
          "model_module": "@jupyter-widgets/controls",
          "model_name": "HTMLModel",
          "model_module_version": "1.5.0",
          "state": {
            "_dom_classes": [],
            "_model_module": "@jupyter-widgets/controls",
            "_model_module_version": "1.5.0",
            "_model_name": "HTMLModel",
            "_view_count": null,
            "_view_module": "@jupyter-widgets/controls",
            "_view_module_version": "1.5.0",
            "_view_name": "HTMLView",
            "description": "",
            "description_tooltip": null,
            "layout": "IPY_MODEL_15ffda063e874636b45ac7728b32d336",
            "placeholder": "​",
            "style": "IPY_MODEL_1cbd5e7358364abba2ae59bc1cabc593",
            "value": "Map:  92%"
          }
        },
        "92cfa39fd161474a99928b97e4d60957": {
          "model_module": "@jupyter-widgets/controls",
          "model_name": "FloatProgressModel",
          "model_module_version": "1.5.0",
          "state": {
            "_dom_classes": [],
            "_model_module": "@jupyter-widgets/controls",
            "_model_module_version": "1.5.0",
            "_model_name": "FloatProgressModel",
            "_view_count": null,
            "_view_module": "@jupyter-widgets/controls",
            "_view_module_version": "1.5.0",
            "_view_name": "ProgressView",
            "bar_style": "",
            "description": "",
            "description_tooltip": null,
            "layout": "IPY_MODEL_1c2e07b95ef844e3aed7850461613fdc",
            "max": 3263,
            "min": 0,
            "orientation": "horizontal",
            "style": "IPY_MODEL_3ada7ec7b18d40ed82cfbba46a33c7f7",
            "value": 3263
          }
        },
        "706606567eb14ddbb040efc3cdf788e1": {
          "model_module": "@jupyter-widgets/controls",
          "model_name": "HTMLModel",
          "model_module_version": "1.5.0",
          "state": {
            "_dom_classes": [],
            "_model_module": "@jupyter-widgets/controls",
            "_model_module_version": "1.5.0",
            "_model_name": "HTMLModel",
            "_view_count": null,
            "_view_module": "@jupyter-widgets/controls",
            "_view_module_version": "1.5.0",
            "_view_name": "HTMLView",
            "description": "",
            "description_tooltip": null,
            "layout": "IPY_MODEL_b44032cab8944deca9461bc29e313da7",
            "placeholder": "​",
            "style": "IPY_MODEL_a9cc7c7a52f440a2ba66c5bba3848557",
            "value": " 3000/3263 [00:01&lt;00:00, 2699.58 examples/s]"
          }
        },
        "a8bb00a2df34476d9b13abb6c22e6880": {
          "model_module": "@jupyter-widgets/base",
          "model_name": "LayoutModel",
          "model_module_version": "1.2.0",
          "state": {
            "_model_module": "@jupyter-widgets/base",
            "_model_module_version": "1.2.0",
            "_model_name": "LayoutModel",
            "_view_count": null,
            "_view_module": "@jupyter-widgets/base",
            "_view_module_version": "1.2.0",
            "_view_name": "LayoutView",
            "align_content": null,
            "align_items": null,
            "align_self": null,
            "border": null,
            "bottom": null,
            "display": null,
            "flex": null,
            "flex_flow": null,
            "grid_area": null,
            "grid_auto_columns": null,
            "grid_auto_flow": null,
            "grid_auto_rows": null,
            "grid_column": null,
            "grid_gap": null,
            "grid_row": null,
            "grid_template_areas": null,
            "grid_template_columns": null,
            "grid_template_rows": null,
            "height": null,
            "justify_content": null,
            "justify_items": null,
            "left": null,
            "margin": null,
            "max_height": null,
            "max_width": null,
            "min_height": null,
            "min_width": null,
            "object_fit": null,
            "object_position": null,
            "order": null,
            "overflow": null,
            "overflow_x": null,
            "overflow_y": null,
            "padding": null,
            "right": null,
            "top": null,
            "visibility": "hidden",
            "width": null
          }
        },
        "15ffda063e874636b45ac7728b32d336": {
          "model_module": "@jupyter-widgets/base",
          "model_name": "LayoutModel",
          "model_module_version": "1.2.0",
          "state": {
            "_model_module": "@jupyter-widgets/base",
            "_model_module_version": "1.2.0",
            "_model_name": "LayoutModel",
            "_view_count": null,
            "_view_module": "@jupyter-widgets/base",
            "_view_module_version": "1.2.0",
            "_view_name": "LayoutView",
            "align_content": null,
            "align_items": null,
            "align_self": null,
            "border": null,
            "bottom": null,
            "display": null,
            "flex": null,
            "flex_flow": null,
            "grid_area": null,
            "grid_auto_columns": null,
            "grid_auto_flow": null,
            "grid_auto_rows": null,
            "grid_column": null,
            "grid_gap": null,
            "grid_row": null,
            "grid_template_areas": null,
            "grid_template_columns": null,
            "grid_template_rows": null,
            "height": null,
            "justify_content": null,
            "justify_items": null,
            "left": null,
            "margin": null,
            "max_height": null,
            "max_width": null,
            "min_height": null,
            "min_width": null,
            "object_fit": null,
            "object_position": null,
            "order": null,
            "overflow": null,
            "overflow_x": null,
            "overflow_y": null,
            "padding": null,
            "right": null,
            "top": null,
            "visibility": null,
            "width": null
          }
        },
        "1cbd5e7358364abba2ae59bc1cabc593": {
          "model_module": "@jupyter-widgets/controls",
          "model_name": "DescriptionStyleModel",
          "model_module_version": "1.5.0",
          "state": {
            "_model_module": "@jupyter-widgets/controls",
            "_model_module_version": "1.5.0",
            "_model_name": "DescriptionStyleModel",
            "_view_count": null,
            "_view_module": "@jupyter-widgets/base",
            "_view_module_version": "1.2.0",
            "_view_name": "StyleView",
            "description_width": ""
          }
        },
        "1c2e07b95ef844e3aed7850461613fdc": {
          "model_module": "@jupyter-widgets/base",
          "model_name": "LayoutModel",
          "model_module_version": "1.2.0",
          "state": {
            "_model_module": "@jupyter-widgets/base",
            "_model_module_version": "1.2.0",
            "_model_name": "LayoutModel",
            "_view_count": null,
            "_view_module": "@jupyter-widgets/base",
            "_view_module_version": "1.2.0",
            "_view_name": "LayoutView",
            "align_content": null,
            "align_items": null,
            "align_self": null,
            "border": null,
            "bottom": null,
            "display": null,
            "flex": null,
            "flex_flow": null,
            "grid_area": null,
            "grid_auto_columns": null,
            "grid_auto_flow": null,
            "grid_auto_rows": null,
            "grid_column": null,
            "grid_gap": null,
            "grid_row": null,
            "grid_template_areas": null,
            "grid_template_columns": null,
            "grid_template_rows": null,
            "height": null,
            "justify_content": null,
            "justify_items": null,
            "left": null,
            "margin": null,
            "max_height": null,
            "max_width": null,
            "min_height": null,
            "min_width": null,
            "object_fit": null,
            "object_position": null,
            "order": null,
            "overflow": null,
            "overflow_x": null,
            "overflow_y": null,
            "padding": null,
            "right": null,
            "top": null,
            "visibility": null,
            "width": null
          }
        },
        "3ada7ec7b18d40ed82cfbba46a33c7f7": {
          "model_module": "@jupyter-widgets/controls",
          "model_name": "ProgressStyleModel",
          "model_module_version": "1.5.0",
          "state": {
            "_model_module": "@jupyter-widgets/controls",
            "_model_module_version": "1.5.0",
            "_model_name": "ProgressStyleModel",
            "_view_count": null,
            "_view_module": "@jupyter-widgets/base",
            "_view_module_version": "1.2.0",
            "_view_name": "StyleView",
            "bar_color": null,
            "description_width": ""
          }
        },
        "b44032cab8944deca9461bc29e313da7": {
          "model_module": "@jupyter-widgets/base",
          "model_name": "LayoutModel",
          "model_module_version": "1.2.0",
          "state": {
            "_model_module": "@jupyter-widgets/base",
            "_model_module_version": "1.2.0",
            "_model_name": "LayoutModel",
            "_view_count": null,
            "_view_module": "@jupyter-widgets/base",
            "_view_module_version": "1.2.0",
            "_view_name": "LayoutView",
            "align_content": null,
            "align_items": null,
            "align_self": null,
            "border": null,
            "bottom": null,
            "display": null,
            "flex": null,
            "flex_flow": null,
            "grid_area": null,
            "grid_auto_columns": null,
            "grid_auto_flow": null,
            "grid_auto_rows": null,
            "grid_column": null,
            "grid_gap": null,
            "grid_row": null,
            "grid_template_areas": null,
            "grid_template_columns": null,
            "grid_template_rows": null,
            "height": null,
            "justify_content": null,
            "justify_items": null,
            "left": null,
            "margin": null,
            "max_height": null,
            "max_width": null,
            "min_height": null,
            "min_width": null,
            "object_fit": null,
            "object_position": null,
            "order": null,
            "overflow": null,
            "overflow_x": null,
            "overflow_y": null,
            "padding": null,
            "right": null,
            "top": null,
            "visibility": null,
            "width": null
          }
        },
        "a9cc7c7a52f440a2ba66c5bba3848557": {
          "model_module": "@jupyter-widgets/controls",
          "model_name": "DescriptionStyleModel",
          "model_module_version": "1.5.0",
          "state": {
            "_model_module": "@jupyter-widgets/controls",
            "_model_module_version": "1.5.0",
            "_model_name": "DescriptionStyleModel",
            "_view_count": null,
            "_view_module": "@jupyter-widgets/base",
            "_view_module_version": "1.2.0",
            "_view_name": "StyleView",
            "description_width": ""
          }
        },
        "a9511763a3e747a189bc303fa5acd5ac": {
          "model_module": "@jupyter-widgets/controls",
          "model_name": "HBoxModel",
          "model_module_version": "1.5.0",
          "state": {
            "_dom_classes": [],
            "_model_module": "@jupyter-widgets/controls",
            "_model_module_version": "1.5.0",
            "_model_name": "HBoxModel",
            "_view_count": null,
            "_view_module": "@jupyter-widgets/controls",
            "_view_module_version": "1.5.0",
            "_view_name": "HBoxView",
            "box_style": "",
            "children": [
              "IPY_MODEL_606c8ebafb6544108e5766b551439809",
              "IPY_MODEL_0e6072e88f8f4ab2b8ce05c6938823fd",
              "IPY_MODEL_2ae766f8f77a4e4f9b3c7892f664ab9c"
            ],
            "layout": "IPY_MODEL_a8c24e7829134ff0a7c05c35c8cb3cb5"
          }
        },
        "606c8ebafb6544108e5766b551439809": {
          "model_module": "@jupyter-widgets/controls",
          "model_name": "HTMLModel",
          "model_module_version": "1.5.0",
          "state": {
            "_dom_classes": [],
            "_model_module": "@jupyter-widgets/controls",
            "_model_module_version": "1.5.0",
            "_model_name": "HTMLModel",
            "_view_count": null,
            "_view_module": "@jupyter-widgets/controls",
            "_view_module_version": "1.5.0",
            "_view_name": "HTMLView",
            "description": "",
            "description_tooltip": null,
            "layout": "IPY_MODEL_e5104b3076c749d88ecaf365a8a22006",
            "placeholder": "​",
            "style": "IPY_MODEL_aa1fd4f4a8ab4ebd9b6f001cac90b996",
            "value": "Downloading (…)lve/main/config.json: 100%"
          }
        },
        "0e6072e88f8f4ab2b8ce05c6938823fd": {
          "model_module": "@jupyter-widgets/controls",
          "model_name": "FloatProgressModel",
          "model_module_version": "1.5.0",
          "state": {
            "_dom_classes": [],
            "_model_module": "@jupyter-widgets/controls",
            "_model_module_version": "1.5.0",
            "_model_name": "FloatProgressModel",
            "_view_count": null,
            "_view_module": "@jupyter-widgets/controls",
            "_view_module_version": "1.5.0",
            "_view_name": "ProgressView",
            "bar_style": "success",
            "description": "",
            "description_tooltip": null,
            "layout": "IPY_MODEL_190fac655ad54a7b8aa2b05a352e2bc4",
            "max": 629,
            "min": 0,
            "orientation": "horizontal",
            "style": "IPY_MODEL_dadecb0da69c4ea894535947e70f5a35",
            "value": 629
          }
        },
        "2ae766f8f77a4e4f9b3c7892f664ab9c": {
          "model_module": "@jupyter-widgets/controls",
          "model_name": "HTMLModel",
          "model_module_version": "1.5.0",
          "state": {
            "_dom_classes": [],
            "_model_module": "@jupyter-widgets/controls",
            "_model_module_version": "1.5.0",
            "_model_name": "HTMLModel",
            "_view_count": null,
            "_view_module": "@jupyter-widgets/controls",
            "_view_module_version": "1.5.0",
            "_view_name": "HTMLView",
            "description": "",
            "description_tooltip": null,
            "layout": "IPY_MODEL_6c4c1122f7b24ae4bb3981414f031924",
            "placeholder": "​",
            "style": "IPY_MODEL_0bef5512b9714be69f23d81e081ead12",
            "value": " 629/629 [00:00&lt;00:00, 16.4kB/s]"
          }
        },
        "a8c24e7829134ff0a7c05c35c8cb3cb5": {
          "model_module": "@jupyter-widgets/base",
          "model_name": "LayoutModel",
          "model_module_version": "1.2.0",
          "state": {
            "_model_module": "@jupyter-widgets/base",
            "_model_module_version": "1.2.0",
            "_model_name": "LayoutModel",
            "_view_count": null,
            "_view_module": "@jupyter-widgets/base",
            "_view_module_version": "1.2.0",
            "_view_name": "LayoutView",
            "align_content": null,
            "align_items": null,
            "align_self": null,
            "border": null,
            "bottom": null,
            "display": null,
            "flex": null,
            "flex_flow": null,
            "grid_area": null,
            "grid_auto_columns": null,
            "grid_auto_flow": null,
            "grid_auto_rows": null,
            "grid_column": null,
            "grid_gap": null,
            "grid_row": null,
            "grid_template_areas": null,
            "grid_template_columns": null,
            "grid_template_rows": null,
            "height": null,
            "justify_content": null,
            "justify_items": null,
            "left": null,
            "margin": null,
            "max_height": null,
            "max_width": null,
            "min_height": null,
            "min_width": null,
            "object_fit": null,
            "object_position": null,
            "order": null,
            "overflow": null,
            "overflow_x": null,
            "overflow_y": null,
            "padding": null,
            "right": null,
            "top": null,
            "visibility": null,
            "width": null
          }
        },
        "e5104b3076c749d88ecaf365a8a22006": {
          "model_module": "@jupyter-widgets/base",
          "model_name": "LayoutModel",
          "model_module_version": "1.2.0",
          "state": {
            "_model_module": "@jupyter-widgets/base",
            "_model_module_version": "1.2.0",
            "_model_name": "LayoutModel",
            "_view_count": null,
            "_view_module": "@jupyter-widgets/base",
            "_view_module_version": "1.2.0",
            "_view_name": "LayoutView",
            "align_content": null,
            "align_items": null,
            "align_self": null,
            "border": null,
            "bottom": null,
            "display": null,
            "flex": null,
            "flex_flow": null,
            "grid_area": null,
            "grid_auto_columns": null,
            "grid_auto_flow": null,
            "grid_auto_rows": null,
            "grid_column": null,
            "grid_gap": null,
            "grid_row": null,
            "grid_template_areas": null,
            "grid_template_columns": null,
            "grid_template_rows": null,
            "height": null,
            "justify_content": null,
            "justify_items": null,
            "left": null,
            "margin": null,
            "max_height": null,
            "max_width": null,
            "min_height": null,
            "min_width": null,
            "object_fit": null,
            "object_position": null,
            "order": null,
            "overflow": null,
            "overflow_x": null,
            "overflow_y": null,
            "padding": null,
            "right": null,
            "top": null,
            "visibility": null,
            "width": null
          }
        },
        "aa1fd4f4a8ab4ebd9b6f001cac90b996": {
          "model_module": "@jupyter-widgets/controls",
          "model_name": "DescriptionStyleModel",
          "model_module_version": "1.5.0",
          "state": {
            "_model_module": "@jupyter-widgets/controls",
            "_model_module_version": "1.5.0",
            "_model_name": "DescriptionStyleModel",
            "_view_count": null,
            "_view_module": "@jupyter-widgets/base",
            "_view_module_version": "1.2.0",
            "_view_name": "StyleView",
            "description_width": ""
          }
        },
        "190fac655ad54a7b8aa2b05a352e2bc4": {
          "model_module": "@jupyter-widgets/base",
          "model_name": "LayoutModel",
          "model_module_version": "1.2.0",
          "state": {
            "_model_module": "@jupyter-widgets/base",
            "_model_module_version": "1.2.0",
            "_model_name": "LayoutModel",
            "_view_count": null,
            "_view_module": "@jupyter-widgets/base",
            "_view_module_version": "1.2.0",
            "_view_name": "LayoutView",
            "align_content": null,
            "align_items": null,
            "align_self": null,
            "border": null,
            "bottom": null,
            "display": null,
            "flex": null,
            "flex_flow": null,
            "grid_area": null,
            "grid_auto_columns": null,
            "grid_auto_flow": null,
            "grid_auto_rows": null,
            "grid_column": null,
            "grid_gap": null,
            "grid_row": null,
            "grid_template_areas": null,
            "grid_template_columns": null,
            "grid_template_rows": null,
            "height": null,
            "justify_content": null,
            "justify_items": null,
            "left": null,
            "margin": null,
            "max_height": null,
            "max_width": null,
            "min_height": null,
            "min_width": null,
            "object_fit": null,
            "object_position": null,
            "order": null,
            "overflow": null,
            "overflow_x": null,
            "overflow_y": null,
            "padding": null,
            "right": null,
            "top": null,
            "visibility": null,
            "width": null
          }
        },
        "dadecb0da69c4ea894535947e70f5a35": {
          "model_module": "@jupyter-widgets/controls",
          "model_name": "ProgressStyleModel",
          "model_module_version": "1.5.0",
          "state": {
            "_model_module": "@jupyter-widgets/controls",
            "_model_module_version": "1.5.0",
            "_model_name": "ProgressStyleModel",
            "_view_count": null,
            "_view_module": "@jupyter-widgets/base",
            "_view_module_version": "1.2.0",
            "_view_name": "StyleView",
            "bar_color": null,
            "description_width": ""
          }
        },
        "6c4c1122f7b24ae4bb3981414f031924": {
          "model_module": "@jupyter-widgets/base",
          "model_name": "LayoutModel",
          "model_module_version": "1.2.0",
          "state": {
            "_model_module": "@jupyter-widgets/base",
            "_model_module_version": "1.2.0",
            "_model_name": "LayoutModel",
            "_view_count": null,
            "_view_module": "@jupyter-widgets/base",
            "_view_module_version": "1.2.0",
            "_view_name": "LayoutView",
            "align_content": null,
            "align_items": null,
            "align_self": null,
            "border": null,
            "bottom": null,
            "display": null,
            "flex": null,
            "flex_flow": null,
            "grid_area": null,
            "grid_auto_columns": null,
            "grid_auto_flow": null,
            "grid_auto_rows": null,
            "grid_column": null,
            "grid_gap": null,
            "grid_row": null,
            "grid_template_areas": null,
            "grid_template_columns": null,
            "grid_template_rows": null,
            "height": null,
            "justify_content": null,
            "justify_items": null,
            "left": null,
            "margin": null,
            "max_height": null,
            "max_width": null,
            "min_height": null,
            "min_width": null,
            "object_fit": null,
            "object_position": null,
            "order": null,
            "overflow": null,
            "overflow_x": null,
            "overflow_y": null,
            "padding": null,
            "right": null,
            "top": null,
            "visibility": null,
            "width": null
          }
        },
        "0bef5512b9714be69f23d81e081ead12": {
          "model_module": "@jupyter-widgets/controls",
          "model_name": "DescriptionStyleModel",
          "model_module_version": "1.5.0",
          "state": {
            "_model_module": "@jupyter-widgets/controls",
            "_model_module_version": "1.5.0",
            "_model_name": "DescriptionStyleModel",
            "_view_count": null,
            "_view_module": "@jupyter-widgets/base",
            "_view_module_version": "1.2.0",
            "_view_name": "StyleView",
            "description_width": ""
          }
        },
        "c3f676d6d03c4246bb5d97f5298b25b1": {
          "model_module": "@jupyter-widgets/controls",
          "model_name": "HBoxModel",
          "model_module_version": "1.5.0",
          "state": {
            "_dom_classes": [],
            "_model_module": "@jupyter-widgets/controls",
            "_model_module_version": "1.5.0",
            "_model_name": "HBoxModel",
            "_view_count": null,
            "_view_module": "@jupyter-widgets/controls",
            "_view_module_version": "1.5.0",
            "_view_name": "HBoxView",
            "box_style": "",
            "children": [
              "IPY_MODEL_3128ee9144614a74a3c1277333ac966e",
              "IPY_MODEL_dd306c99a1d143c1b5bd93285f9c065a",
              "IPY_MODEL_0ec018623d254ac691b5a8a58fa73546"
            ],
            "layout": "IPY_MODEL_1d71fdcbe50341d7b4f137cf9c756fad"
          }
        },
        "3128ee9144614a74a3c1277333ac966e": {
          "model_module": "@jupyter-widgets/controls",
          "model_name": "HTMLModel",
          "model_module_version": "1.5.0",
          "state": {
            "_dom_classes": [],
            "_model_module": "@jupyter-widgets/controls",
            "_model_module_version": "1.5.0",
            "_model_name": "HTMLModel",
            "_view_count": null,
            "_view_module": "@jupyter-widgets/controls",
            "_view_module_version": "1.5.0",
            "_view_name": "HTMLView",
            "description": "",
            "description_tooltip": null,
            "layout": "IPY_MODEL_62a6d9a60b784454bed98a6b39e8d8c9",
            "placeholder": "​",
            "style": "IPY_MODEL_56c91b0751dd4a3c868b9f6828af2117",
            "value": "Downloading pytorch_model.bin: 100%"
          }
        },
        "dd306c99a1d143c1b5bd93285f9c065a": {
          "model_module": "@jupyter-widgets/controls",
          "model_name": "FloatProgressModel",
          "model_module_version": "1.5.0",
          "state": {
            "_dom_classes": [],
            "_model_module": "@jupyter-widgets/controls",
            "_model_module_version": "1.5.0",
            "_model_name": "FloatProgressModel",
            "_view_count": null,
            "_view_module": "@jupyter-widgets/controls",
            "_view_module_version": "1.5.0",
            "_view_name": "ProgressView",
            "bar_style": "success",
            "description": "",
            "description_tooltip": null,
            "layout": "IPY_MODEL_d22a0dd8cf2340629f523cd65bfc2a08",
            "max": 267844284,
            "min": 0,
            "orientation": "horizontal",
            "style": "IPY_MODEL_2df87536841f484593d04c6d81142325",
            "value": 267844284
          }
        },
        "0ec018623d254ac691b5a8a58fa73546": {
          "model_module": "@jupyter-widgets/controls",
          "model_name": "HTMLModel",
          "model_module_version": "1.5.0",
          "state": {
            "_dom_classes": [],
            "_model_module": "@jupyter-widgets/controls",
            "_model_module_version": "1.5.0",
            "_model_name": "HTMLModel",
            "_view_count": null,
            "_view_module": "@jupyter-widgets/controls",
            "_view_module_version": "1.5.0",
            "_view_name": "HTMLView",
            "description": "",
            "description_tooltip": null,
            "layout": "IPY_MODEL_ac127b853bd74daa8b9333ac0542b6f5",
            "placeholder": "​",
            "style": "IPY_MODEL_0737b979b49742b9a25b335a4fa75388",
            "value": " 268M/268M [00:07&lt;00:00, 25.6MB/s]"
          }
        },
        "1d71fdcbe50341d7b4f137cf9c756fad": {
          "model_module": "@jupyter-widgets/base",
          "model_name": "LayoutModel",
          "model_module_version": "1.2.0",
          "state": {
            "_model_module": "@jupyter-widgets/base",
            "_model_module_version": "1.2.0",
            "_model_name": "LayoutModel",
            "_view_count": null,
            "_view_module": "@jupyter-widgets/base",
            "_view_module_version": "1.2.0",
            "_view_name": "LayoutView",
            "align_content": null,
            "align_items": null,
            "align_self": null,
            "border": null,
            "bottom": null,
            "display": null,
            "flex": null,
            "flex_flow": null,
            "grid_area": null,
            "grid_auto_columns": null,
            "grid_auto_flow": null,
            "grid_auto_rows": null,
            "grid_column": null,
            "grid_gap": null,
            "grid_row": null,
            "grid_template_areas": null,
            "grid_template_columns": null,
            "grid_template_rows": null,
            "height": null,
            "justify_content": null,
            "justify_items": null,
            "left": null,
            "margin": null,
            "max_height": null,
            "max_width": null,
            "min_height": null,
            "min_width": null,
            "object_fit": null,
            "object_position": null,
            "order": null,
            "overflow": null,
            "overflow_x": null,
            "overflow_y": null,
            "padding": null,
            "right": null,
            "top": null,
            "visibility": null,
            "width": null
          }
        },
        "62a6d9a60b784454bed98a6b39e8d8c9": {
          "model_module": "@jupyter-widgets/base",
          "model_name": "LayoutModel",
          "model_module_version": "1.2.0",
          "state": {
            "_model_module": "@jupyter-widgets/base",
            "_model_module_version": "1.2.0",
            "_model_name": "LayoutModel",
            "_view_count": null,
            "_view_module": "@jupyter-widgets/base",
            "_view_module_version": "1.2.0",
            "_view_name": "LayoutView",
            "align_content": null,
            "align_items": null,
            "align_self": null,
            "border": null,
            "bottom": null,
            "display": null,
            "flex": null,
            "flex_flow": null,
            "grid_area": null,
            "grid_auto_columns": null,
            "grid_auto_flow": null,
            "grid_auto_rows": null,
            "grid_column": null,
            "grid_gap": null,
            "grid_row": null,
            "grid_template_areas": null,
            "grid_template_columns": null,
            "grid_template_rows": null,
            "height": null,
            "justify_content": null,
            "justify_items": null,
            "left": null,
            "margin": null,
            "max_height": null,
            "max_width": null,
            "min_height": null,
            "min_width": null,
            "object_fit": null,
            "object_position": null,
            "order": null,
            "overflow": null,
            "overflow_x": null,
            "overflow_y": null,
            "padding": null,
            "right": null,
            "top": null,
            "visibility": null,
            "width": null
          }
        },
        "56c91b0751dd4a3c868b9f6828af2117": {
          "model_module": "@jupyter-widgets/controls",
          "model_name": "DescriptionStyleModel",
          "model_module_version": "1.5.0",
          "state": {
            "_model_module": "@jupyter-widgets/controls",
            "_model_module_version": "1.5.0",
            "_model_name": "DescriptionStyleModel",
            "_view_count": null,
            "_view_module": "@jupyter-widgets/base",
            "_view_module_version": "1.2.0",
            "_view_name": "StyleView",
            "description_width": ""
          }
        },
        "d22a0dd8cf2340629f523cd65bfc2a08": {
          "model_module": "@jupyter-widgets/base",
          "model_name": "LayoutModel",
          "model_module_version": "1.2.0",
          "state": {
            "_model_module": "@jupyter-widgets/base",
            "_model_module_version": "1.2.0",
            "_model_name": "LayoutModel",
            "_view_count": null,
            "_view_module": "@jupyter-widgets/base",
            "_view_module_version": "1.2.0",
            "_view_name": "LayoutView",
            "align_content": null,
            "align_items": null,
            "align_self": null,
            "border": null,
            "bottom": null,
            "display": null,
            "flex": null,
            "flex_flow": null,
            "grid_area": null,
            "grid_auto_columns": null,
            "grid_auto_flow": null,
            "grid_auto_rows": null,
            "grid_column": null,
            "grid_gap": null,
            "grid_row": null,
            "grid_template_areas": null,
            "grid_template_columns": null,
            "grid_template_rows": null,
            "height": null,
            "justify_content": null,
            "justify_items": null,
            "left": null,
            "margin": null,
            "max_height": null,
            "max_width": null,
            "min_height": null,
            "min_width": null,
            "object_fit": null,
            "object_position": null,
            "order": null,
            "overflow": null,
            "overflow_x": null,
            "overflow_y": null,
            "padding": null,
            "right": null,
            "top": null,
            "visibility": null,
            "width": null
          }
        },
        "2df87536841f484593d04c6d81142325": {
          "model_module": "@jupyter-widgets/controls",
          "model_name": "ProgressStyleModel",
          "model_module_version": "1.5.0",
          "state": {
            "_model_module": "@jupyter-widgets/controls",
            "_model_module_version": "1.5.0",
            "_model_name": "ProgressStyleModel",
            "_view_count": null,
            "_view_module": "@jupyter-widgets/base",
            "_view_module_version": "1.2.0",
            "_view_name": "StyleView",
            "bar_color": null,
            "description_width": ""
          }
        },
        "ac127b853bd74daa8b9333ac0542b6f5": {
          "model_module": "@jupyter-widgets/base",
          "model_name": "LayoutModel",
          "model_module_version": "1.2.0",
          "state": {
            "_model_module": "@jupyter-widgets/base",
            "_model_module_version": "1.2.0",
            "_model_name": "LayoutModel",
            "_view_count": null,
            "_view_module": "@jupyter-widgets/base",
            "_view_module_version": "1.2.0",
            "_view_name": "LayoutView",
            "align_content": null,
            "align_items": null,
            "align_self": null,
            "border": null,
            "bottom": null,
            "display": null,
            "flex": null,
            "flex_flow": null,
            "grid_area": null,
            "grid_auto_columns": null,
            "grid_auto_flow": null,
            "grid_auto_rows": null,
            "grid_column": null,
            "grid_gap": null,
            "grid_row": null,
            "grid_template_areas": null,
            "grid_template_columns": null,
            "grid_template_rows": null,
            "height": null,
            "justify_content": null,
            "justify_items": null,
            "left": null,
            "margin": null,
            "max_height": null,
            "max_width": null,
            "min_height": null,
            "min_width": null,
            "object_fit": null,
            "object_position": null,
            "order": null,
            "overflow": null,
            "overflow_x": null,
            "overflow_y": null,
            "padding": null,
            "right": null,
            "top": null,
            "visibility": null,
            "width": null
          }
        },
        "0737b979b49742b9a25b335a4fa75388": {
          "model_module": "@jupyter-widgets/controls",
          "model_name": "DescriptionStyleModel",
          "model_module_version": "1.5.0",
          "state": {
            "_model_module": "@jupyter-widgets/controls",
            "_model_module_version": "1.5.0",
            "_model_name": "DescriptionStyleModel",
            "_view_count": null,
            "_view_module": "@jupyter-widgets/base",
            "_view_module_version": "1.2.0",
            "_view_name": "StyleView",
            "description_width": ""
          }
        },
        "6a85097545a64e3484f4d8ec3ee4cb34": {
          "model_module": "@jupyter-widgets/controls",
          "model_name": "HBoxModel",
          "model_module_version": "1.5.0",
          "state": {
            "_dom_classes": [],
            "_model_module": "@jupyter-widgets/controls",
            "_model_module_version": "1.5.0",
            "_model_name": "HBoxModel",
            "_view_count": null,
            "_view_module": "@jupyter-widgets/controls",
            "_view_module_version": "1.5.0",
            "_view_name": "HBoxView",
            "box_style": "",
            "children": [
              "IPY_MODEL_1f4ec943788349a8933b70df77f06a42",
              "IPY_MODEL_c5aedb2e3a5a4cbca9b2aa1d28a1b84e",
              "IPY_MODEL_3094d6437bc44f0891716f2ebcc603bd"
            ],
            "layout": "IPY_MODEL_7299c16d0903428b948a5d28249bfee3"
          }
        },
        "1f4ec943788349a8933b70df77f06a42": {
          "model_module": "@jupyter-widgets/controls",
          "model_name": "HTMLModel",
          "model_module_version": "1.5.0",
          "state": {
            "_dom_classes": [],
            "_model_module": "@jupyter-widgets/controls",
            "_model_module_version": "1.5.0",
            "_model_name": "HTMLModel",
            "_view_count": null,
            "_view_module": "@jupyter-widgets/controls",
            "_view_module_version": "1.5.0",
            "_view_name": "HTMLView",
            "description": "",
            "description_tooltip": null,
            "layout": "IPY_MODEL_d685df1d3db540c992e95bde5fdc11d3",
            "placeholder": "​",
            "style": "IPY_MODEL_3c30ee2dacd24d12988ebe5abe2e8839",
            "value": "Downloading (…)okenizer_config.json: 100%"
          }
        },
        "c5aedb2e3a5a4cbca9b2aa1d28a1b84e": {
          "model_module": "@jupyter-widgets/controls",
          "model_name": "FloatProgressModel",
          "model_module_version": "1.5.0",
          "state": {
            "_dom_classes": [],
            "_model_module": "@jupyter-widgets/controls",
            "_model_module_version": "1.5.0",
            "_model_name": "FloatProgressModel",
            "_view_count": null,
            "_view_module": "@jupyter-widgets/controls",
            "_view_module_version": "1.5.0",
            "_view_name": "ProgressView",
            "bar_style": "success",
            "description": "",
            "description_tooltip": null,
            "layout": "IPY_MODEL_1fdcb739cd23402fb04c9f29178e9f8e",
            "max": 48,
            "min": 0,
            "orientation": "horizontal",
            "style": "IPY_MODEL_3f70a79050d249cba5b9f0986e41794e",
            "value": 48
          }
        },
        "3094d6437bc44f0891716f2ebcc603bd": {
          "model_module": "@jupyter-widgets/controls",
          "model_name": "HTMLModel",
          "model_module_version": "1.5.0",
          "state": {
            "_dom_classes": [],
            "_model_module": "@jupyter-widgets/controls",
            "_model_module_version": "1.5.0",
            "_model_name": "HTMLModel",
            "_view_count": null,
            "_view_module": "@jupyter-widgets/controls",
            "_view_module_version": "1.5.0",
            "_view_name": "HTMLView",
            "description": "",
            "description_tooltip": null,
            "layout": "IPY_MODEL_f4dff6d2e4744f00a3960ff664565236",
            "placeholder": "​",
            "style": "IPY_MODEL_0fa05901eeb14d208573f93967e78877",
            "value": " 48.0/48.0 [00:00&lt;00:00, 511B/s]"
          }
        },
        "7299c16d0903428b948a5d28249bfee3": {
          "model_module": "@jupyter-widgets/base",
          "model_name": "LayoutModel",
          "model_module_version": "1.2.0",
          "state": {
            "_model_module": "@jupyter-widgets/base",
            "_model_module_version": "1.2.0",
            "_model_name": "LayoutModel",
            "_view_count": null,
            "_view_module": "@jupyter-widgets/base",
            "_view_module_version": "1.2.0",
            "_view_name": "LayoutView",
            "align_content": null,
            "align_items": null,
            "align_self": null,
            "border": null,
            "bottom": null,
            "display": null,
            "flex": null,
            "flex_flow": null,
            "grid_area": null,
            "grid_auto_columns": null,
            "grid_auto_flow": null,
            "grid_auto_rows": null,
            "grid_column": null,
            "grid_gap": null,
            "grid_row": null,
            "grid_template_areas": null,
            "grid_template_columns": null,
            "grid_template_rows": null,
            "height": null,
            "justify_content": null,
            "justify_items": null,
            "left": null,
            "margin": null,
            "max_height": null,
            "max_width": null,
            "min_height": null,
            "min_width": null,
            "object_fit": null,
            "object_position": null,
            "order": null,
            "overflow": null,
            "overflow_x": null,
            "overflow_y": null,
            "padding": null,
            "right": null,
            "top": null,
            "visibility": null,
            "width": null
          }
        },
        "d685df1d3db540c992e95bde5fdc11d3": {
          "model_module": "@jupyter-widgets/base",
          "model_name": "LayoutModel",
          "model_module_version": "1.2.0",
          "state": {
            "_model_module": "@jupyter-widgets/base",
            "_model_module_version": "1.2.0",
            "_model_name": "LayoutModel",
            "_view_count": null,
            "_view_module": "@jupyter-widgets/base",
            "_view_module_version": "1.2.0",
            "_view_name": "LayoutView",
            "align_content": null,
            "align_items": null,
            "align_self": null,
            "border": null,
            "bottom": null,
            "display": null,
            "flex": null,
            "flex_flow": null,
            "grid_area": null,
            "grid_auto_columns": null,
            "grid_auto_flow": null,
            "grid_auto_rows": null,
            "grid_column": null,
            "grid_gap": null,
            "grid_row": null,
            "grid_template_areas": null,
            "grid_template_columns": null,
            "grid_template_rows": null,
            "height": null,
            "justify_content": null,
            "justify_items": null,
            "left": null,
            "margin": null,
            "max_height": null,
            "max_width": null,
            "min_height": null,
            "min_width": null,
            "object_fit": null,
            "object_position": null,
            "order": null,
            "overflow": null,
            "overflow_x": null,
            "overflow_y": null,
            "padding": null,
            "right": null,
            "top": null,
            "visibility": null,
            "width": null
          }
        },
        "3c30ee2dacd24d12988ebe5abe2e8839": {
          "model_module": "@jupyter-widgets/controls",
          "model_name": "DescriptionStyleModel",
          "model_module_version": "1.5.0",
          "state": {
            "_model_module": "@jupyter-widgets/controls",
            "_model_module_version": "1.5.0",
            "_model_name": "DescriptionStyleModel",
            "_view_count": null,
            "_view_module": "@jupyter-widgets/base",
            "_view_module_version": "1.2.0",
            "_view_name": "StyleView",
            "description_width": ""
          }
        },
        "1fdcb739cd23402fb04c9f29178e9f8e": {
          "model_module": "@jupyter-widgets/base",
          "model_name": "LayoutModel",
          "model_module_version": "1.2.0",
          "state": {
            "_model_module": "@jupyter-widgets/base",
            "_model_module_version": "1.2.0",
            "_model_name": "LayoutModel",
            "_view_count": null,
            "_view_module": "@jupyter-widgets/base",
            "_view_module_version": "1.2.0",
            "_view_name": "LayoutView",
            "align_content": null,
            "align_items": null,
            "align_self": null,
            "border": null,
            "bottom": null,
            "display": null,
            "flex": null,
            "flex_flow": null,
            "grid_area": null,
            "grid_auto_columns": null,
            "grid_auto_flow": null,
            "grid_auto_rows": null,
            "grid_column": null,
            "grid_gap": null,
            "grid_row": null,
            "grid_template_areas": null,
            "grid_template_columns": null,
            "grid_template_rows": null,
            "height": null,
            "justify_content": null,
            "justify_items": null,
            "left": null,
            "margin": null,
            "max_height": null,
            "max_width": null,
            "min_height": null,
            "min_width": null,
            "object_fit": null,
            "object_position": null,
            "order": null,
            "overflow": null,
            "overflow_x": null,
            "overflow_y": null,
            "padding": null,
            "right": null,
            "top": null,
            "visibility": null,
            "width": null
          }
        },
        "3f70a79050d249cba5b9f0986e41794e": {
          "model_module": "@jupyter-widgets/controls",
          "model_name": "ProgressStyleModel",
          "model_module_version": "1.5.0",
          "state": {
            "_model_module": "@jupyter-widgets/controls",
            "_model_module_version": "1.5.0",
            "_model_name": "ProgressStyleModel",
            "_view_count": null,
            "_view_module": "@jupyter-widgets/base",
            "_view_module_version": "1.2.0",
            "_view_name": "StyleView",
            "bar_color": null,
            "description_width": ""
          }
        },
        "f4dff6d2e4744f00a3960ff664565236": {
          "model_module": "@jupyter-widgets/base",
          "model_name": "LayoutModel",
          "model_module_version": "1.2.0",
          "state": {
            "_model_module": "@jupyter-widgets/base",
            "_model_module_version": "1.2.0",
            "_model_name": "LayoutModel",
            "_view_count": null,
            "_view_module": "@jupyter-widgets/base",
            "_view_module_version": "1.2.0",
            "_view_name": "LayoutView",
            "align_content": null,
            "align_items": null,
            "align_self": null,
            "border": null,
            "bottom": null,
            "display": null,
            "flex": null,
            "flex_flow": null,
            "grid_area": null,
            "grid_auto_columns": null,
            "grid_auto_flow": null,
            "grid_auto_rows": null,
            "grid_column": null,
            "grid_gap": null,
            "grid_row": null,
            "grid_template_areas": null,
            "grid_template_columns": null,
            "grid_template_rows": null,
            "height": null,
            "justify_content": null,
            "justify_items": null,
            "left": null,
            "margin": null,
            "max_height": null,
            "max_width": null,
            "min_height": null,
            "min_width": null,
            "object_fit": null,
            "object_position": null,
            "order": null,
            "overflow": null,
            "overflow_x": null,
            "overflow_y": null,
            "padding": null,
            "right": null,
            "top": null,
            "visibility": null,
            "width": null
          }
        },
        "0fa05901eeb14d208573f93967e78877": {
          "model_module": "@jupyter-widgets/controls",
          "model_name": "DescriptionStyleModel",
          "model_module_version": "1.5.0",
          "state": {
            "_model_module": "@jupyter-widgets/controls",
            "_model_module_version": "1.5.0",
            "_model_name": "DescriptionStyleModel",
            "_view_count": null,
            "_view_module": "@jupyter-widgets/base",
            "_view_module_version": "1.2.0",
            "_view_name": "StyleView",
            "description_width": ""
          }
        },
        "c27e558d1c5c445ebf5f1c1ac61ba16c": {
          "model_module": "@jupyter-widgets/controls",
          "model_name": "HBoxModel",
          "model_module_version": "1.5.0",
          "state": {
            "_dom_classes": [],
            "_model_module": "@jupyter-widgets/controls",
            "_model_module_version": "1.5.0",
            "_model_name": "HBoxModel",
            "_view_count": null,
            "_view_module": "@jupyter-widgets/controls",
            "_view_module_version": "1.5.0",
            "_view_name": "HBoxView",
            "box_style": "",
            "children": [
              "IPY_MODEL_94d1ab597566441ab5cf612cc01237b7",
              "IPY_MODEL_e6c1249c8f8b403c9bfa287496c4ecbe",
              "IPY_MODEL_e06837a860254834aa92271773ffa536"
            ],
            "layout": "IPY_MODEL_0aa2392a4a7f410c81b6293986588a28"
          }
        },
        "94d1ab597566441ab5cf612cc01237b7": {
          "model_module": "@jupyter-widgets/controls",
          "model_name": "HTMLModel",
          "model_module_version": "1.5.0",
          "state": {
            "_dom_classes": [],
            "_model_module": "@jupyter-widgets/controls",
            "_model_module_version": "1.5.0",
            "_model_name": "HTMLModel",
            "_view_count": null,
            "_view_module": "@jupyter-widgets/controls",
            "_view_module_version": "1.5.0",
            "_view_name": "HTMLView",
            "description": "",
            "description_tooltip": null,
            "layout": "IPY_MODEL_c432c51737104d228cab88d6bb43e0a4",
            "placeholder": "​",
            "style": "IPY_MODEL_fa042f522f444b8297dc9d2e62289823",
            "value": "Downloading (…)solve/main/vocab.txt: 100%"
          }
        },
        "e6c1249c8f8b403c9bfa287496c4ecbe": {
          "model_module": "@jupyter-widgets/controls",
          "model_name": "FloatProgressModel",
          "model_module_version": "1.5.0",
          "state": {
            "_dom_classes": [],
            "_model_module": "@jupyter-widgets/controls",
            "_model_module_version": "1.5.0",
            "_model_name": "FloatProgressModel",
            "_view_count": null,
            "_view_module": "@jupyter-widgets/controls",
            "_view_module_version": "1.5.0",
            "_view_name": "ProgressView",
            "bar_style": "success",
            "description": "",
            "description_tooltip": null,
            "layout": "IPY_MODEL_b59ddf22afc94feb82bf28cff560b717",
            "max": 231508,
            "min": 0,
            "orientation": "horizontal",
            "style": "IPY_MODEL_95b4595fd04d458ca83c67756efb3146",
            "value": 231508
          }
        },
        "e06837a860254834aa92271773ffa536": {
          "model_module": "@jupyter-widgets/controls",
          "model_name": "HTMLModel",
          "model_module_version": "1.5.0",
          "state": {
            "_dom_classes": [],
            "_model_module": "@jupyter-widgets/controls",
            "_model_module_version": "1.5.0",
            "_model_name": "HTMLModel",
            "_view_count": null,
            "_view_module": "@jupyter-widgets/controls",
            "_view_module_version": "1.5.0",
            "_view_name": "HTMLView",
            "description": "",
            "description_tooltip": null,
            "layout": "IPY_MODEL_7a3a053bbfa34bee9a4733d11759fee9",
            "placeholder": "​",
            "style": "IPY_MODEL_8d6b0187b08349cf8a0e03f5be33fac8",
            "value": " 232k/232k [00:00&lt;00:00, 1.81MB/s]"
          }
        },
        "0aa2392a4a7f410c81b6293986588a28": {
          "model_module": "@jupyter-widgets/base",
          "model_name": "LayoutModel",
          "model_module_version": "1.2.0",
          "state": {
            "_model_module": "@jupyter-widgets/base",
            "_model_module_version": "1.2.0",
            "_model_name": "LayoutModel",
            "_view_count": null,
            "_view_module": "@jupyter-widgets/base",
            "_view_module_version": "1.2.0",
            "_view_name": "LayoutView",
            "align_content": null,
            "align_items": null,
            "align_self": null,
            "border": null,
            "bottom": null,
            "display": null,
            "flex": null,
            "flex_flow": null,
            "grid_area": null,
            "grid_auto_columns": null,
            "grid_auto_flow": null,
            "grid_auto_rows": null,
            "grid_column": null,
            "grid_gap": null,
            "grid_row": null,
            "grid_template_areas": null,
            "grid_template_columns": null,
            "grid_template_rows": null,
            "height": null,
            "justify_content": null,
            "justify_items": null,
            "left": null,
            "margin": null,
            "max_height": null,
            "max_width": null,
            "min_height": null,
            "min_width": null,
            "object_fit": null,
            "object_position": null,
            "order": null,
            "overflow": null,
            "overflow_x": null,
            "overflow_y": null,
            "padding": null,
            "right": null,
            "top": null,
            "visibility": null,
            "width": null
          }
        },
        "c432c51737104d228cab88d6bb43e0a4": {
          "model_module": "@jupyter-widgets/base",
          "model_name": "LayoutModel",
          "model_module_version": "1.2.0",
          "state": {
            "_model_module": "@jupyter-widgets/base",
            "_model_module_version": "1.2.0",
            "_model_name": "LayoutModel",
            "_view_count": null,
            "_view_module": "@jupyter-widgets/base",
            "_view_module_version": "1.2.0",
            "_view_name": "LayoutView",
            "align_content": null,
            "align_items": null,
            "align_self": null,
            "border": null,
            "bottom": null,
            "display": null,
            "flex": null,
            "flex_flow": null,
            "grid_area": null,
            "grid_auto_columns": null,
            "grid_auto_flow": null,
            "grid_auto_rows": null,
            "grid_column": null,
            "grid_gap": null,
            "grid_row": null,
            "grid_template_areas": null,
            "grid_template_columns": null,
            "grid_template_rows": null,
            "height": null,
            "justify_content": null,
            "justify_items": null,
            "left": null,
            "margin": null,
            "max_height": null,
            "max_width": null,
            "min_height": null,
            "min_width": null,
            "object_fit": null,
            "object_position": null,
            "order": null,
            "overflow": null,
            "overflow_x": null,
            "overflow_y": null,
            "padding": null,
            "right": null,
            "top": null,
            "visibility": null,
            "width": null
          }
        },
        "fa042f522f444b8297dc9d2e62289823": {
          "model_module": "@jupyter-widgets/controls",
          "model_name": "DescriptionStyleModel",
          "model_module_version": "1.5.0",
          "state": {
            "_model_module": "@jupyter-widgets/controls",
            "_model_module_version": "1.5.0",
            "_model_name": "DescriptionStyleModel",
            "_view_count": null,
            "_view_module": "@jupyter-widgets/base",
            "_view_module_version": "1.2.0",
            "_view_name": "StyleView",
            "description_width": ""
          }
        },
        "b59ddf22afc94feb82bf28cff560b717": {
          "model_module": "@jupyter-widgets/base",
          "model_name": "LayoutModel",
          "model_module_version": "1.2.0",
          "state": {
            "_model_module": "@jupyter-widgets/base",
            "_model_module_version": "1.2.0",
            "_model_name": "LayoutModel",
            "_view_count": null,
            "_view_module": "@jupyter-widgets/base",
            "_view_module_version": "1.2.0",
            "_view_name": "LayoutView",
            "align_content": null,
            "align_items": null,
            "align_self": null,
            "border": null,
            "bottom": null,
            "display": null,
            "flex": null,
            "flex_flow": null,
            "grid_area": null,
            "grid_auto_columns": null,
            "grid_auto_flow": null,
            "grid_auto_rows": null,
            "grid_column": null,
            "grid_gap": null,
            "grid_row": null,
            "grid_template_areas": null,
            "grid_template_columns": null,
            "grid_template_rows": null,
            "height": null,
            "justify_content": null,
            "justify_items": null,
            "left": null,
            "margin": null,
            "max_height": null,
            "max_width": null,
            "min_height": null,
            "min_width": null,
            "object_fit": null,
            "object_position": null,
            "order": null,
            "overflow": null,
            "overflow_x": null,
            "overflow_y": null,
            "padding": null,
            "right": null,
            "top": null,
            "visibility": null,
            "width": null
          }
        },
        "95b4595fd04d458ca83c67756efb3146": {
          "model_module": "@jupyter-widgets/controls",
          "model_name": "ProgressStyleModel",
          "model_module_version": "1.5.0",
          "state": {
            "_model_module": "@jupyter-widgets/controls",
            "_model_module_version": "1.5.0",
            "_model_name": "ProgressStyleModel",
            "_view_count": null,
            "_view_module": "@jupyter-widgets/base",
            "_view_module_version": "1.2.0",
            "_view_name": "StyleView",
            "bar_color": null,
            "description_width": ""
          }
        },
        "7a3a053bbfa34bee9a4733d11759fee9": {
          "model_module": "@jupyter-widgets/base",
          "model_name": "LayoutModel",
          "model_module_version": "1.2.0",
          "state": {
            "_model_module": "@jupyter-widgets/base",
            "_model_module_version": "1.2.0",
            "_model_name": "LayoutModel",
            "_view_count": null,
            "_view_module": "@jupyter-widgets/base",
            "_view_module_version": "1.2.0",
            "_view_name": "LayoutView",
            "align_content": null,
            "align_items": null,
            "align_self": null,
            "border": null,
            "bottom": null,
            "display": null,
            "flex": null,
            "flex_flow": null,
            "grid_area": null,
            "grid_auto_columns": null,
            "grid_auto_flow": null,
            "grid_auto_rows": null,
            "grid_column": null,
            "grid_gap": null,
            "grid_row": null,
            "grid_template_areas": null,
            "grid_template_columns": null,
            "grid_template_rows": null,
            "height": null,
            "justify_content": null,
            "justify_items": null,
            "left": null,
            "margin": null,
            "max_height": null,
            "max_width": null,
            "min_height": null,
            "min_width": null,
            "object_fit": null,
            "object_position": null,
            "order": null,
            "overflow": null,
            "overflow_x": null,
            "overflow_y": null,
            "padding": null,
            "right": null,
            "top": null,
            "visibility": null,
            "width": null
          }
        },
        "8d6b0187b08349cf8a0e03f5be33fac8": {
          "model_module": "@jupyter-widgets/controls",
          "model_name": "DescriptionStyleModel",
          "model_module_version": "1.5.0",
          "state": {
            "_model_module": "@jupyter-widgets/controls",
            "_model_module_version": "1.5.0",
            "_model_name": "DescriptionStyleModel",
            "_view_count": null,
            "_view_module": "@jupyter-widgets/base",
            "_view_module_version": "1.2.0",
            "_view_name": "StyleView",
            "description_width": ""
          }
        },
        "78d1a61a3e6041229201f4629834e2de": {
          "model_module": "@jupyter-widgets/controls",
          "model_name": "HBoxModel",
          "model_module_version": "1.5.0",
          "state": {
            "_dom_classes": [],
            "_model_module": "@jupyter-widgets/controls",
            "_model_module_version": "1.5.0",
            "_model_name": "HBoxModel",
            "_view_count": null,
            "_view_module": "@jupyter-widgets/controls",
            "_view_module_version": "1.5.0",
            "_view_name": "HBoxView",
            "box_style": "",
            "children": [
              "IPY_MODEL_1811e9077e8740b3baeb1e89b8d41205",
              "IPY_MODEL_1255893c430a4045acf7201fb19fe26e",
              "IPY_MODEL_349d82aef32c4a43815cd5a271dc3509"
            ],
            "layout": "IPY_MODEL_ef5528d8e79e479cb2576d78d6407feb"
          }
        },
        "1811e9077e8740b3baeb1e89b8d41205": {
          "model_module": "@jupyter-widgets/controls",
          "model_name": "HTMLModel",
          "model_module_version": "1.5.0",
          "state": {
            "_dom_classes": [],
            "_model_module": "@jupyter-widgets/controls",
            "_model_module_version": "1.5.0",
            "_model_name": "HTMLModel",
            "_view_count": null,
            "_view_module": "@jupyter-widgets/controls",
            "_view_module_version": "1.5.0",
            "_view_name": "HTMLView",
            "description": "",
            "description_tooltip": null,
            "layout": "IPY_MODEL_e5aa07e727fe45d0a2629fe74575e542",
            "placeholder": "​",
            "style": "IPY_MODEL_78fcbcb2368f4269ae6eacf47617949c",
            "value": "Map:  99%"
          }
        },
        "1255893c430a4045acf7201fb19fe26e": {
          "model_module": "@jupyter-widgets/controls",
          "model_name": "FloatProgressModel",
          "model_module_version": "1.5.0",
          "state": {
            "_dom_classes": [],
            "_model_module": "@jupyter-widgets/controls",
            "_model_module_version": "1.5.0",
            "_model_name": "FloatProgressModel",
            "_view_count": null,
            "_view_module": "@jupyter-widgets/controls",
            "_view_module_version": "1.5.0",
            "_view_name": "ProgressView",
            "bar_style": "",
            "description": "",
            "description_tooltip": null,
            "layout": "IPY_MODEL_beec8e9f0fc1416188c8aa9ed7a2175c",
            "max": 6090,
            "min": 0,
            "orientation": "horizontal",
            "style": "IPY_MODEL_7b9b24eea9834078bcf93112b8613063",
            "value": 6090
          }
        },
        "349d82aef32c4a43815cd5a271dc3509": {
          "model_module": "@jupyter-widgets/controls",
          "model_name": "HTMLModel",
          "model_module_version": "1.5.0",
          "state": {
            "_dom_classes": [],
            "_model_module": "@jupyter-widgets/controls",
            "_model_module_version": "1.5.0",
            "_model_name": "HTMLModel",
            "_view_count": null,
            "_view_module": "@jupyter-widgets/controls",
            "_view_module_version": "1.5.0",
            "_view_name": "HTMLView",
            "description": "",
            "description_tooltip": null,
            "layout": "IPY_MODEL_ea7892025b2d4f868a50bca804e66dcb",
            "placeholder": "​",
            "style": "IPY_MODEL_d6eda059d1c542f7a137ec795695710c",
            "value": " 6000/6090 [00:03&lt;00:00, 1548.64 examples/s]"
          }
        },
        "ef5528d8e79e479cb2576d78d6407feb": {
          "model_module": "@jupyter-widgets/base",
          "model_name": "LayoutModel",
          "model_module_version": "1.2.0",
          "state": {
            "_model_module": "@jupyter-widgets/base",
            "_model_module_version": "1.2.0",
            "_model_name": "LayoutModel",
            "_view_count": null,
            "_view_module": "@jupyter-widgets/base",
            "_view_module_version": "1.2.0",
            "_view_name": "LayoutView",
            "align_content": null,
            "align_items": null,
            "align_self": null,
            "border": null,
            "bottom": null,
            "display": null,
            "flex": null,
            "flex_flow": null,
            "grid_area": null,
            "grid_auto_columns": null,
            "grid_auto_flow": null,
            "grid_auto_rows": null,
            "grid_column": null,
            "grid_gap": null,
            "grid_row": null,
            "grid_template_areas": null,
            "grid_template_columns": null,
            "grid_template_rows": null,
            "height": null,
            "justify_content": null,
            "justify_items": null,
            "left": null,
            "margin": null,
            "max_height": null,
            "max_width": null,
            "min_height": null,
            "min_width": null,
            "object_fit": null,
            "object_position": null,
            "order": null,
            "overflow": null,
            "overflow_x": null,
            "overflow_y": null,
            "padding": null,
            "right": null,
            "top": null,
            "visibility": "hidden",
            "width": null
          }
        },
        "e5aa07e727fe45d0a2629fe74575e542": {
          "model_module": "@jupyter-widgets/base",
          "model_name": "LayoutModel",
          "model_module_version": "1.2.0",
          "state": {
            "_model_module": "@jupyter-widgets/base",
            "_model_module_version": "1.2.0",
            "_model_name": "LayoutModel",
            "_view_count": null,
            "_view_module": "@jupyter-widgets/base",
            "_view_module_version": "1.2.0",
            "_view_name": "LayoutView",
            "align_content": null,
            "align_items": null,
            "align_self": null,
            "border": null,
            "bottom": null,
            "display": null,
            "flex": null,
            "flex_flow": null,
            "grid_area": null,
            "grid_auto_columns": null,
            "grid_auto_flow": null,
            "grid_auto_rows": null,
            "grid_column": null,
            "grid_gap": null,
            "grid_row": null,
            "grid_template_areas": null,
            "grid_template_columns": null,
            "grid_template_rows": null,
            "height": null,
            "justify_content": null,
            "justify_items": null,
            "left": null,
            "margin": null,
            "max_height": null,
            "max_width": null,
            "min_height": null,
            "min_width": null,
            "object_fit": null,
            "object_position": null,
            "order": null,
            "overflow": null,
            "overflow_x": null,
            "overflow_y": null,
            "padding": null,
            "right": null,
            "top": null,
            "visibility": null,
            "width": null
          }
        },
        "78fcbcb2368f4269ae6eacf47617949c": {
          "model_module": "@jupyter-widgets/controls",
          "model_name": "DescriptionStyleModel",
          "model_module_version": "1.5.0",
          "state": {
            "_model_module": "@jupyter-widgets/controls",
            "_model_module_version": "1.5.0",
            "_model_name": "DescriptionStyleModel",
            "_view_count": null,
            "_view_module": "@jupyter-widgets/base",
            "_view_module_version": "1.2.0",
            "_view_name": "StyleView",
            "description_width": ""
          }
        },
        "beec8e9f0fc1416188c8aa9ed7a2175c": {
          "model_module": "@jupyter-widgets/base",
          "model_name": "LayoutModel",
          "model_module_version": "1.2.0",
          "state": {
            "_model_module": "@jupyter-widgets/base",
            "_model_module_version": "1.2.0",
            "_model_name": "LayoutModel",
            "_view_count": null,
            "_view_module": "@jupyter-widgets/base",
            "_view_module_version": "1.2.0",
            "_view_name": "LayoutView",
            "align_content": null,
            "align_items": null,
            "align_self": null,
            "border": null,
            "bottom": null,
            "display": null,
            "flex": null,
            "flex_flow": null,
            "grid_area": null,
            "grid_auto_columns": null,
            "grid_auto_flow": null,
            "grid_auto_rows": null,
            "grid_column": null,
            "grid_gap": null,
            "grid_row": null,
            "grid_template_areas": null,
            "grid_template_columns": null,
            "grid_template_rows": null,
            "height": null,
            "justify_content": null,
            "justify_items": null,
            "left": null,
            "margin": null,
            "max_height": null,
            "max_width": null,
            "min_height": null,
            "min_width": null,
            "object_fit": null,
            "object_position": null,
            "order": null,
            "overflow": null,
            "overflow_x": null,
            "overflow_y": null,
            "padding": null,
            "right": null,
            "top": null,
            "visibility": null,
            "width": null
          }
        },
        "7b9b24eea9834078bcf93112b8613063": {
          "model_module": "@jupyter-widgets/controls",
          "model_name": "ProgressStyleModel",
          "model_module_version": "1.5.0",
          "state": {
            "_model_module": "@jupyter-widgets/controls",
            "_model_module_version": "1.5.0",
            "_model_name": "ProgressStyleModel",
            "_view_count": null,
            "_view_module": "@jupyter-widgets/base",
            "_view_module_version": "1.2.0",
            "_view_name": "StyleView",
            "bar_color": null,
            "description_width": ""
          }
        },
        "ea7892025b2d4f868a50bca804e66dcb": {
          "model_module": "@jupyter-widgets/base",
          "model_name": "LayoutModel",
          "model_module_version": "1.2.0",
          "state": {
            "_model_module": "@jupyter-widgets/base",
            "_model_module_version": "1.2.0",
            "_model_name": "LayoutModel",
            "_view_count": null,
            "_view_module": "@jupyter-widgets/base",
            "_view_module_version": "1.2.0",
            "_view_name": "LayoutView",
            "align_content": null,
            "align_items": null,
            "align_self": null,
            "border": null,
            "bottom": null,
            "display": null,
            "flex": null,
            "flex_flow": null,
            "grid_area": null,
            "grid_auto_columns": null,
            "grid_auto_flow": null,
            "grid_auto_rows": null,
            "grid_column": null,
            "grid_gap": null,
            "grid_row": null,
            "grid_template_areas": null,
            "grid_template_columns": null,
            "grid_template_rows": null,
            "height": null,
            "justify_content": null,
            "justify_items": null,
            "left": null,
            "margin": null,
            "max_height": null,
            "max_width": null,
            "min_height": null,
            "min_width": null,
            "object_fit": null,
            "object_position": null,
            "order": null,
            "overflow": null,
            "overflow_x": null,
            "overflow_y": null,
            "padding": null,
            "right": null,
            "top": null,
            "visibility": null,
            "width": null
          }
        },
        "d6eda059d1c542f7a137ec795695710c": {
          "model_module": "@jupyter-widgets/controls",
          "model_name": "DescriptionStyleModel",
          "model_module_version": "1.5.0",
          "state": {
            "_model_module": "@jupyter-widgets/controls",
            "_model_module_version": "1.5.0",
            "_model_name": "DescriptionStyleModel",
            "_view_count": null,
            "_view_module": "@jupyter-widgets/base",
            "_view_module_version": "1.2.0",
            "_view_name": "StyleView",
            "description_width": ""
          }
        },
        "f737e57e76fb4c068f13a40bcfae342e": {
          "model_module": "@jupyter-widgets/controls",
          "model_name": "HBoxModel",
          "model_module_version": "1.5.0",
          "state": {
            "_dom_classes": [],
            "_model_module": "@jupyter-widgets/controls",
            "_model_module_version": "1.5.0",
            "_model_name": "HBoxModel",
            "_view_count": null,
            "_view_module": "@jupyter-widgets/controls",
            "_view_module_version": "1.5.0",
            "_view_name": "HBoxView",
            "box_style": "",
            "children": [
              "IPY_MODEL_4d991497f1e34005b748e1fe45d90b26",
              "IPY_MODEL_51de463fd0a948f2bc049c56a2b33175",
              "IPY_MODEL_e2ba653fb60e4727941743fc51c9ba81"
            ],
            "layout": "IPY_MODEL_1f73553d36fa44639e61209323028d4a"
          }
        },
        "4d991497f1e34005b748e1fe45d90b26": {
          "model_module": "@jupyter-widgets/controls",
          "model_name": "HTMLModel",
          "model_module_version": "1.5.0",
          "state": {
            "_dom_classes": [],
            "_model_module": "@jupyter-widgets/controls",
            "_model_module_version": "1.5.0",
            "_model_name": "HTMLModel",
            "_view_count": null,
            "_view_module": "@jupyter-widgets/controls",
            "_view_module_version": "1.5.0",
            "_view_name": "HTMLView",
            "description": "",
            "description_tooltip": null,
            "layout": "IPY_MODEL_a898f013fb6c4fada5309f382a811637",
            "placeholder": "​",
            "style": "IPY_MODEL_6cfb29245f134320aff19cea7c073f6e",
            "value": "Map: 100%"
          }
        },
        "51de463fd0a948f2bc049c56a2b33175": {
          "model_module": "@jupyter-widgets/controls",
          "model_name": "FloatProgressModel",
          "model_module_version": "1.5.0",
          "state": {
            "_dom_classes": [],
            "_model_module": "@jupyter-widgets/controls",
            "_model_module_version": "1.5.0",
            "_model_name": "FloatProgressModel",
            "_view_count": null,
            "_view_module": "@jupyter-widgets/controls",
            "_view_module_version": "1.5.0",
            "_view_name": "ProgressView",
            "bar_style": "",
            "description": "",
            "description_tooltip": null,
            "layout": "IPY_MODEL_aa6c2d835e0941abba2b1c521cb42e84",
            "max": 1523,
            "min": 0,
            "orientation": "horizontal",
            "style": "IPY_MODEL_4c92455607844b2cb3ab6d33b215bf9c",
            "value": 1523
          }
        },
        "e2ba653fb60e4727941743fc51c9ba81": {
          "model_module": "@jupyter-widgets/controls",
          "model_name": "HTMLModel",
          "model_module_version": "1.5.0",
          "state": {
            "_dom_classes": [],
            "_model_module": "@jupyter-widgets/controls",
            "_model_module_version": "1.5.0",
            "_model_name": "HTMLModel",
            "_view_count": null,
            "_view_module": "@jupyter-widgets/controls",
            "_view_module_version": "1.5.0",
            "_view_name": "HTMLView",
            "description": "",
            "description_tooltip": null,
            "layout": "IPY_MODEL_55d546485909414dbbead5c913c9d247",
            "placeholder": "​",
            "style": "IPY_MODEL_02613cd1d1d4479fac2097a567c84d6c",
            "value": " 1523/1523 [00:00&lt;00:00, 1661.72 examples/s]"
          }
        },
        "1f73553d36fa44639e61209323028d4a": {
          "model_module": "@jupyter-widgets/base",
          "model_name": "LayoutModel",
          "model_module_version": "1.2.0",
          "state": {
            "_model_module": "@jupyter-widgets/base",
            "_model_module_version": "1.2.0",
            "_model_name": "LayoutModel",
            "_view_count": null,
            "_view_module": "@jupyter-widgets/base",
            "_view_module_version": "1.2.0",
            "_view_name": "LayoutView",
            "align_content": null,
            "align_items": null,
            "align_self": null,
            "border": null,
            "bottom": null,
            "display": null,
            "flex": null,
            "flex_flow": null,
            "grid_area": null,
            "grid_auto_columns": null,
            "grid_auto_flow": null,
            "grid_auto_rows": null,
            "grid_column": null,
            "grid_gap": null,
            "grid_row": null,
            "grid_template_areas": null,
            "grid_template_columns": null,
            "grid_template_rows": null,
            "height": null,
            "justify_content": null,
            "justify_items": null,
            "left": null,
            "margin": null,
            "max_height": null,
            "max_width": null,
            "min_height": null,
            "min_width": null,
            "object_fit": null,
            "object_position": null,
            "order": null,
            "overflow": null,
            "overflow_x": null,
            "overflow_y": null,
            "padding": null,
            "right": null,
            "top": null,
            "visibility": "hidden",
            "width": null
          }
        },
        "a898f013fb6c4fada5309f382a811637": {
          "model_module": "@jupyter-widgets/base",
          "model_name": "LayoutModel",
          "model_module_version": "1.2.0",
          "state": {
            "_model_module": "@jupyter-widgets/base",
            "_model_module_version": "1.2.0",
            "_model_name": "LayoutModel",
            "_view_count": null,
            "_view_module": "@jupyter-widgets/base",
            "_view_module_version": "1.2.0",
            "_view_name": "LayoutView",
            "align_content": null,
            "align_items": null,
            "align_self": null,
            "border": null,
            "bottom": null,
            "display": null,
            "flex": null,
            "flex_flow": null,
            "grid_area": null,
            "grid_auto_columns": null,
            "grid_auto_flow": null,
            "grid_auto_rows": null,
            "grid_column": null,
            "grid_gap": null,
            "grid_row": null,
            "grid_template_areas": null,
            "grid_template_columns": null,
            "grid_template_rows": null,
            "height": null,
            "justify_content": null,
            "justify_items": null,
            "left": null,
            "margin": null,
            "max_height": null,
            "max_width": null,
            "min_height": null,
            "min_width": null,
            "object_fit": null,
            "object_position": null,
            "order": null,
            "overflow": null,
            "overflow_x": null,
            "overflow_y": null,
            "padding": null,
            "right": null,
            "top": null,
            "visibility": null,
            "width": null
          }
        },
        "6cfb29245f134320aff19cea7c073f6e": {
          "model_module": "@jupyter-widgets/controls",
          "model_name": "DescriptionStyleModel",
          "model_module_version": "1.5.0",
          "state": {
            "_model_module": "@jupyter-widgets/controls",
            "_model_module_version": "1.5.0",
            "_model_name": "DescriptionStyleModel",
            "_view_count": null,
            "_view_module": "@jupyter-widgets/base",
            "_view_module_version": "1.2.0",
            "_view_name": "StyleView",
            "description_width": ""
          }
        },
        "aa6c2d835e0941abba2b1c521cb42e84": {
          "model_module": "@jupyter-widgets/base",
          "model_name": "LayoutModel",
          "model_module_version": "1.2.0",
          "state": {
            "_model_module": "@jupyter-widgets/base",
            "_model_module_version": "1.2.0",
            "_model_name": "LayoutModel",
            "_view_count": null,
            "_view_module": "@jupyter-widgets/base",
            "_view_module_version": "1.2.0",
            "_view_name": "LayoutView",
            "align_content": null,
            "align_items": null,
            "align_self": null,
            "border": null,
            "bottom": null,
            "display": null,
            "flex": null,
            "flex_flow": null,
            "grid_area": null,
            "grid_auto_columns": null,
            "grid_auto_flow": null,
            "grid_auto_rows": null,
            "grid_column": null,
            "grid_gap": null,
            "grid_row": null,
            "grid_template_areas": null,
            "grid_template_columns": null,
            "grid_template_rows": null,
            "height": null,
            "justify_content": null,
            "justify_items": null,
            "left": null,
            "margin": null,
            "max_height": null,
            "max_width": null,
            "min_height": null,
            "min_width": null,
            "object_fit": null,
            "object_position": null,
            "order": null,
            "overflow": null,
            "overflow_x": null,
            "overflow_y": null,
            "padding": null,
            "right": null,
            "top": null,
            "visibility": null,
            "width": null
          }
        },
        "4c92455607844b2cb3ab6d33b215bf9c": {
          "model_module": "@jupyter-widgets/controls",
          "model_name": "ProgressStyleModel",
          "model_module_version": "1.5.0",
          "state": {
            "_model_module": "@jupyter-widgets/controls",
            "_model_module_version": "1.5.0",
            "_model_name": "ProgressStyleModel",
            "_view_count": null,
            "_view_module": "@jupyter-widgets/base",
            "_view_module_version": "1.2.0",
            "_view_name": "StyleView",
            "bar_color": null,
            "description_width": ""
          }
        },
        "55d546485909414dbbead5c913c9d247": {
          "model_module": "@jupyter-widgets/base",
          "model_name": "LayoutModel",
          "model_module_version": "1.2.0",
          "state": {
            "_model_module": "@jupyter-widgets/base",
            "_model_module_version": "1.2.0",
            "_model_name": "LayoutModel",
            "_view_count": null,
            "_view_module": "@jupyter-widgets/base",
            "_view_module_version": "1.2.0",
            "_view_name": "LayoutView",
            "align_content": null,
            "align_items": null,
            "align_self": null,
            "border": null,
            "bottom": null,
            "display": null,
            "flex": null,
            "flex_flow": null,
            "grid_area": null,
            "grid_auto_columns": null,
            "grid_auto_flow": null,
            "grid_auto_rows": null,
            "grid_column": null,
            "grid_gap": null,
            "grid_row": null,
            "grid_template_areas": null,
            "grid_template_columns": null,
            "grid_template_rows": null,
            "height": null,
            "justify_content": null,
            "justify_items": null,
            "left": null,
            "margin": null,
            "max_height": null,
            "max_width": null,
            "min_height": null,
            "min_width": null,
            "object_fit": null,
            "object_position": null,
            "order": null,
            "overflow": null,
            "overflow_x": null,
            "overflow_y": null,
            "padding": null,
            "right": null,
            "top": null,
            "visibility": null,
            "width": null
          }
        },
        "02613cd1d1d4479fac2097a567c84d6c": {
          "model_module": "@jupyter-widgets/controls",
          "model_name": "DescriptionStyleModel",
          "model_module_version": "1.5.0",
          "state": {
            "_model_module": "@jupyter-widgets/controls",
            "_model_module_version": "1.5.0",
            "_model_name": "DescriptionStyleModel",
            "_view_count": null,
            "_view_module": "@jupyter-widgets/base",
            "_view_module_version": "1.2.0",
            "_view_name": "StyleView",
            "description_width": ""
          }
        },
        "fe5b76d2ee2347e4a348b5cf34b4ddc9": {
          "model_module": "@jupyter-widgets/controls",
          "model_name": "HBoxModel",
          "model_module_version": "1.5.0",
          "state": {
            "_dom_classes": [],
            "_model_module": "@jupyter-widgets/controls",
            "_model_module_version": "1.5.0",
            "_model_name": "HBoxModel",
            "_view_count": null,
            "_view_module": "@jupyter-widgets/controls",
            "_view_module_version": "1.5.0",
            "_view_name": "HBoxView",
            "box_style": "",
            "children": [
              "IPY_MODEL_3caa72d06c94466b925ecd574fa4921b",
              "IPY_MODEL_13e92de40c1f4933a25e324e56dc4e23",
              "IPY_MODEL_ff1306b32fc24c3599e59ba3febb5a15"
            ],
            "layout": "IPY_MODEL_2bfdc9b44e784a1fba9f8a2fcdd5e10b"
          }
        },
        "3caa72d06c94466b925ecd574fa4921b": {
          "model_module": "@jupyter-widgets/controls",
          "model_name": "HTMLModel",
          "model_module_version": "1.5.0",
          "state": {
            "_dom_classes": [],
            "_model_module": "@jupyter-widgets/controls",
            "_model_module_version": "1.5.0",
            "_model_name": "HTMLModel",
            "_view_count": null,
            "_view_module": "@jupyter-widgets/controls",
            "_view_module_version": "1.5.0",
            "_view_name": "HTMLView",
            "description": "",
            "description_tooltip": null,
            "layout": "IPY_MODEL_f6663e1979a94be99a4a325833a0f72f",
            "placeholder": "​",
            "style": "IPY_MODEL_a73d9f38253d425cab73a2170e84880b",
            "value": "Downloading builder script: 100%"
          }
        },
        "13e92de40c1f4933a25e324e56dc4e23": {
          "model_module": "@jupyter-widgets/controls",
          "model_name": "FloatProgressModel",
          "model_module_version": "1.5.0",
          "state": {
            "_dom_classes": [],
            "_model_module": "@jupyter-widgets/controls",
            "_model_module_version": "1.5.0",
            "_model_name": "FloatProgressModel",
            "_view_count": null,
            "_view_module": "@jupyter-widgets/controls",
            "_view_module_version": "1.5.0",
            "_view_name": "ProgressView",
            "bar_style": "success",
            "description": "",
            "description_tooltip": null,
            "layout": "IPY_MODEL_928d46719580499e85a4abe1a4522b8a",
            "max": 5749,
            "min": 0,
            "orientation": "horizontal",
            "style": "IPY_MODEL_7221c0767a6548c990f27aea00cfadd2",
            "value": 5749
          }
        },
        "ff1306b32fc24c3599e59ba3febb5a15": {
          "model_module": "@jupyter-widgets/controls",
          "model_name": "HTMLModel",
          "model_module_version": "1.5.0",
          "state": {
            "_dom_classes": [],
            "_model_module": "@jupyter-widgets/controls",
            "_model_module_version": "1.5.0",
            "_model_name": "HTMLModel",
            "_view_count": null,
            "_view_module": "@jupyter-widgets/controls",
            "_view_module_version": "1.5.0",
            "_view_name": "HTMLView",
            "description": "",
            "description_tooltip": null,
            "layout": "IPY_MODEL_25f6e067da3a4884a6c312b186fbfc48",
            "placeholder": "​",
            "style": "IPY_MODEL_e0a6eb5f81d845d986f9cccb4c5fd2d5",
            "value": " 5.75k/5.75k [00:00&lt;00:00, 180kB/s]"
          }
        },
        "2bfdc9b44e784a1fba9f8a2fcdd5e10b": {
          "model_module": "@jupyter-widgets/base",
          "model_name": "LayoutModel",
          "model_module_version": "1.2.0",
          "state": {
            "_model_module": "@jupyter-widgets/base",
            "_model_module_version": "1.2.0",
            "_model_name": "LayoutModel",
            "_view_count": null,
            "_view_module": "@jupyter-widgets/base",
            "_view_module_version": "1.2.0",
            "_view_name": "LayoutView",
            "align_content": null,
            "align_items": null,
            "align_self": null,
            "border": null,
            "bottom": null,
            "display": null,
            "flex": null,
            "flex_flow": null,
            "grid_area": null,
            "grid_auto_columns": null,
            "grid_auto_flow": null,
            "grid_auto_rows": null,
            "grid_column": null,
            "grid_gap": null,
            "grid_row": null,
            "grid_template_areas": null,
            "grid_template_columns": null,
            "grid_template_rows": null,
            "height": null,
            "justify_content": null,
            "justify_items": null,
            "left": null,
            "margin": null,
            "max_height": null,
            "max_width": null,
            "min_height": null,
            "min_width": null,
            "object_fit": null,
            "object_position": null,
            "order": null,
            "overflow": null,
            "overflow_x": null,
            "overflow_y": null,
            "padding": null,
            "right": null,
            "top": null,
            "visibility": null,
            "width": null
          }
        },
        "f6663e1979a94be99a4a325833a0f72f": {
          "model_module": "@jupyter-widgets/base",
          "model_name": "LayoutModel",
          "model_module_version": "1.2.0",
          "state": {
            "_model_module": "@jupyter-widgets/base",
            "_model_module_version": "1.2.0",
            "_model_name": "LayoutModel",
            "_view_count": null,
            "_view_module": "@jupyter-widgets/base",
            "_view_module_version": "1.2.0",
            "_view_name": "LayoutView",
            "align_content": null,
            "align_items": null,
            "align_self": null,
            "border": null,
            "bottom": null,
            "display": null,
            "flex": null,
            "flex_flow": null,
            "grid_area": null,
            "grid_auto_columns": null,
            "grid_auto_flow": null,
            "grid_auto_rows": null,
            "grid_column": null,
            "grid_gap": null,
            "grid_row": null,
            "grid_template_areas": null,
            "grid_template_columns": null,
            "grid_template_rows": null,
            "height": null,
            "justify_content": null,
            "justify_items": null,
            "left": null,
            "margin": null,
            "max_height": null,
            "max_width": null,
            "min_height": null,
            "min_width": null,
            "object_fit": null,
            "object_position": null,
            "order": null,
            "overflow": null,
            "overflow_x": null,
            "overflow_y": null,
            "padding": null,
            "right": null,
            "top": null,
            "visibility": null,
            "width": null
          }
        },
        "a73d9f38253d425cab73a2170e84880b": {
          "model_module": "@jupyter-widgets/controls",
          "model_name": "DescriptionStyleModel",
          "model_module_version": "1.5.0",
          "state": {
            "_model_module": "@jupyter-widgets/controls",
            "_model_module_version": "1.5.0",
            "_model_name": "DescriptionStyleModel",
            "_view_count": null,
            "_view_module": "@jupyter-widgets/base",
            "_view_module_version": "1.2.0",
            "_view_name": "StyleView",
            "description_width": ""
          }
        },
        "928d46719580499e85a4abe1a4522b8a": {
          "model_module": "@jupyter-widgets/base",
          "model_name": "LayoutModel",
          "model_module_version": "1.2.0",
          "state": {
            "_model_module": "@jupyter-widgets/base",
            "_model_module_version": "1.2.0",
            "_model_name": "LayoutModel",
            "_view_count": null,
            "_view_module": "@jupyter-widgets/base",
            "_view_module_version": "1.2.0",
            "_view_name": "LayoutView",
            "align_content": null,
            "align_items": null,
            "align_self": null,
            "border": null,
            "bottom": null,
            "display": null,
            "flex": null,
            "flex_flow": null,
            "grid_area": null,
            "grid_auto_columns": null,
            "grid_auto_flow": null,
            "grid_auto_rows": null,
            "grid_column": null,
            "grid_gap": null,
            "grid_row": null,
            "grid_template_areas": null,
            "grid_template_columns": null,
            "grid_template_rows": null,
            "height": null,
            "justify_content": null,
            "justify_items": null,
            "left": null,
            "margin": null,
            "max_height": null,
            "max_width": null,
            "min_height": null,
            "min_width": null,
            "object_fit": null,
            "object_position": null,
            "order": null,
            "overflow": null,
            "overflow_x": null,
            "overflow_y": null,
            "padding": null,
            "right": null,
            "top": null,
            "visibility": null,
            "width": null
          }
        },
        "7221c0767a6548c990f27aea00cfadd2": {
          "model_module": "@jupyter-widgets/controls",
          "model_name": "ProgressStyleModel",
          "model_module_version": "1.5.0",
          "state": {
            "_model_module": "@jupyter-widgets/controls",
            "_model_module_version": "1.5.0",
            "_model_name": "ProgressStyleModel",
            "_view_count": null,
            "_view_module": "@jupyter-widgets/base",
            "_view_module_version": "1.2.0",
            "_view_name": "StyleView",
            "bar_color": null,
            "description_width": ""
          }
        },
        "25f6e067da3a4884a6c312b186fbfc48": {
          "model_module": "@jupyter-widgets/base",
          "model_name": "LayoutModel",
          "model_module_version": "1.2.0",
          "state": {
            "_model_module": "@jupyter-widgets/base",
            "_model_module_version": "1.2.0",
            "_model_name": "LayoutModel",
            "_view_count": null,
            "_view_module": "@jupyter-widgets/base",
            "_view_module_version": "1.2.0",
            "_view_name": "LayoutView",
            "align_content": null,
            "align_items": null,
            "align_self": null,
            "border": null,
            "bottom": null,
            "display": null,
            "flex": null,
            "flex_flow": null,
            "grid_area": null,
            "grid_auto_columns": null,
            "grid_auto_flow": null,
            "grid_auto_rows": null,
            "grid_column": null,
            "grid_gap": null,
            "grid_row": null,
            "grid_template_areas": null,
            "grid_template_columns": null,
            "grid_template_rows": null,
            "height": null,
            "justify_content": null,
            "justify_items": null,
            "left": null,
            "margin": null,
            "max_height": null,
            "max_width": null,
            "min_height": null,
            "min_width": null,
            "object_fit": null,
            "object_position": null,
            "order": null,
            "overflow": null,
            "overflow_x": null,
            "overflow_y": null,
            "padding": null,
            "right": null,
            "top": null,
            "visibility": null,
            "width": null
          }
        },
        "e0a6eb5f81d845d986f9cccb4c5fd2d5": {
          "model_module": "@jupyter-widgets/controls",
          "model_name": "DescriptionStyleModel",
          "model_module_version": "1.5.0",
          "state": {
            "_model_module": "@jupyter-widgets/controls",
            "_model_module_version": "1.5.0",
            "_model_name": "DescriptionStyleModel",
            "_view_count": null,
            "_view_module": "@jupyter-widgets/base",
            "_view_module_version": "1.2.0",
            "_view_name": "StyleView",
            "description_width": ""
          }
        },
        "4a26f3792271489593b9ea80d2b89a10": {
          "model_module": "@jupyter-widgets/controls",
          "model_name": "HBoxModel",
          "model_module_version": "1.5.0",
          "state": {
            "_dom_classes": [],
            "_model_module": "@jupyter-widgets/controls",
            "_model_module_version": "1.5.0",
            "_model_name": "HBoxModel",
            "_view_count": null,
            "_view_module": "@jupyter-widgets/controls",
            "_view_module_version": "1.5.0",
            "_view_name": "HBoxView",
            "box_style": "",
            "children": [
              "IPY_MODEL_7044e91dca6a4f019d0405f5f893a980",
              "IPY_MODEL_f036248e901647d0a31c71e864d56b92",
              "IPY_MODEL_d3ced7f692a144c386bb36fe791da964"
            ],
            "layout": "IPY_MODEL_e8c0503f19874ea4b425f38a87d5af62"
          }
        },
        "7044e91dca6a4f019d0405f5f893a980": {
          "model_module": "@jupyter-widgets/controls",
          "model_name": "HTMLModel",
          "model_module_version": "1.5.0",
          "state": {
            "_dom_classes": [],
            "_model_module": "@jupyter-widgets/controls",
            "_model_module_version": "1.5.0",
            "_model_name": "HTMLModel",
            "_view_count": null,
            "_view_module": "@jupyter-widgets/controls",
            "_view_module_version": "1.5.0",
            "_view_name": "HTMLView",
            "description": "",
            "description_tooltip": null,
            "layout": "IPY_MODEL_db125f96e49543b3a01424af6bf54a1d",
            "placeholder": "​",
            "style": "IPY_MODEL_8ec1b1ad85f9479c9e2400b3e318887a",
            "value": "Map:  66%"
          }
        },
        "f036248e901647d0a31c71e864d56b92": {
          "model_module": "@jupyter-widgets/controls",
          "model_name": "FloatProgressModel",
          "model_module_version": "1.5.0",
          "state": {
            "_dom_classes": [],
            "_model_module": "@jupyter-widgets/controls",
            "_model_module_version": "1.5.0",
            "_model_name": "FloatProgressModel",
            "_view_count": null,
            "_view_module": "@jupyter-widgets/controls",
            "_view_module_version": "1.5.0",
            "_view_name": "ProgressView",
            "bar_style": "",
            "description": "",
            "description_tooltip": null,
            "layout": "IPY_MODEL_2308cc2b408445259eb91575bbeab7b8",
            "max": 1523,
            "min": 0,
            "orientation": "horizontal",
            "style": "IPY_MODEL_d9cb906085284bc483ece14b2c150473",
            "value": 1523
          }
        },
        "d3ced7f692a144c386bb36fe791da964": {
          "model_module": "@jupyter-widgets/controls",
          "model_name": "HTMLModel",
          "model_module_version": "1.5.0",
          "state": {
            "_dom_classes": [],
            "_model_module": "@jupyter-widgets/controls",
            "_model_module_version": "1.5.0",
            "_model_name": "HTMLModel",
            "_view_count": null,
            "_view_module": "@jupyter-widgets/controls",
            "_view_module_version": "1.5.0",
            "_view_name": "HTMLView",
            "description": "",
            "description_tooltip": null,
            "layout": "IPY_MODEL_7b60f41a7e86463bb0e332235fd49758",
            "placeholder": "​",
            "style": "IPY_MODEL_c9b76ba1fef44ef59dfc0ea5bb7b6df9",
            "value": " 1000/1523 [00:00&lt;00:00, 7712.71 examples/s]"
          }
        },
        "e8c0503f19874ea4b425f38a87d5af62": {
          "model_module": "@jupyter-widgets/base",
          "model_name": "LayoutModel",
          "model_module_version": "1.2.0",
          "state": {
            "_model_module": "@jupyter-widgets/base",
            "_model_module_version": "1.2.0",
            "_model_name": "LayoutModel",
            "_view_count": null,
            "_view_module": "@jupyter-widgets/base",
            "_view_module_version": "1.2.0",
            "_view_name": "LayoutView",
            "align_content": null,
            "align_items": null,
            "align_self": null,
            "border": null,
            "bottom": null,
            "display": null,
            "flex": null,
            "flex_flow": null,
            "grid_area": null,
            "grid_auto_columns": null,
            "grid_auto_flow": null,
            "grid_auto_rows": null,
            "grid_column": null,
            "grid_gap": null,
            "grid_row": null,
            "grid_template_areas": null,
            "grid_template_columns": null,
            "grid_template_rows": null,
            "height": null,
            "justify_content": null,
            "justify_items": null,
            "left": null,
            "margin": null,
            "max_height": null,
            "max_width": null,
            "min_height": null,
            "min_width": null,
            "object_fit": null,
            "object_position": null,
            "order": null,
            "overflow": null,
            "overflow_x": null,
            "overflow_y": null,
            "padding": null,
            "right": null,
            "top": null,
            "visibility": "hidden",
            "width": null
          }
        },
        "db125f96e49543b3a01424af6bf54a1d": {
          "model_module": "@jupyter-widgets/base",
          "model_name": "LayoutModel",
          "model_module_version": "1.2.0",
          "state": {
            "_model_module": "@jupyter-widgets/base",
            "_model_module_version": "1.2.0",
            "_model_name": "LayoutModel",
            "_view_count": null,
            "_view_module": "@jupyter-widgets/base",
            "_view_module_version": "1.2.0",
            "_view_name": "LayoutView",
            "align_content": null,
            "align_items": null,
            "align_self": null,
            "border": null,
            "bottom": null,
            "display": null,
            "flex": null,
            "flex_flow": null,
            "grid_area": null,
            "grid_auto_columns": null,
            "grid_auto_flow": null,
            "grid_auto_rows": null,
            "grid_column": null,
            "grid_gap": null,
            "grid_row": null,
            "grid_template_areas": null,
            "grid_template_columns": null,
            "grid_template_rows": null,
            "height": null,
            "justify_content": null,
            "justify_items": null,
            "left": null,
            "margin": null,
            "max_height": null,
            "max_width": null,
            "min_height": null,
            "min_width": null,
            "object_fit": null,
            "object_position": null,
            "order": null,
            "overflow": null,
            "overflow_x": null,
            "overflow_y": null,
            "padding": null,
            "right": null,
            "top": null,
            "visibility": null,
            "width": null
          }
        },
        "8ec1b1ad85f9479c9e2400b3e318887a": {
          "model_module": "@jupyter-widgets/controls",
          "model_name": "DescriptionStyleModel",
          "model_module_version": "1.5.0",
          "state": {
            "_model_module": "@jupyter-widgets/controls",
            "_model_module_version": "1.5.0",
            "_model_name": "DescriptionStyleModel",
            "_view_count": null,
            "_view_module": "@jupyter-widgets/base",
            "_view_module_version": "1.2.0",
            "_view_name": "StyleView",
            "description_width": ""
          }
        },
        "2308cc2b408445259eb91575bbeab7b8": {
          "model_module": "@jupyter-widgets/base",
          "model_name": "LayoutModel",
          "model_module_version": "1.2.0",
          "state": {
            "_model_module": "@jupyter-widgets/base",
            "_model_module_version": "1.2.0",
            "_model_name": "LayoutModel",
            "_view_count": null,
            "_view_module": "@jupyter-widgets/base",
            "_view_module_version": "1.2.0",
            "_view_name": "LayoutView",
            "align_content": null,
            "align_items": null,
            "align_self": null,
            "border": null,
            "bottom": null,
            "display": null,
            "flex": null,
            "flex_flow": null,
            "grid_area": null,
            "grid_auto_columns": null,
            "grid_auto_flow": null,
            "grid_auto_rows": null,
            "grid_column": null,
            "grid_gap": null,
            "grid_row": null,
            "grid_template_areas": null,
            "grid_template_columns": null,
            "grid_template_rows": null,
            "height": null,
            "justify_content": null,
            "justify_items": null,
            "left": null,
            "margin": null,
            "max_height": null,
            "max_width": null,
            "min_height": null,
            "min_width": null,
            "object_fit": null,
            "object_position": null,
            "order": null,
            "overflow": null,
            "overflow_x": null,
            "overflow_y": null,
            "padding": null,
            "right": null,
            "top": null,
            "visibility": null,
            "width": null
          }
        },
        "d9cb906085284bc483ece14b2c150473": {
          "model_module": "@jupyter-widgets/controls",
          "model_name": "ProgressStyleModel",
          "model_module_version": "1.5.0",
          "state": {
            "_model_module": "@jupyter-widgets/controls",
            "_model_module_version": "1.5.0",
            "_model_name": "ProgressStyleModel",
            "_view_count": null,
            "_view_module": "@jupyter-widgets/base",
            "_view_module_version": "1.2.0",
            "_view_name": "StyleView",
            "bar_color": null,
            "description_width": ""
          }
        },
        "7b60f41a7e86463bb0e332235fd49758": {
          "model_module": "@jupyter-widgets/base",
          "model_name": "LayoutModel",
          "model_module_version": "1.2.0",
          "state": {
            "_model_module": "@jupyter-widgets/base",
            "_model_module_version": "1.2.0",
            "_model_name": "LayoutModel",
            "_view_count": null,
            "_view_module": "@jupyter-widgets/base",
            "_view_module_version": "1.2.0",
            "_view_name": "LayoutView",
            "align_content": null,
            "align_items": null,
            "align_self": null,
            "border": null,
            "bottom": null,
            "display": null,
            "flex": null,
            "flex_flow": null,
            "grid_area": null,
            "grid_auto_columns": null,
            "grid_auto_flow": null,
            "grid_auto_rows": null,
            "grid_column": null,
            "grid_gap": null,
            "grid_row": null,
            "grid_template_areas": null,
            "grid_template_columns": null,
            "grid_template_rows": null,
            "height": null,
            "justify_content": null,
            "justify_items": null,
            "left": null,
            "margin": null,
            "max_height": null,
            "max_width": null,
            "min_height": null,
            "min_width": null,
            "object_fit": null,
            "object_position": null,
            "order": null,
            "overflow": null,
            "overflow_x": null,
            "overflow_y": null,
            "padding": null,
            "right": null,
            "top": null,
            "visibility": null,
            "width": null
          }
        },
        "c9b76ba1fef44ef59dfc0ea5bb7b6df9": {
          "model_module": "@jupyter-widgets/controls",
          "model_name": "DescriptionStyleModel",
          "model_module_version": "1.5.0",
          "state": {
            "_model_module": "@jupyter-widgets/controls",
            "_model_module_version": "1.5.0",
            "_model_name": "DescriptionStyleModel",
            "_view_count": null,
            "_view_module": "@jupyter-widgets/base",
            "_view_module_version": "1.2.0",
            "_view_name": "StyleView",
            "description_width": ""
          }
        }
      }
    }
  },
  "cells": [
    {
      "cell_type": "markdown",
      "source": [
        "# **FDA - Disaster Tweet Detection - Groupe 3**\n",
        "## Models implementation, training and evaluation"
      ],
      "metadata": {
        "id": "8_WxPgsZNjET"
      }
    },
    {
      "cell_type": "markdown",
      "source": [
        "This notebook is part of the contribution of the group 3 of IMT Atlantique in the FDA course\n",
        "\n",
        " - Kaggle comptetion : https://www.kaggle.com/code/charunumesh/nlp-disaster-tweets-lstm-transformers\n",
        "\n",
        " - Group's team : \"BURBAN MATTHIEU\"\n",
        " - Best score : 0.82470"
      ],
      "metadata": {
        "id": "7GdByZTSNmxy"
      }
    },
    {
      "cell_type": "markdown",
      "source": [
        "**The notebook presents all the algorithms used during this challenge whether their implementation, their complete training or their final evaluation**"
      ],
      "metadata": {
        "id": "X37FuAUo5sID"
      }
    },
    {
      "cell_type": "code",
      "execution_count": null,
      "metadata": {
        "id": "8mT1AnewNZEn"
      },
      "outputs": [],
      "source": [
        "# author: Anthammax https://github.com/anthammax\n",
        "# date: 18/03/2023\n",
        "# last_update : 19/03/2023, 14:52"
      ]
    },
    {
      "cell_type": "markdown",
      "source": [
        "# Importations"
      ],
      "metadata": {
        "id": "8rVg9GenC4wa"
      }
    },
    {
      "cell_type": "markdown",
      "source": [
        "## Libraries"
      ],
      "metadata": {
        "id": "rKX01czXfzFq"
      }
    },
    {
      "cell_type": "code",
      "source": [
        "## Install (once)\n",
        "!pip install transformers\n",
        "!pip install evaluate\n",
        "!pip install datasets\n",
        "!pip install keras-tcn"
      ],
      "metadata": {
        "id": "Khjd72_Z6Qu9"
      },
      "execution_count": null,
      "outputs": []
    },
    {
      "cell_type": "code",
      "source": [
        "## Libraries \n",
        "\n",
        "# Standard ones\n",
        "import pandas as pd\n",
        "import numpy as np\n",
        "import matplotlib.pyplot as plt\n",
        "\n",
        "# Cleaning\n",
        "import re\n",
        "\n",
        "# Evaluation, metrics, others\n",
        "import evaluate\n",
        "from sklearn.model_selection import train_test_split\n",
        "from sklearn.metrics import confusion_matrix, ConfusionMatrixDisplay,accuracy_score,precision_score, recall_score,f1_score,roc_auc_score,roc_curve\n",
        "from datasets import Dataset, DatasetDict\n",
        "\n",
        "# Models\n",
        "from sklearn import svm, ensemble\n",
        "from sklearn.svm import SVC\n",
        "from sklearn.pipeline import Pipeline\n",
        "from sklearn.feature_extraction.text import TfidfVectorizer\n",
        "\n",
        "\n",
        "# Deep learning \n",
        "import tensorflow as tf \n",
        "from tensorflow import keras\n",
        "from keras.models import Model\n",
        "from tensorflow.keras import callbacks, Sequential, regularizers, layers\n",
        "from keras.preprocessing.text import Tokenizer\n",
        "from tensorflow.keras.models import load_model #import model\n",
        "\n",
        "from tensorflow.keras.utils import to_categorical\n",
        "from tensorflow.keras.preprocessing.sequence import pad_sequences\n",
        "from tensorflow.keras.layers import Bidirectional, Input, Dense, LSTM, Dropout,Embedding, concatenate,SpatialDropout1D,GlobalAveragePooling1D, GlobalMaxPooling1D\n",
        "\n",
        "from tensorflow.python.keras.models import Input\n",
        "\n",
        "import tcn\n",
        "from tcn import TCN, tcn_full_summary\n",
        "\n",
        "from keras.layers import Input, LSTM, Dense, TimeDistributed, Activation, BatchNormalization, Dropout, Bidirectional\n",
        "\n",
        "from transformers import AutoModelForSequenceClassification, AutoTokenizer\n",
        "from transformers import DataCollatorWithPadding, TrainingArguments, Trainer"
      ],
      "metadata": {
        "id": "PoGqWnQlfyxv"
      },
      "execution_count": null,
      "outputs": []
    },
    {
      "cell_type": "markdown",
      "source": [
        "## Import data"
      ],
      "metadata": {
        "id": "Mmbdoz5-f7Zv"
      }
    },
    {
      "cell_type": "code",
      "source": [
        "## Drive connexion\n",
        "\n",
        "from google.colab import drive\n",
        "drive.mount('/content/drive')"
      ],
      "metadata": {
        "id": "_sYiBSq7f96h",
        "colab": {
          "base_uri": "https://localhost:8080/"
        },
        "outputId": "81ecf033-abeb-43c6-e797-206bfbbbd2ef"
      },
      "execution_count": null,
      "outputs": [
        {
          "output_type": "stream",
          "name": "stdout",
          "text": [
            "Drive already mounted at /content/drive; to attempt to forcibly remount, call drive.mount(\"/content/drive\", force_remount=True).\n"
          ]
        }
      ]
    },
    {
      "cell_type": "code",
      "source": [
        "## Dataset\n",
        "\n",
        "# Kaggle dataset for training (columns = 'keyword', 'location', 'text', 'target')\n",
        "data_train = pd.read_csv('/content/drive/MyDrive/FDA_Challenge/Base_de_donnees/train.csv',index_col=0)\n",
        "\n",
        "# Dataset extracted from the previous part, home-made tokenization in 200 dimension (1 tweet = 1 row = 200dim)\n",
        "data_tokenize = pd.read_csv('/content/drive/MyDrive/FDA_Challenge/Base_de_donnees/wordvec_train.csv',index_col=0)\n",
        "\n",
        "# Kaggle dataset for submission (contains tweets to test)\n",
        "data_sub = pd.read_csv('/content/drive/MyDrive/FDA_Challenge/Base_de_donnees/test.csv',index_col = 0)\n",
        "data_sub = data_sub['text']\n",
        "\n",
        "# Kaggle dataset with empty label for the submission\n",
        "sample = pd.read_csv('/content/drive/MyDrive/FDA_Challenge/Base_de_donnees/sample_submission.csv',index_col=0)\n",
        "\n",
        "# Empty Dataframe for all the results\n",
        "results = pd.DataFrame(index=['accuracy','error rate','recall','precision','f1 score','Kaggle'])"
      ],
      "metadata": {
        "id": "NvxJOCS7YjNt"
      },
      "execution_count": null,
      "outputs": []
    },
    {
      "cell_type": "code",
      "source": [
        "## Keep useful data\n",
        "text = data_train['text'].tolist()\n",
        "target  = data_train['target'].tolist()\n",
        "\n",
        "data_target = data_tokenize['target']\n",
        "data_tokenize = data_tokenize.drop(['target'], axis=1)"
      ],
      "metadata": {
        "id": "UfM0JQdx-O8j"
      },
      "execution_count": null,
      "outputs": []
    },
    {
      "cell_type": "markdown",
      "source": [
        "## Functions for evaluation"
      ],
      "metadata": {
        "id": "f9FATt_xEyzq"
      }
    },
    {
      "cell_type": "code",
      "source": [
        "def conf_matrix(y_pred,y_val):\n",
        "  \"\"\"\n",
        "  Print a nice confusion matrix\n",
        "  \"\"\"\n",
        "  title=\"Confusion Matrix\"\n",
        "  conf_matrix = confusion_matrix(y_pred,y_val,labels=[1,0])\n",
        "  fig, ax = plt.subplots(1,1,figsize=(7,4))\n",
        "  disp = ConfusionMatrixDisplay(conf_matrix,display_labels=['disaster tweet','usual tweet']).plot(values_format=\".0f\",ax=ax , cmap=plt.cm.Blues)\n",
        "\n",
        "  ax.set_xlabel(\"True Label\")\n",
        "  ax.set_ylabel(\"Predicted Label\")\n",
        "  plt.title(title)\n",
        "  plt.show()\n",
        "\n",
        "def metrics(y_pred,y_val):\n",
        "  \"\"\"\n",
        "  Print all basics metrics and return the values\n",
        "  \"\"\"\n",
        "  conf_matrix = confusion_matrix(y_pred,y_val,labels=[1,0])\n",
        "  TP = conf_matrix[0][0]\n",
        "  FP = conf_matrix[0][1]\n",
        "  TN = conf_matrix[1][1]\n",
        "  FN = conf_matrix[1][0]\n",
        "  tot = TP+FP+TN+FN\n",
        "\n",
        "  acc = round((TP+TN)/tot*100,2)\n",
        "  er = round(100-acc,2)\n",
        "  recall = round(TP/(TP+FN)*100,2) #quantity :high recall means that the algorithm returns most of the relevant results\n",
        "  precision = round(TP/(TP+FP)*100,2) #measure of the quality\n",
        "  f1 = round(f1_score(y_pred, y_val)*100,2) #trade-off btw recall and precision\n",
        "\n",
        "  print(\"-------- Metrics ----------\")\n",
        "  print(\"Accuracy   :\",acc,'%')\n",
        "  print(\"Error rate :\",er,'%')\n",
        "  print(\"Recall     :\",recall,'%')\n",
        "  print(\"Precision  :\",precision,'%')\n",
        "  print(\"f1         :\",f1,'%')\n",
        "  print(\"----------------------------\")\n",
        "\n",
        "  return [acc,er,recall,precision,f1]"
      ],
      "metadata": {
        "id": "FOiEgybYE2As"
      },
      "execution_count": null,
      "outputs": []
    },
    {
      "cell_type": "markdown",
      "source": [
        "# Simple models\n",
        "This part of the notebook is dedicated to simple models (which aren't based on neural networks). They allow a quite good score around 70% of correct answers\n",
        "\n",
        " \n",
        "We tried on this part\n",
        "- The Gradient Boosting \n",
        "- The Support Vector Classifier (SVC)\n",
        "\n",
        "They were trained on the dataset `data_tokenize` of 200 dimensions "
      ],
      "metadata": {
        "id": "l5pvXeMFDEeQ"
      }
    },
    {
      "cell_type": "code",
      "source": [
        "# Train and validation\n",
        "X = data_tokenize.to_numpy()\n",
        "Y = data_target.to_numpy()\n",
        "\n",
        "X_train, X_val, y_train, y_val = train_test_split(X, Y, test_size=0.2, stratify=Y, random_state=0)"
      ],
      "metadata": {
        "id": "7Mf6XpWEEo0s"
      },
      "execution_count": null,
      "outputs": []
    },
    {
      "cell_type": "markdown",
      "source": [
        "## SVC Model"
      ],
      "metadata": {
        "id": "L8bBk2-1FebK"
      }
    },
    {
      "cell_type": "code",
      "source": [
        "## Model and Training\n",
        "\n",
        "model_svc = svm.SVC(kernel='linear', C = 1.0)\n",
        "model_svc.fit(X_train,y_train)"
      ],
      "metadata": {
        "colab": {
          "base_uri": "https://localhost:8080/",
          "height": 94
        },
        "id": "_aJY2tryFvtp",
        "outputId": "a5a817d4-e56d-4325-9b40-14f91ad04e46"
      },
      "execution_count": null,
      "outputs": [
        {
          "output_type": "execute_result",
          "data": {
            "text/plain": [
              "SVC(kernel='linear')"
            ],
            "text/html": [
              "<style>#sk-container-id-3 {color: black;background-color: white;}#sk-container-id-3 pre{padding: 0;}#sk-container-id-3 div.sk-toggleable {background-color: white;}#sk-container-id-3 label.sk-toggleable__label {cursor: pointer;display: block;width: 100%;margin-bottom: 0;padding: 0.3em;box-sizing: border-box;text-align: center;}#sk-container-id-3 label.sk-toggleable__label-arrow:before {content: \"▸\";float: left;margin-right: 0.25em;color: #696969;}#sk-container-id-3 label.sk-toggleable__label-arrow:hover:before {color: black;}#sk-container-id-3 div.sk-estimator:hover label.sk-toggleable__label-arrow:before {color: black;}#sk-container-id-3 div.sk-toggleable__content {max-height: 0;max-width: 0;overflow: hidden;text-align: left;background-color: #f0f8ff;}#sk-container-id-3 div.sk-toggleable__content pre {margin: 0.2em;color: black;border-radius: 0.25em;background-color: #f0f8ff;}#sk-container-id-3 input.sk-toggleable__control:checked~div.sk-toggleable__content {max-height: 200px;max-width: 100%;overflow: auto;}#sk-container-id-3 input.sk-toggleable__control:checked~label.sk-toggleable__label-arrow:before {content: \"▾\";}#sk-container-id-3 div.sk-estimator input.sk-toggleable__control:checked~label.sk-toggleable__label {background-color: #d4ebff;}#sk-container-id-3 div.sk-label input.sk-toggleable__control:checked~label.sk-toggleable__label {background-color: #d4ebff;}#sk-container-id-3 input.sk-hidden--visually {border: 0;clip: rect(1px 1px 1px 1px);clip: rect(1px, 1px, 1px, 1px);height: 1px;margin: -1px;overflow: hidden;padding: 0;position: absolute;width: 1px;}#sk-container-id-3 div.sk-estimator {font-family: monospace;background-color: #f0f8ff;border: 1px dotted black;border-radius: 0.25em;box-sizing: border-box;margin-bottom: 0.5em;}#sk-container-id-3 div.sk-estimator:hover {background-color: #d4ebff;}#sk-container-id-3 div.sk-parallel-item::after {content: \"\";width: 100%;border-bottom: 1px solid gray;flex-grow: 1;}#sk-container-id-3 div.sk-label:hover label.sk-toggleable__label {background-color: #d4ebff;}#sk-container-id-3 div.sk-serial::before {content: \"\";position: absolute;border-left: 1px solid gray;box-sizing: border-box;top: 0;bottom: 0;left: 50%;z-index: 0;}#sk-container-id-3 div.sk-serial {display: flex;flex-direction: column;align-items: center;background-color: white;padding-right: 0.2em;padding-left: 0.2em;position: relative;}#sk-container-id-3 div.sk-item {position: relative;z-index: 1;}#sk-container-id-3 div.sk-parallel {display: flex;align-items: stretch;justify-content: center;background-color: white;position: relative;}#sk-container-id-3 div.sk-item::before, #sk-container-id-3 div.sk-parallel-item::before {content: \"\";position: absolute;border-left: 1px solid gray;box-sizing: border-box;top: 0;bottom: 0;left: 50%;z-index: -1;}#sk-container-id-3 div.sk-parallel-item {display: flex;flex-direction: column;z-index: 1;position: relative;background-color: white;}#sk-container-id-3 div.sk-parallel-item:first-child::after {align-self: flex-end;width: 50%;}#sk-container-id-3 div.sk-parallel-item:last-child::after {align-self: flex-start;width: 50%;}#sk-container-id-3 div.sk-parallel-item:only-child::after {width: 0;}#sk-container-id-3 div.sk-dashed-wrapped {border: 1px dashed gray;margin: 0 0.4em 0.5em 0.4em;box-sizing: border-box;padding-bottom: 0.4em;background-color: white;}#sk-container-id-3 div.sk-label label {font-family: monospace;font-weight: bold;display: inline-block;line-height: 1.2em;}#sk-container-id-3 div.sk-label-container {text-align: center;}#sk-container-id-3 div.sk-container {/* jupyter's `normalize.less` sets `[hidden] { display: none; }` but bootstrap.min.css set `[hidden] { display: none !important; }` so we also need the `!important` here to be able to override the default hidden behavior on the sphinx rendered scikit-learn.org. See: https://github.com/scikit-learn/scikit-learn/issues/21755 */display: inline-block !important;position: relative;}#sk-container-id-3 div.sk-text-repr-fallback {display: none;}</style><div id=\"sk-container-id-3\" class=\"sk-top-container\"><div class=\"sk-text-repr-fallback\"><pre>SVC(kernel=&#x27;linear&#x27;)</pre><b>In a Jupyter environment, please rerun this cell to show the HTML representation or trust the notebook. <br />On GitHub, the HTML representation is unable to render, please try loading this page with nbviewer.org.</b></div><div class=\"sk-container\" hidden><div class=\"sk-item\"><div class=\"sk-estimator sk-toggleable\"><input class=\"sk-toggleable__control sk-hidden--visually\" id=\"sk-estimator-id-3\" type=\"checkbox\" checked><label for=\"sk-estimator-id-3\" class=\"sk-toggleable__label sk-toggleable__label-arrow\">SVC</label><div class=\"sk-toggleable__content\"><pre>SVC(kernel=&#x27;linear&#x27;)</pre></div></div></div></div></div>"
            ]
          },
          "metadata": {},
          "execution_count": 38
        }
      ]
    },
    {
      "cell_type": "code",
      "source": [
        "## Prediction evaluation\n",
        "\n",
        "y_pred_svc = model_svc.predict(X_val)"
      ],
      "metadata": {
        "id": "iY3dlKWZG7-o"
      },
      "execution_count": null,
      "outputs": []
    },
    {
      "cell_type": "code",
      "source": [
        "## Tests\n",
        "score_kaggle_svc = 76.31\n",
        "\n",
        "conf_matrix(y_pred_svc,y_val)\n",
        "results_svc = metrics(y_pred_svc,y_val)\n",
        "results['SVC'] = results_svc + [score_kaggle_svc]"
      ],
      "metadata": {
        "colab": {
          "base_uri": "https://localhost:8080/",
          "height": 173
        },
        "id": "MHe0ssAkGxti",
        "outputId": "6f9ba43b-5154-45e5-d41c-6c6ebe728dbd"
      },
      "execution_count": null,
      "outputs": [
        {
          "output_type": "display_data",
          "data": {
            "text/plain": [
              "<Figure size 504x288 with 2 Axes>"
            ],
            "image/png": "[encoded data removed]"
          },
          "metadata": {
            "needs_background": "light"
          }
        },
        {
          "output_type": "stream",
          "name": "stdout",
          "text": [
            "-------- Metrics ----------\n",
            "Accuracy   : 78.88 %\n",
            "Error rate : 21.12 %\n",
            "Recall     : 65.78 %\n",
            "Precision  : 81.12 %\n",
            "f1         : 72.65 %\n",
            "----------------------------\n"
          ]
        }
      ]
    },
    {
      "cell_type": "markdown",
      "source": [
        "## Gradient Boosting "
      ],
      "metadata": {
        "id": "pCM-cDKlJA_T"
      }
    },
    {
      "cell_type": "code",
      "source": [
        "## Model and Training\n",
        "model_GB = ensemble.GradientBoostingClassifier(learning_rate=0.1,                                            \n",
        "                                            n_estimators=2000,\n",
        "                                            max_depth=9,\n",
        "                                            min_samples_split=6,\n",
        "                                            min_samples_leaf=2,\n",
        "                                            max_features=8,\n",
        "                                            subsample=0.9)\n",
        "\n",
        "model_GB.fit(X_train, y_train)"
      ],
      "metadata": {
        "colab": {
          "base_uri": "https://localhost:8080/",
          "height": 128
        },
        "id": "AEADatfjJrZm",
        "outputId": "c11bca1c-a8ce-4a7b-9145-640e3a9b0c5b"
      },
      "execution_count": null,
      "outputs": [
        {
          "output_type": "execute_result",
          "data": {
            "text/plain": [
              "GradientBoostingClassifier(max_depth=9, max_features=8, min_samples_leaf=2,\n",
              "                           min_samples_split=6, n_estimators=2000,\n",
              "                           subsample=0.9)"
            ],
            "text/html": [
              "<style>#sk-container-id-4 {color: black;background-color: white;}#sk-container-id-4 pre{padding: 0;}#sk-container-id-4 div.sk-toggleable {background-color: white;}#sk-container-id-4 label.sk-toggleable__label {cursor: pointer;display: block;width: 100%;margin-bottom: 0;padding: 0.3em;box-sizing: border-box;text-align: center;}#sk-container-id-4 label.sk-toggleable__label-arrow:before {content: \"▸\";float: left;margin-right: 0.25em;color: #696969;}#sk-container-id-4 label.sk-toggleable__label-arrow:hover:before {color: black;}#sk-container-id-4 div.sk-estimator:hover label.sk-toggleable__label-arrow:before {color: black;}#sk-container-id-4 div.sk-toggleable__content {max-height: 0;max-width: 0;overflow: hidden;text-align: left;background-color: #f0f8ff;}#sk-container-id-4 div.sk-toggleable__content pre {margin: 0.2em;color: black;border-radius: 0.25em;background-color: #f0f8ff;}#sk-container-id-4 input.sk-toggleable__control:checked~div.sk-toggleable__content {max-height: 200px;max-width: 100%;overflow: auto;}#sk-container-id-4 input.sk-toggleable__control:checked~label.sk-toggleable__label-arrow:before {content: \"▾\";}#sk-container-id-4 div.sk-estimator input.sk-toggleable__control:checked~label.sk-toggleable__label {background-color: #d4ebff;}#sk-container-id-4 div.sk-label input.sk-toggleable__control:checked~label.sk-toggleable__label {background-color: #d4ebff;}#sk-container-id-4 input.sk-hidden--visually {border: 0;clip: rect(1px 1px 1px 1px);clip: rect(1px, 1px, 1px, 1px);height: 1px;margin: -1px;overflow: hidden;padding: 0;position: absolute;width: 1px;}#sk-container-id-4 div.sk-estimator {font-family: monospace;background-color: #f0f8ff;border: 1px dotted black;border-radius: 0.25em;box-sizing: border-box;margin-bottom: 0.5em;}#sk-container-id-4 div.sk-estimator:hover {background-color: #d4ebff;}#sk-container-id-4 div.sk-parallel-item::after {content: \"\";width: 100%;border-bottom: 1px solid gray;flex-grow: 1;}#sk-container-id-4 div.sk-label:hover label.sk-toggleable__label {background-color: #d4ebff;}#sk-container-id-4 div.sk-serial::before {content: \"\";position: absolute;border-left: 1px solid gray;box-sizing: border-box;top: 0;bottom: 0;left: 50%;z-index: 0;}#sk-container-id-4 div.sk-serial {display: flex;flex-direction: column;align-items: center;background-color: white;padding-right: 0.2em;padding-left: 0.2em;position: relative;}#sk-container-id-4 div.sk-item {position: relative;z-index: 1;}#sk-container-id-4 div.sk-parallel {display: flex;align-items: stretch;justify-content: center;background-color: white;position: relative;}#sk-container-id-4 div.sk-item::before, #sk-container-id-4 div.sk-parallel-item::before {content: \"\";position: absolute;border-left: 1px solid gray;box-sizing: border-box;top: 0;bottom: 0;left: 50%;z-index: -1;}#sk-container-id-4 div.sk-parallel-item {display: flex;flex-direction: column;z-index: 1;position: relative;background-color: white;}#sk-container-id-4 div.sk-parallel-item:first-child::after {align-self: flex-end;width: 50%;}#sk-container-id-4 div.sk-parallel-item:last-child::after {align-self: flex-start;width: 50%;}#sk-container-id-4 div.sk-parallel-item:only-child::after {width: 0;}#sk-container-id-4 div.sk-dashed-wrapped {border: 1px dashed gray;margin: 0 0.4em 0.5em 0.4em;box-sizing: border-box;padding-bottom: 0.4em;background-color: white;}#sk-container-id-4 div.sk-label label {font-family: monospace;font-weight: bold;display: inline-block;line-height: 1.2em;}#sk-container-id-4 div.sk-label-container {text-align: center;}#sk-container-id-4 div.sk-container {/* jupyter's `normalize.less` sets `[hidden] { display: none; }` but bootstrap.min.css set `[hidden] { display: none !important; }` so we also need the `!important` here to be able to override the default hidden behavior on the sphinx rendered scikit-learn.org. See: https://github.com/scikit-learn/scikit-learn/issues/21755 */display: inline-block !important;position: relative;}#sk-container-id-4 div.sk-text-repr-fallback {display: none;}</style><div id=\"sk-container-id-4\" class=\"sk-top-container\"><div class=\"sk-text-repr-fallback\"><pre>GradientBoostingClassifier(max_depth=9, max_features=8, min_samples_leaf=2,\n",
              "                           min_samples_split=6, n_estimators=2000,\n",
              "                           subsample=0.9)</pre><b>In a Jupyter environment, please rerun this cell to show the HTML representation or trust the notebook. <br />On GitHub, the HTML representation is unable to render, please try loading this page with nbviewer.org.</b></div><div class=\"sk-container\" hidden><div class=\"sk-item\"><div class=\"sk-estimator sk-toggleable\"><input class=\"sk-toggleable__control sk-hidden--visually\" id=\"sk-estimator-id-4\" type=\"checkbox\" checked><label for=\"sk-estimator-id-4\" class=\"sk-toggleable__label sk-toggleable__label-arrow\">GradientBoostingClassifier</label><div class=\"sk-toggleable__content\"><pre>GradientBoostingClassifier(max_depth=9, max_features=8, min_samples_leaf=2,\n",
              "                           min_samples_split=6, n_estimators=2000,\n",
              "                           subsample=0.9)</pre></div></div></div></div></div>"
            ]
          },
          "metadata": {},
          "execution_count": 41
        }
      ]
    },
    {
      "cell_type": "code",
      "source": [
        "## Prediction evaluation\n",
        "\n",
        "y_pred_GB = model_GB.predict(X_val)"
      ],
      "metadata": {
        "id": "kKzkMw_bJ5n2"
      },
      "execution_count": null,
      "outputs": []
    },
    {
      "cell_type": "code",
      "source": [
        "## Tests\n",
        "score_kaggle_GB = '-'\n",
        "\n",
        "conf_matrix(y_pred_GB,y_val)\n",
        "results_GB = metrics(y_pred_GB,y_val)\n",
        "results['GB'] = results_GB + [score_kaggle_GB]"
      ],
      "metadata": {
        "colab": {
          "base_uri": "https://localhost:8080/",
          "height": 173
        },
        "id": "rvuah2CYKNxm",
        "outputId": "de476ef5-e0dd-4076-b609-250c8a6cec13"
      },
      "execution_count": null,
      "outputs": [
        {
          "output_type": "display_data",
          "data": {
            "text/plain": [
              "<Figure size 504x288 with 2 Axes>"
            ],
            "image/png": "[encoded data removed]"
          },
          "metadata": {
            "needs_background": "light"
          }
        },
        {
          "output_type": "stream",
          "name": "stdout",
          "text": [
            "-------- Metrics ----------\n",
            "Accuracy   : 80.55 %\n",
            "Error rate : 19.45 %\n",
            "Recall     : 68.91 %\n",
            "Precision  : 82.58 %\n",
            "f1         : 75.13 %\n",
            "----------------------------\n"
          ]
        }
      ]
    },
    {
      "cell_type": "markdown",
      "source": [
        "# Deep Learning Models - Part 1\n",
        "\n",
        "This part of the notebook is deidcated to the discovery of DL models from the simplest one to the fined-tuning of the more complex one\n",
        "\n",
        "We tried on this part\n",
        "- A basic DL model for classification\n",
        "- The Temporal Convolutional Network (TCN)\n",
        "\n",
        "They were trained on the dataset `data_tokenize` of 200 dimensions "
      ],
      "metadata": {
        "id": "llOjytV5KdrH"
      }
    },
    {
      "cell_type": "markdown",
      "source": [
        "## Basic NN1"
      ],
      "metadata": {
        "id": "-y2v6bH1L43x"
      }
    },
    {
      "cell_type": "code",
      "source": [
        "## Model\n",
        "\n",
        "model_basicNN = keras.Sequential([\n",
        "    layers.Dense(4, activation='relu', input_shape=[200]),\n",
        "    layers.Dense(4, activation='relu'),    \n",
        "    layers.Dense(1, activation='sigmoid'), # the last layer compute a proba <0.5 the tweet is usual, overwhise it's disaster\n",
        "])\n",
        "\n",
        "model_basicNN.compile(\n",
        "    optimizer='adam',\n",
        "    loss='binary_crossentropy',\n",
        "    metrics=['binary_accuracy'],\n",
        ")"
      ],
      "metadata": {
        "id": "EoVJqvv9Mf0-"
      },
      "execution_count": null,
      "outputs": []
    },
    {
      "cell_type": "code",
      "source": [
        "## Training\n",
        "\n",
        "early_stopping = keras.callbacks.EarlyStopping(\n",
        "    patience=10, \n",
        "    min_delta=0.001,\n",
        "    restore_best_weights=True,\n",
        ")\n",
        "\n",
        "history = model_basicNN.fit(\n",
        "    X_train, y_train,\n",
        "    validation_data=(X_val, y_val),\n",
        "    batch_size=512,\n",
        "    epochs=1000, #BASE 1000\n",
        "    callbacks=[early_stopping],\n",
        "    verbose=0, # hide the output because we have so many epochs\n",
        ")"
      ],
      "metadata": {
        "id": "DJk8g79tN5zn"
      },
      "execution_count": null,
      "outputs": []
    },
    {
      "cell_type": "code",
      "source": [
        "## Evaluation \n",
        "\n",
        "history_df = pd.DataFrame(history.history)\n",
        "# Start the plot at epoch 5\n",
        "history_df.loc[5:, ['loss', 'val_loss']].plot()\n",
        "history_df.loc[5:, ['binary_accuracy', 'val_binary_accuracy']].plot()\n",
        "\n",
        "print((\"Best Validation Loss: {:0.4f}\" +\\\n",
        "      \"\\nBest Validation Accuracy: {:0.4f}\")\\\n",
        "      .format(history_df['val_loss'].min(), \n",
        "              history_df['val_binary_accuracy'].max()))"
      ],
      "metadata": {
        "colab": {
          "base_uri": "https://localhost:8080/",
          "height": 547
        },
        "id": "yk7Z4D6xNsHK",
        "outputId": "4da8001f-1aeb-41f4-9853-4c14e8534c8f"
      },
      "execution_count": null,
      "outputs": [
        {
          "output_type": "stream",
          "name": "stdout",
          "text": [
            "Best Validation Loss: 0.4620\n",
            "Best Validation Accuracy: 0.7848\n"
          ]
        },
        {
          "output_type": "display_data",
          "data": {
            "text/plain": [
              "<Figure size 432x288 with 1 Axes>"
            ],
            "image/png": "[encoded data removed]"
          },
          "metadata": {
            "needs_background": "light"
          }
        },
        {
          "output_type": "display_data",
          "data": {
            "text/plain": [
              "<Figure size 432x288 with 1 Axes>"
            ],
            "image/png": "[encoded data removed]"
          },
          "metadata": {
            "needs_background": "light"
          }
        }
      ]
    },
    {
      "cell_type": "code",
      "source": [
        "## evaluation \n",
        "\n",
        "y_pred_basicNN = model_basicNN.predict(X_val) \n",
        "y_pred_basicNN = [0 if x<0.5 else 1 for x in y_pred_basicNN]\n",
        "score_kaggle_basicNN = 76.40\n",
        "\n",
        "conf_matrix(y_pred_basicNN,y_val)\n",
        "results_basicNN = metrics(y_pred_basicNN,y_val)\n",
        "results['Basic NN'] = results_basicNN + [score_kaggle_basicNN]"
      ],
      "metadata": {
        "colab": {
          "base_uri": "https://localhost:8080/",
          "height": 431
        },
        "id": "CiRLSBwyOSlg",
        "outputId": "12ec49cb-b4a4-4fe0-ea4e-831675722074"
      },
      "execution_count": null,
      "outputs": [
        {
          "output_type": "stream",
          "name": "stdout",
          "text": [
            "47/47 [==============================] - 0s 2ms/step\n"
          ]
        },
        {
          "output_type": "display_data",
          "data": {
            "text/plain": [
              "<Figure size 504x288 with 2 Axes>"
            ],
            "image/png": "[encoded data removed]"
          },
          "metadata": {
            "needs_background": "light"
          }
        },
        {
          "output_type": "stream",
          "name": "stdout",
          "text": [
            "-------- Metrics ----------\n",
            "Accuracy   : 78.08 %\n",
            "Error rate : 21.92 %\n",
            "Recall     : 68.12 %\n",
            "Precision  : 77.72 %\n",
            "f1         : 72.61 %\n",
            "----------------------------\n"
          ]
        }
      ]
    },
    {
      "cell_type": "markdown",
      "source": [
        "## TCN"
      ],
      "metadata": {
        "id": "JMGXyrrCPvaP"
      }
    },
    {
      "cell_type": "markdown",
      "source": [
        "Sources\n",
        "- https://github.com/diardanoraihan/Text_Classification_Capstone/blob/main/3_WordEmbedding_Models/Word2Vec/2_TCN/TCN_CR.ipynb\n",
        "- https://github.com/philipperemy/keras-tcn\n",
        "- https://towardsdatascience.com/deep-learning-techniques-for-text-classification-78d9dc40bf7c"
      ],
      "metadata": {
        "id": "6HFBy4EFQK-2"
      }
    },
    {
      "cell_type": "code",
      "source": [
        "## Model architecture\n",
        "\n",
        "def define_model_TCN(kernel_size = 1, activation='relu', input_dim = None, output_dim=300, max_length = None ):\n",
        "    \n",
        "    inp = Input( shape=(max_length,))\n",
        "    x = Embedding(input_dim=input_dim, output_dim=output_dim, input_length=max_length)(inp)\n",
        "    x = SpatialDropout1D(0.1)(x)\n",
        "    \n",
        "    x = TCN(128,dilations = [1, 2, 4], return_sequences=True, activation = activation, name = 'tcn1')(x)\n",
        "    x = TCN(64,dilations = [1, 2, 4], return_sequences=True, activation = activation, name = 'tcn2')(x)\n",
        "    \n",
        "    avg_pool = GlobalAveragePooling1D()(x)\n",
        "    max_pool = GlobalMaxPooling1D()(x)\n",
        "    \n",
        "    conc = concatenate([avg_pool, max_pool])\n",
        "    conc = Dense(16, activation=\"relu\")(conc)\n",
        "    conc = Dropout(0.1)(conc)\n",
        "    outp = Dense(1, activation=\"sigmoid\")(conc)    \n",
        "\n",
        "    model = Model(inputs=inp, outputs=outp)\n",
        "    model.compile( loss = 'binary_crossentropy', optimizer = 'adam', metrics = ['accuracy'])\n",
        "    \n",
        "    return model\n",
        "\n",
        "# Build the model\n",
        "max = X_train.shape[1]\n",
        "model_TCN = define_model_TCN( input_dim=1000, max_length=max)\n",
        "model_TCN.summary()"
      ],
      "metadata": {
        "colab": {
          "base_uri": "https://localhost:8080/"
        },
        "id": "SA3DNa27P6s7",
        "outputId": "c3614310-71bc-42c8-9499-e0fe0aa6358e"
      },
      "execution_count": null,
      "outputs": [
        {
          "output_type": "stream",
          "name": "stdout",
          "text": [
            "Model: \"model_2\"\n",
            "__________________________________________________________________________________________________\n",
            " Layer (type)                   Output Shape         Param #     Connected to                     \n",
            "==================================================================================================\n",
            " input_3 (InputLayer)           [(None, 200)]        0           []                               \n",
            "                                                                                                  \n",
            " embedding_2 (Embedding)        (None, 200, 300)     300000      ['input_3[0][0]']                \n",
            "                                                                                                  \n",
            " spatial_dropout1d_2 (SpatialDr  (None, 200, 300)    0           ['embedding_2[0][0]']            \n",
            " opout1D)                                                                                         \n",
            "                                                                                                  \n",
            " tcn1 (TCN)                     (None, 200, 128)     400256      ['spatial_dropout1d_2[0][0]']    \n",
            "                                                                                                  \n",
            " tcn2 (TCN)                     (None, 200, 64)      94656       ['tcn1[0][0]']                   \n",
            "                                                                                                  \n",
            " global_average_pooling1d_2 (Gl  (None, 64)          0           ['tcn2[0][0]']                   \n",
            " obalAveragePooling1D)                                                                            \n",
            "                                                                                                  \n",
            " global_max_pooling1d_2 (Global  (None, 64)          0           ['tcn2[0][0]']                   \n",
            " MaxPooling1D)                                                                                    \n",
            "                                                                                                  \n",
            " concatenate_2 (Concatenate)    (None, 128)          0           ['global_average_pooling1d_2[0][0\n",
            "                                                                 ]',                              \n",
            "                                                                  'global_max_pooling1d_2[0][0]'] \n",
            "                                                                                                  \n",
            " dense_7 (Dense)                (None, 16)           2064        ['concatenate_2[0][0]']          \n",
            "                                                                                                  \n",
            " dropout_2 (Dropout)            (None, 16)           0           ['dense_7[0][0]']                \n",
            "                                                                                                  \n",
            " dense_8 (Dense)                (None, 1)            17          ['dropout_2[0][0]']              \n",
            "                                                                                                  \n",
            "==================================================================================================\n",
            "Total params: 796,993\n",
            "Trainable params: 796,993\n",
            "Non-trainable params: 0\n",
            "__________________________________________________________________________________________________\n"
          ]
        }
      ]
    },
    {
      "cell_type": "code",
      "source": [
        "##  Train the model\n",
        "\n",
        "# Create a callback that stop the epoch when the model overfit\n",
        "callbacks = tf.keras.callbacks.EarlyStopping(monitor='val_accuracy', min_delta=0, \n",
        "                                             patience=10, verbose=2, \n",
        "                                             mode='auto', restore_best_weights=True)\n",
        "\n",
        "#-----------------------------------------#\n",
        "# Unknown package error - Grpah error     #\n",
        "#-----------------------------------------#\n",
        "\n",
        "#model_TCN.fit(X_train, y_train, batch_size=50, epochs=50, verbose=1)\n",
        "# => we used the load_model \n",
        "\n",
        "#model_TCN = load_model('/content/drive/MyDrive/FDA_Challenge/Models/model_TCN')"
      ],
      "metadata": {
        "id": "iPX9l9kFVbfh"
      },
      "execution_count": null,
      "outputs": []
    },
    {
      "cell_type": "code",
      "source": [
        "## Evaluation \n",
        "\n",
        "score_kaggle_TCN = 76.34\n",
        "\n",
        "#conf_matrix(y_pred_LSTM1,Y_val)\n",
        "#results_LSTM1 = metrics(y_pred_LSTM1,y_val)\n",
        "results['TCN'] = ['-','-','-','-','-'] + [score_kaggle_TCN]"
      ],
      "metadata": {
        "id": "I6z1FQALWVqO"
      },
      "execution_count": null,
      "outputs": []
    },
    {
      "cell_type": "markdown",
      "source": [
        "# Deep Learning Models - Part 2\n",
        "\n",
        "In this last part we are using the best models to solve our problems but we keep the winnign one for the part 3 \n",
        "\n",
        "We tried on this part\n",
        "- Long Short Term Memory (LSTM1)\n",
        "- Long Short Term Memory (LSTM2)\n",
        "\n",
        "These model didn't trained on the previous dataset ```data_tokenize``` because the preprocessing requiers antoher approach. There is LSTM1 & 2 because their architectures are a little bit different\n",
        "\n"
      ],
      "metadata": {
        "id": "Ofqy0c6oRwqj"
      }
    },
    {
      "cell_type": "markdown",
      "source": [
        "## Preprocessing \n",
        "\n",
        "We start from scratch with the brut tweets (in    ```data_train```) because we have to deal with another type of tokenization which is more accurate.\n",
        "\n",
        "So first, let's clean the data as usual\n",
        "\n",
        "\n",
        "Source : https://towardsdatascience.com/text-classification-using-word-embeddings-and-deep-learning-in-python-classifying-tweets-from-6fe644fcfc81"
      ],
      "metadata": {
        "id": "f46fmb6SApOZ"
      }
    },
    {
      "cell_type": "markdown",
      "source": [
        "### Cleaning & tokenization\n"
      ],
      "metadata": {
        "id": "NCyn8wS3ec4_"
      }
    },
    {
      "cell_type": "code",
      "source": [
        "def clean_text(\n",
        "    string: str, \n",
        "    punctuations=r'''!()-[]{};:'\"\\,<>./?@#$%^&*_~''',\n",
        "    stop_words=['the', 'a', 'and', 'is', 'be', 'will']) -> str:\n",
        "    \"\"\"\n",
        "    A method to clean text \n",
        "    \"\"\"\n",
        "    # Cleaning the urls\n",
        "    string = re.sub(r'https?://\\S+|www\\.\\S+', '', string)\n",
        "\n",
        "    # Cleaning the html elements\n",
        "    string = re.sub(r'<.*?>', '', string)\n",
        "\n",
        "    # Removing the punctuations\n",
        "    for x in string.lower(): \n",
        "        if x in punctuations: \n",
        "            string = string.replace(x, \"\") \n",
        "\n",
        "    # Converting the text to lower\n",
        "    string = string.lower()\n",
        "\n",
        "    # Removing stop words\n",
        "    string = ' '.join([word for word in string.split() if word not in stop_words])\n",
        "\n",
        "    # Cleaning the whitespaces\n",
        "    string = re.sub(r'\\s+', ' ', string).strip()\n",
        "\n",
        "    return string        "
      ],
      "metadata": {
        "id": "rcGT6LjiduUS"
      },
      "execution_count": null,
      "outputs": []
    },
    {
      "cell_type": "code",
      "source": [
        "## Clean the text\n",
        "\n",
        "X = [clean_text(text) for text in text]\n",
        "Y = np.asarray(target)"
      ],
      "metadata": {
        "id": "UTa5ASj6eZc7"
      },
      "execution_count": null,
      "outputs": []
    },
    {
      "cell_type": "code",
      "source": [
        "## Split in train and val\n",
        "\n",
        "X_train, X_val, Y_train, Y_val = train_test_split(X, Y, test_size=0.2, stratify=Y, random_state=0)"
      ],
      "metadata": {
        "id": "THI_APGFC17P"
      },
      "execution_count": null,
      "outputs": []
    },
    {
      "cell_type": "code",
      "source": [
        "## Tokenizing the text\n",
        "\n",
        "tokenizer = Tokenizer()\n",
        "tokenizer.fit_on_texts(X_train) #compute de token in intern memory"
      ],
      "metadata": {
        "id": "TrKL4Hyafsla"
      },
      "execution_count": null,
      "outputs": []
    },
    {
      "cell_type": "code",
      "source": [
        "## Useful command to deal with tokenizer\n",
        "\"\"\"\n",
        "tokenizer.word_index #Dictonnary of unique word in the all X_train\n",
        "tokenizer.texts_to_sequences(X_train) #Matrix of each tweet with worlds indexed in the previous dic\n",
        "\"\"\""
      ],
      "metadata": {
        "id": "NqlZJGwtgFMe",
        "colab": {
          "base_uri": "https://localhost:8080/",
          "height": 1000
        },
        "outputId": "53bf060e-33c1-49f6-8546-78fb5e02b7aa"
      },
      "execution_count": null,
      "outputs": [
        {
          "output_type": "execute_result",
          "data": {
            "text/plain": [
              "'\\ntokenizer.word_index #Dictonnary of unique word in the all X_train\\ntokenizer.texts_to_sequences(X_train) #Matrix of each tweet with worlds indexed in the previous dic\\n'"
            ],
            "application/vnd.google.colaboratory.intrinsic+json": {
              "type": "string"
            }
          },
          "metadata": {},
          "execution_count": 53
        }
      ]
    },
    {
      "cell_type": "code",
      "source": [
        "print(\"The entire dataset contains \",len(tokenizer.word_index),\" unique words\")"
      ],
      "metadata": {
        "colab": {
          "base_uri": "https://localhost:8080/"
        },
        "id": "3LnHaK6LJQ79",
        "outputId": "973e7306-87bc-45f8-d054-a3a79621371f"
      },
      "execution_count": null,
      "outputs": [
        {
          "output_type": "stream",
          "name": "stdout",
          "text": [
            "The entire dataset contains  15726  unique words\n"
          ]
        }
      ]
    },
    {
      "cell_type": "markdown",
      "source": [
        "At this step \n",
        "\n",
        "- **We cleaned the data :**\n",
        "\n",
        "  For exemple we transform ```We always try to bring the heavy. #metal #RT http://t.co/YAo1e0xngw``` into ```we always try to bring heavy metal rt``` \n",
        "\n",
        "- **We tokenize the text :**\n",
        "\n",
        "  - ```tokenizer.word_index``` gives a dictionnary of all words used in the dataset, and indexed them\n",
        "  - ```tokenizer.texts_to_sequences(X_train)``` gives a dictionnary of all tweets, containing labeled words \n",
        "\n",
        "This step is fundamental to understanc the next one, **the embeding**"
      ],
      "metadata": {
        "id": "h7bEJl9RBmF7"
      }
    },
    {
      "cell_type": "markdown",
      "source": [
        "### Embeding Matrix\n",
        "\n",
        "What is an embeding matrix ?\n",
        "\n",
        "This matrix of shape (nb_rows = number of unique words / nb_columns = dimensions choose) contains for each unique word its mathematical representation in a vector of X dimension. To access these vectors we have to download a txt file, resulting of a huge training on very big data set (Wikipedia4, ...). The model behind in a neural network that contains one input layer, one hidden layer, and one output layer.\n",
        "\n",
        "**=> The goal is to find a mathematical representation of each word <=**\n",
        "\n",
        "\n",
        "All glove dataset are available here\n",
        "https://nlp.stanford.edu/projects/glove/\n",
        "\n",
        "In this notebook we have used two glove files:\n",
        "- a very large dataset of 300 dimensions called ```glove.840B.300d.txt```\n",
        "- a smaller on of 50 dimensions, specialized in tweets called ```glove.twitter.27B.50d.txt```\n",
        "\n",
        "\n",
        "\n"
      ],
      "metadata": {
        "id": "awGopb-VjXEx"
      }
    },
    {
      "cell_type": "code",
      "source": [
        "def create_embedding_matrix(path, vector_dimension, tokenizer, max_features):\n",
        "  \"\"\"\n",
        "  A method to create the embedding matrix\n",
        "  \"\"\"\n",
        "  def get_coefs(word, *arr): \n",
        "    return word, np.asarray(arr, dtype='float32')\n",
        "\n",
        "\n",
        "  model_embed = dict(get_coefs(*o.split(\" \")) for o in open(path, errors='ignore'))\n",
        "\n",
        "  embedding_matrix = np.zeros((max_features + 1, vector_dimension))\n",
        "  for word, index in tokenizer.word_index.items():\n",
        "    if index > max_features:\n",
        "       break\n",
        "    else:\n",
        "       try:\n",
        "         embedding_matrix[index] = model_embed[word]\n",
        "       except:\n",
        "         continue\n",
        "  return embedding_matrix"
      ],
      "metadata": {
        "id": "9vyPP-1RlTUC"
      },
      "execution_count": null,
      "outputs": []
    },
    {
      "cell_type": "code",
      "source": [
        "## Creating the embedding matrix\n",
        "\n",
        "path_300d = '/content/drive/MyDrive/FDA_Challenge/Models/glove/glove.840B.300d.txt'\n",
        "path_50d = '/content/drive/MyDrive/FDA_Challenge/Models/glove/glove.twitter.27B.50d.txt'\n",
        "\n",
        "max_features = len(tokenizer.word_counts)\n",
        "\n",
        "embedding_matrix_300d = create_embedding_matrix(path_300d, 300 , tokenizer, max_features)\n",
        "embedding_matrix_50d = create_embedding_matrix(path_50d, 50, tokenizer, max_features)"
      ],
      "metadata": {
        "id": "vQA0vAyHja0b"
      },
      "execution_count": null,
      "outputs": []
    },
    {
      "cell_type": "code",
      "source": [
        "print(embedding_matrix_300d.shape)\n",
        "print(embedding_matrix_50d.shape)"
      ],
      "metadata": {
        "colab": {
          "base_uri": "https://localhost:8080/"
        },
        "id": "J9R2nRVVJCDD",
        "outputId": "72c66395-2e19-4d3e-e649-cc32299cf583"
      },
      "execution_count": null,
      "outputs": [
        {
          "output_type": "stream",
          "name": "stdout",
          "text": [
            "(15727, 300)\n",
            "(15727, 50)\n"
          ]
        }
      ]
    },
    {
      "cell_type": "markdown",
      "source": [
        "### Create the input Tensor"
      ],
      "metadata": {
        "id": "TvobiqTl2BRg"
      }
    },
    {
      "cell_type": "code",
      "source": [
        "def string_to_tensor(tokenizer, max_len, string_list: list) -> list:\n",
        "  \"\"\"\n",
        "  A method to convert a string list to a tensor for a deep learning model\n",
        "  \"\"\"    \n",
        "  string_list = tokenizer.texts_to_sequences(string_list)\n",
        "  string_list = pad_sequences(string_list, maxlen=max_len)\n",
        "        \n",
        "  return string_list"
      ],
      "metadata": {
        "id": "0qU_ssG42EjR"
      },
      "execution_count": null,
      "outputs": []
    },
    {
      "cell_type": "code",
      "source": [
        "# Creating the padded input for the deep learning model\n",
        "max_len = np.max([len(text.split()) for text in X_train])\n",
        "X_train = string_to_tensor(tokenizer, max_len,X_train)"
      ],
      "metadata": {
        "id": "76cFrmTl0_5r"
      },
      "execution_count": null,
      "outputs": []
    },
    {
      "cell_type": "markdown",
      "source": [
        "## LSTM 1 - 300 dimensions"
      ],
      "metadata": {
        "id": "BHPeLa_V3gtx"
      }
    },
    {
      "cell_type": "code",
      "source": [
        "## The model\n",
        "\n",
        "def get_model_LSTM1(embedding_matrix, embedding_dim, max_len, X_additional=None):\n",
        "\n",
        "  inp1 = Input(shape=(max_len,))\n",
        "  x = Embedding(embedding_matrix.shape[0], embedding_dim, weights=[embedding_matrix])(inp1)\n",
        "  x = Bidirectional(LSTM(256, return_sequences=True))(x)\n",
        "  x = Bidirectional(LSTM(150))(x)\n",
        "  x = Dense(128, activation=\"relu\")(x)\n",
        "  x = Dropout(0.1)(x)\n",
        "  x = Dense(64, activation=\"relu\")(x)\n",
        "  x = Dense(1, activation=\"sigmoid\")(x)    \n",
        "  model = Model(inputs=inp1, outputs=x)\n",
        "\n",
        "  model.compile(loss = 'binary_crossentropy', optimizer = 'adam')\n",
        "  \n",
        "  return model"
      ],
      "metadata": {
        "id": "yY2EzG0ezF02"
      },
      "execution_count": null,
      "outputs": []
    },
    {
      "cell_type": "code",
      "source": [
        "# Create a callback that stop the epoch when the model overfit\n",
        "\n",
        "callbacks = callbacks.EarlyStopping(monitor='val_accuracy', min_delta=0, \n",
        "                                             patience=10, verbose=2, \n",
        "                                             mode='auto', restore_best_weights=True)"
      ],
      "metadata": {
        "id": "mvdVR2UMPPTF"
      },
      "execution_count": null,
      "outputs": []
    },
    {
      "cell_type": "code",
      "source": [
        "## Create the model\n",
        "epochs = 10\n",
        "batch_size = 256\n",
        "embed_dimension = 300\n",
        "\n",
        "model_LSTM1 = get_model_LSTM1(\n",
        "            embedding_matrix=embedding_matrix_300d, \n",
        "            embedding_dim= embed_dimension, \n",
        "            max_len=max_len)\n",
        "\n",
        "model_LSTM1.summary()"
      ],
      "metadata": {
        "colab": {
          "base_uri": "https://localhost:8080/"
        },
        "id": "ZlYAW2Sy5DoC",
        "outputId": "e20e3df0-f713-49d2-fcfa-28d4ae6271bb"
      },
      "execution_count": null,
      "outputs": [
        {
          "output_type": "stream",
          "name": "stdout",
          "text": [
            "Model: \"model_3\"\n",
            "_________________________________________________________________\n",
            " Layer (type)                Output Shape              Param #   \n",
            "=================================================================\n",
            " input_4 (InputLayer)        [(None, 29)]              0         \n",
            "                                                                 \n",
            " embedding_3 (Embedding)     (None, 29, 300)           4718100   \n",
            "                                                                 \n",
            " bidirectional (Bidirectiona  (None, 29, 512)          1140736   \n",
            " l)                                                              \n",
            "                                                                 \n",
            " bidirectional_1 (Bidirectio  (None, 300)              795600    \n",
            " nal)                                                            \n",
            "                                                                 \n",
            " dense_12 (Dense)            (None, 128)               38528     \n",
            "                                                                 \n",
            " dropout_3 (Dropout)         (None, 128)               0         \n",
            "                                                                 \n",
            " dense_13 (Dense)            (None, 64)                8256      \n",
            "                                                                 \n",
            " dense_14 (Dense)            (None, 1)                 65        \n",
            "                                                                 \n",
            "=================================================================\n",
            "Total params: 6,701,285\n",
            "Trainable params: 6,701,285\n",
            "Non-trainable params: 0\n",
            "_________________________________________________________________\n"
          ]
        }
      ]
    },
    {
      "cell_type": "code",
      "source": [
        "## Training\n",
        "model_LSTM1.fit(X_train,Y_train,\n",
        "              batch_size=batch_size,\n",
        "              epochs=epochs\n",
        "              )"
      ],
      "metadata": {
        "colab": {
          "base_uri": "https://localhost:8080/"
        },
        "id": "yOH8hiVPO-d0",
        "outputId": "4e8f1cca-fc2e-40fe-9b5e-8e161d3aa85c"
      },
      "execution_count": null,
      "outputs": [
        {
          "output_type": "stream",
          "name": "stdout",
          "text": [
            "Epoch 1/10\n",
            "24/24 [==============================] - 92s 3s/step - loss: 0.4975\n",
            "Epoch 2/10\n",
            "24/24 [==============================] - 95s 4s/step - loss: 0.3719\n",
            "Epoch 3/10\n",
            "24/24 [==============================] - 83s 4s/step - loss: 0.2960\n",
            "Epoch 4/10\n",
            "24/24 [==============================] - 88s 4s/step - loss: 0.2083\n",
            "Epoch 5/10\n",
            "24/24 [==============================] - 66s 3s/step - loss: 0.1477\n",
            "Epoch 6/10\n",
            "24/24 [==============================] - 66s 3s/step - loss: 0.1032\n",
            "Epoch 7/10\n",
            "24/24 [==============================] - 110s 5s/step - loss: 0.0742\n",
            "Epoch 8/10\n",
            "24/24 [==============================] - 103s 4s/step - loss: 0.0497\n",
            "Epoch 9/10\n",
            "24/24 [==============================] - 97s 4s/step - loss: 0.0395\n",
            "Epoch 10/10\n",
            "24/24 [==============================] - 75s 3s/step - loss: 0.0387\n"
          ]
        },
        {
          "output_type": "execute_result",
          "data": {
            "text/plain": [
              "<keras.callbacks.History at 0x7ff822750790>"
            ]
          },
          "metadata": {},
          "execution_count": 64
        }
      ]
    },
    {
      "cell_type": "code",
      "source": [
        "## Prediction\n",
        "\n",
        "X_val2 = string_to_tensor(tokenizer, max_len,X_val)\n",
        "yhat = [x[0] for x in model_LSTM1.predict(X_val2).tolist()]\n",
        "y_pred_LSTM1 = [1 if x > 0.5 else 0 for x in yhat]\n"
      ],
      "metadata": {
        "id": "1g8MIPYjRjjg",
        "colab": {
          "base_uri": "https://localhost:8080/"
        },
        "outputId": "a953158a-f7d8-4db5-d501-832cfdaa655e"
      },
      "execution_count": null,
      "outputs": [
        {
          "output_type": "stream",
          "name": "stdout",
          "text": [
            "48/48 [==============================] - 13s 235ms/step\n"
          ]
        }
      ]
    },
    {
      "cell_type": "code",
      "source": [
        "## Evaluation \n",
        "\n",
        "score_kaggle_LSTM1 = 78.24\n",
        "\n",
        "conf_matrix(y_pred_LSTM1,Y_val)\n",
        "results_LSTM1 = metrics(y_pred_LSTM1,Y_val)\n",
        "results['LSTM1'] = results_LSTM1 + [score_kaggle_LSTM1]"
      ],
      "metadata": {
        "id": "xHGl0zZeQ3JI",
        "colab": {
          "base_uri": "https://localhost:8080/",
          "height": 414
        },
        "outputId": "66e20180-a9c7-4642-8068-dd38a1b84fdd"
      },
      "execution_count": null,
      "outputs": [
        {
          "output_type": "display_data",
          "data": {
            "text/plain": [
              "<Figure size 504x288 with 2 Axes>"
            ],
            "image/png": "[encoded data removed]"
          },
          "metadata": {
            "needs_background": "light"
          }
        },
        {
          "output_type": "stream",
          "name": "stdout",
          "text": [
            "-------- Metrics ----------\n",
            "Accuracy   : 79.65 %\n",
            "Error rate : 20.35 %\n",
            "Recall     : 68.65 %\n",
            "Precision  : 81.05 %\n",
            "f1         : 74.34 %\n",
            "----------------------------\n"
          ]
        }
      ]
    },
    {
      "cell_type": "code",
      "source": [
        "## Save Model\n",
        "\n",
        "#model_LSTM1.save('/content/drive/MyDrive/FDA_Challenge/Models/model_LSTM1') "
      ],
      "metadata": {
        "id": "GRDF1Qt9SrsI",
        "colab": {
          "base_uri": "https://localhost:8080/"
        },
        "outputId": "28bb433d-bed5-4667-f5d1-688e76b5f0a4"
      },
      "execution_count": null,
      "outputs": [
        {
          "output_type": "stream",
          "name": "stderr",
          "text": [
            "WARNING:absl:Found untraced functions such as _update_step_xla, lstm_cell_1_layer_call_fn, lstm_cell_1_layer_call_and_return_conditional_losses, lstm_cell_2_layer_call_fn, lstm_cell_2_layer_call_and_return_conditional_losses while saving (showing 5 of 9). These functions will not be directly callable after loading.\n"
          ]
        }
      ]
    },
    {
      "cell_type": "markdown",
      "source": [
        "## LSTM 2 - 50 dimensions"
      ],
      "metadata": {
        "id": "xavtZP1oXsRq"
      }
    },
    {
      "cell_type": "code",
      "source": [
        "## The model\n",
        "\n",
        "def get_model_LSTM2(embedding_matrix, embedding_dim):\n",
        "\n",
        "  # build the model\n",
        "  model = Sequential()\n",
        "  model.add(Embedding(embedding_matrix.shape[0],embedding_dim, weights = [embedding_matrix], trainable=True))\n",
        "  model.add(Bidirectional(LSTM(25, dropout=0.1)))\n",
        "  model.add(Dense(25, activation='relu',kernel_regularizer=regularizers.l2(0.01)))\n",
        "  model.add(Dropout(0.1))\n",
        "  model.add(Dense(12, activation='relu',kernel_regularizer=regularizers.l2(0.001)))\n",
        "  model.add(Dropout(0.1))\n",
        "  model.add(Dense(2,activation = 'sigmoid'))\n",
        "\n",
        "  # compile\n",
        "  optimizer = tf.keras.optimizers.Adam(learning_rate=0.0001)\n",
        "\n",
        "  model.compile(\n",
        "      optimizer = optimizer,\n",
        "      loss = tf.keras.losses.BinaryCrossentropy(from_logits=True),\n",
        "      metrics = [tf.keras.metrics.BinaryAccuracy(name='accuracy'),\n",
        "                tf.keras.metrics.Precision(name='precision'),\n",
        "                tf.keras.metrics.Recall(name='recall')]\n",
        "  )\n",
        "\n",
        "  return model"
      ],
      "metadata": {
        "id": "RcWKgsV5A0TN"
      },
      "execution_count": null,
      "outputs": []
    },
    {
      "cell_type": "code",
      "source": [
        "## Create the model\n",
        "\n",
        "embedding_dim = 50\n",
        "\n",
        "model_LSTM2 = get_model_LSTM2(embedding_matrix_50d, embedding_dim)\n",
        "model_LSTM2.summary()"
      ],
      "metadata": {
        "colab": {
          "base_uri": "https://localhost:8080/"
        },
        "id": "zlYJy2qg8Nzh",
        "outputId": "f11b61d5-72a7-4cc3-fc1e-f9b52804f32c"
      },
      "execution_count": null,
      "outputs": [
        {
          "output_type": "stream",
          "name": "stdout",
          "text": [
            "Model: \"sequential_2\"\n",
            "_________________________________________________________________\n",
            " Layer (type)                Output Shape              Param #   \n",
            "=================================================================\n",
            " embedding_4 (Embedding)     (None, None, 50)          786350    \n",
            "                                                                 \n",
            " bidirectional_2 (Bidirectio  (None, 50)               15200     \n",
            " nal)                                                            \n",
            "                                                                 \n",
            " dense_15 (Dense)            (None, 25)                1275      \n",
            "                                                                 \n",
            " dropout_4 (Dropout)         (None, 25)                0         \n",
            "                                                                 \n",
            " dense_16 (Dense)            (None, 12)                312       \n",
            "                                                                 \n",
            " dropout_5 (Dropout)         (None, 12)                0         \n",
            "                                                                 \n",
            " dense_17 (Dense)            (None, 2)                 26        \n",
            "                                                                 \n",
            "=================================================================\n",
            "Total params: 803,163\n",
            "Trainable params: 803,163\n",
            "Non-trainable params: 0\n",
            "_________________________________________________________________\n"
          ]
        }
      ]
    },
    {
      "cell_type": "code",
      "source": [
        "## callbacks\n",
        "\n",
        "reduce_lr = tf.keras.callbacks.ReduceLROnPlateau(monitor=\"val_loss\", factor=0.3, \n",
        "                                                  patience=2, verbose=1, min_lr=1e-7)\n",
        "acc = tf.keras.callbacks.EarlyStopping(monitor='val_accuracy', min_delta=0, \n",
        "                                              patience=10, verbose=2, \n",
        "                                              mode='auto', restore_best_weights=True)\n",
        "\n",
        "callbacks = [reduce_lr, acc]"
      ],
      "metadata": {
        "id": "A1jvDfUyBxRy"
      },
      "execution_count": null,
      "outputs": []
    },
    {
      "cell_type": "code",
      "source": [
        "## Training\n",
        "\n",
        "y_train = to_categorical(Y_train) \n",
        "x_val = string_to_tensor(tokenizer, embedding_dim, X_val)\n",
        "y_val = to_categorical(Y_val)\n",
        "\n",
        "model_LSTM2.fit(\n",
        "    X_train, y_train,\n",
        "    validation_data=(x_val, y_val), \n",
        "    batch_size = 32,\n",
        "    epochs = 50,\n",
        "    callbacks = callbacks)"
      ],
      "metadata": {
        "colab": {
          "base_uri": "https://localhost:8080/"
        },
        "id": "2RQAHi-65s_E",
        "outputId": "766f7856-6c43-458a-c8b0-cfd70a6a7bc5"
      },
      "execution_count": null,
      "outputs": [
        {
          "output_type": "stream",
          "name": "stdout",
          "text": [
            "Epoch 1/50\n"
          ]
        },
        {
          "output_type": "stream",
          "name": "stderr",
          "text": [
            "/usr/local/lib/python3.9/dist-packages/keras/backend.py:5676: UserWarning: \"`binary_crossentropy` received `from_logits=True`, but the `output` argument was produced by a Sigmoid activation and thus does not represent logits. Was this intended?\n",
            "  output, from_logits = _get_logits(\n"
          ]
        },
        {
          "output_type": "stream",
          "name": "stdout",
          "text": [
            "191/191 [==============================] - 30s 96ms/step - loss: 1.0173 - accuracy: 0.4720 - precision: 0.4712 - recall: 0.4576 - val_loss: 0.9792 - val_accuracy: 0.5167 - val_precision: 0.5240 - val_recall: 0.3657 - lr: 1.0000e-04\n",
            "Epoch 2/50\n",
            "191/191 [==============================] - 14s 75ms/step - loss: 0.9447 - accuracy: 0.5768 - precision: 0.5780 - recall: 0.5695 - val_loss: 0.9085 - val_accuracy: 0.6664 - val_precision: 0.6841 - val_recall: 0.6185 - lr: 1.0000e-04\n",
            "Epoch 3/50\n",
            "191/191 [==============================] - 16s 84ms/step - loss: 0.8378 - accuracy: 0.7034 - precision: 0.6843 - recall: 0.7553 - val_loss: 0.7651 - val_accuracy: 0.7705 - val_precision: 0.7700 - val_recall: 0.7715 - lr: 1.0000e-04\n",
            "Epoch 4/50\n",
            "191/191 [==============================] - 23s 123ms/step - loss: 0.7346 - accuracy: 0.7486 - precision: 0.7427 - recall: 0.7608 - val_loss: 0.6929 - val_accuracy: 0.7814 - val_precision: 0.7814 - val_recall: 0.7814 - lr: 1.0000e-04\n",
            "Epoch 5/50\n",
            "191/191 [==============================] - 18s 95ms/step - loss: 0.6734 - accuracy: 0.7635 - precision: 0.7595 - recall: 0.7711 - val_loss: 0.6578 - val_accuracy: 0.7768 - val_precision: 0.7790 - val_recall: 0.7728 - lr: 1.0000e-04\n",
            "Epoch 6/50\n",
            "191/191 [==============================] - 13s 68ms/step - loss: 0.6312 - accuracy: 0.7695 - precision: 0.7652 - recall: 0.7775 - val_loss: 0.6256 - val_accuracy: 0.7833 - val_precision: 0.7841 - val_recall: 0.7820 - lr: 1.0000e-04\n",
            "Epoch 7/50\n",
            "191/191 [==============================] - 10s 53ms/step - loss: 0.5976 - accuracy: 0.7768 - precision: 0.7728 - recall: 0.7842 - val_loss: 0.6036 - val_accuracy: 0.7902 - val_precision: 0.7912 - val_recall: 0.7886 - lr: 1.0000e-04\n",
            "Epoch 8/50\n",
            "191/191 [==============================] - 14s 74ms/step - loss: 0.5661 - accuracy: 0.7927 - precision: 0.7925 - recall: 0.7931 - val_loss: 0.5901 - val_accuracy: 0.7902 - val_precision: 0.7908 - val_recall: 0.7892 - lr: 1.0000e-04\n",
            "Epoch 9/50\n",
            "191/191 [==============================] - 13s 67ms/step - loss: 0.5426 - accuracy: 0.8033 - precision: 0.8033 - recall: 0.8033 - val_loss: 0.5725 - val_accuracy: 0.7935 - val_precision: 0.7941 - val_recall: 0.7925 - lr: 1.0000e-04\n",
            "Epoch 10/50\n",
            "191/191 [==============================] - 12s 63ms/step - loss: 0.5213 - accuracy: 0.8189 - precision: 0.8218 - recall: 0.8143 - val_loss: 0.5515 - val_accuracy: 0.8001 - val_precision: 0.8003 - val_recall: 0.7997 - lr: 1.0000e-04\n",
            "Epoch 11/50\n",
            "191/191 [==============================] - 10s 55ms/step - loss: 0.4951 - accuracy: 0.8262 - precision: 0.8287 - recall: 0.8223 - val_loss: 0.5573 - val_accuracy: 0.7948 - val_precision: 0.7946 - val_recall: 0.7951 - lr: 1.0000e-04\n",
            "Epoch 12/50\n",
            "191/191 [==============================] - 13s 67ms/step - loss: 0.4844 - accuracy: 0.8327 - precision: 0.8338 - recall: 0.8310 - val_loss: 0.5456 - val_accuracy: 0.8011 - val_precision: 0.8011 - val_recall: 0.8011 - lr: 1.0000e-04\n",
            "Epoch 13/50\n",
            "191/191 [==============================] - 14s 74ms/step - loss: 0.4690 - accuracy: 0.8336 - precision: 0.8355 - recall: 0.8307 - val_loss: 0.5379 - val_accuracy: 0.8014 - val_precision: 0.8020 - val_recall: 0.8004 - lr: 1.0000e-04\n",
            "Epoch 14/50\n",
            "191/191 [==============================] - 17s 88ms/step - loss: 0.4551 - accuracy: 0.8414 - precision: 0.8431 - recall: 0.8389 - val_loss: 0.5402 - val_accuracy: 0.7988 - val_precision: 0.7989 - val_recall: 0.7984 - lr: 1.0000e-04\n",
            "Epoch 15/50\n",
            "191/191 [==============================] - 20s 104ms/step - loss: 0.4408 - accuracy: 0.8429 - precision: 0.8446 - recall: 0.8404 - val_loss: 0.5267 - val_accuracy: 0.8047 - val_precision: 0.8049 - val_recall: 0.8043 - lr: 1.0000e-04\n",
            "Epoch 16/50\n",
            "191/191 [==============================] - 18s 94ms/step - loss: 0.4276 - accuracy: 0.8506 - precision: 0.8528 - recall: 0.8475 - val_loss: 0.5425 - val_accuracy: 0.7984 - val_precision: 0.7984 - val_recall: 0.7984 - lr: 1.0000e-04\n",
            "Epoch 17/50\n",
            "190/191 [============================>.] - ETA: 0s - loss: 0.4162 - accuracy: 0.8531 - precision: 0.8561 - recall: 0.8490\n",
            "Epoch 17: ReduceLROnPlateau reducing learning rate to 2.9999999242136255e-05.\n",
            "191/191 [==============================] - 17s 90ms/step - loss: 0.4161 - accuracy: 0.8532 - precision: 0.8561 - recall: 0.8491 - val_loss: 0.5415 - val_accuracy: 0.7997 - val_precision: 0.8001 - val_recall: 0.7991 - lr: 1.0000e-04\n",
            "Epoch 18/50\n",
            "191/191 [==============================] - 11s 57ms/step - loss: 0.4058 - accuracy: 0.8608 - precision: 0.8620 - recall: 0.8593 - val_loss: 0.5313 - val_accuracy: 0.8050 - val_precision: 0.8058 - val_recall: 0.8037 - lr: 3.0000e-05\n",
            "Epoch 19/50\n",
            "191/191 [==============================] - ETA: 0s - loss: 0.3978 - accuracy: 0.8610 - precision: 0.8637 - recall: 0.8573\n",
            "Epoch 19: ReduceLROnPlateau reducing learning rate to 8.999999772640877e-06.\n",
            "191/191 [==============================] - 16s 84ms/step - loss: 0.3978 - accuracy: 0.8610 - precision: 0.8637 - recall: 0.8573 - val_loss: 0.5338 - val_accuracy: 0.8047 - val_precision: 0.8049 - val_recall: 0.8043 - lr: 3.0000e-05\n",
            "Epoch 20/50\n",
            "191/191 [==============================] - 17s 90ms/step - loss: 0.4024 - accuracy: 0.8606 - precision: 0.8631 - recall: 0.8571 - val_loss: 0.5342 - val_accuracy: 0.8050 - val_precision: 0.8058 - val_recall: 0.8037 - lr: 9.0000e-06\n",
            "Epoch 21/50\n",
            "190/191 [============================>.] - ETA: 0s - loss: 0.3988 - accuracy: 0.8617 - precision: 0.8637 - recall: 0.8589\n",
            "Epoch 21: ReduceLROnPlateau reducing learning rate to 2.6999998226528985e-06.\n",
            "191/191 [==============================] - 16s 85ms/step - loss: 0.3987 - accuracy: 0.8616 - precision: 0.8636 - recall: 0.8588 - val_loss: 0.5301 - val_accuracy: 0.8050 - val_precision: 0.8050 - val_recall: 0.8050 - lr: 9.0000e-06\n",
            "Epoch 22/50\n",
            "191/191 [==============================] - 19s 101ms/step - loss: 0.3983 - accuracy: 0.8609 - precision: 0.8631 - recall: 0.8580 - val_loss: 0.5312 - val_accuracy: 0.8050 - val_precision: 0.8050 - val_recall: 0.8050 - lr: 2.7000e-06\n",
            "Epoch 23/50\n",
            "190/191 [============================>.] - ETA: 0s - loss: 0.3931 - accuracy: 0.8642 - precision: 0.8649 - recall: 0.8633\n",
            "Epoch 23: ReduceLROnPlateau reducing learning rate to 8.099999604382901e-07.\n",
            "191/191 [==============================] - 13s 67ms/step - loss: 0.3927 - accuracy: 0.8644 - precision: 0.8651 - recall: 0.8634 - val_loss: 0.5303 - val_accuracy: 0.8050 - val_precision: 0.8050 - val_recall: 0.8050 - lr: 2.7000e-06\n",
            "Epoch 24/50\n",
            "191/191 [==============================] - 13s 68ms/step - loss: 0.3942 - accuracy: 0.8634 - precision: 0.8646 - recall: 0.8617 - val_loss: 0.5303 - val_accuracy: 0.8050 - val_precision: 0.8050 - val_recall: 0.8050 - lr: 8.1000e-07\n",
            "Epoch 25/50\n",
            "191/191 [==============================] - ETA: 0s - loss: 0.3957 - accuracy: 0.8629 - precision: 0.8649 - recall: 0.8601\n",
            "Epoch 25: ReduceLROnPlateau reducing learning rate to 2.4299998813148704e-07.\n",
            "191/191 [==============================] - 11s 57ms/step - loss: 0.3957 - accuracy: 0.8629 - precision: 0.8649 - recall: 0.8601 - val_loss: 0.5301 - val_accuracy: 0.8047 - val_precision: 0.8049 - val_recall: 0.8043 - lr: 8.1000e-07\n",
            "Epoch 26/50\n",
            "191/191 [==============================] - 11s 59ms/step - loss: 0.3984 - accuracy: 0.8601 - precision: 0.8619 - recall: 0.8576 - val_loss: 0.5302 - val_accuracy: 0.8047 - val_precision: 0.8049 - val_recall: 0.8043 - lr: 2.4300e-07\n",
            "Epoch 27/50\n",
            "190/191 [============================>.] - ETA: 0s - loss: 0.3944 - accuracy: 0.8618 - precision: 0.8632 - recall: 0.8600\n",
            "Epoch 27: ReduceLROnPlateau reducing learning rate to 1e-07.\n",
            "191/191 [==============================] - 13s 67ms/step - loss: 0.3944 - accuracy: 0.8617 - precision: 0.8631 - recall: 0.8599 - val_loss: 0.5302 - val_accuracy: 0.8047 - val_precision: 0.8049 - val_recall: 0.8043 - lr: 2.4300e-07\n",
            "Epoch 28/50\n",
            "191/191 [==============================] - ETA: 0s - loss: 0.3940 - accuracy: 0.8620 - precision: 0.8644 - recall: 0.8586Restoring model weights from the end of the best epoch: 18.\n",
            "191/191 [==============================] - 12s 64ms/step - loss: 0.3940 - accuracy: 0.8620 - precision: 0.8644 - recall: 0.8586 - val_loss: 0.5303 - val_accuracy: 0.8047 - val_precision: 0.8049 - val_recall: 0.8043 - lr: 1.0000e-07\n",
            "Epoch 28: early stopping\n"
          ]
        },
        {
          "output_type": "execute_result",
          "data": {
            "text/plain": [
              "<keras.callbacks.History at 0x7ff835144040>"
            ]
          },
          "metadata": {},
          "execution_count": 92
        }
      ]
    },
    {
      "cell_type": "code",
      "source": [
        "## Prediction\n",
        "\n",
        "X_val_tensor = string_to_tensor(tokenizer, max_len,X_val)\n",
        "yhat = [x[0] for x in model_LSTM2.predict(X_val_tensor).tolist()]\n",
        "y_pred_LSTM2 = np.array([1 if x < 0.5 else 0 for x in yhat])"
      ],
      "metadata": {
        "colab": {
          "base_uri": "https://localhost:8080/"
        },
        "id": "crg3epjbD6oY",
        "outputId": "fa213daf-c5e2-460f-c2ba-91236e8b91f7"
      },
      "execution_count": null,
      "outputs": [
        {
          "output_type": "stream",
          "name": "stdout",
          "text": [
            "48/48 [==============================] - 1s 15ms/step\n"
          ]
        }
      ]
    },
    {
      "cell_type": "code",
      "source": [
        "## Evaluation \n",
        "\n",
        "score_kaggle_LSTM2 = 78.55\n",
        "\n",
        "conf_matrix(y_pred_LSTM2,Y_val)\n",
        "results_LSTM2 = metrics(y_pred_LSTM2,Y_val)\n",
        "results['LSTM2'] = results_LSTM2 + [score_kaggle_LSTM2]"
      ],
      "metadata": {
        "colab": {
          "base_uri": "https://localhost:8080/",
          "height": 414
        },
        "id": "Y2uyDG8e47uj",
        "outputId": "2d08e220-f575-4362-fc6f-777bf8b6fbc0"
      },
      "execution_count": null,
      "outputs": [
        {
          "output_type": "display_data",
          "data": {
            "text/plain": [
              "<Figure size 504x288 with 2 Axes>"
            ],
            "image/png": "[encoded data removed]"
          },
          "metadata": {
            "needs_background": "light"
          }
        },
        {
          "output_type": "stream",
          "name": "stdout",
          "text": [
            "-------- Metrics ----------\n",
            "Accuracy   : 81.55 %\n",
            "Error rate : 18.45 %\n",
            "Recall     : 70.64 %\n",
            "Precision  : 83.85 %\n",
            "f1         : 76.68 %\n",
            "----------------------------\n"
          ]
        }
      ]
    },
    {
      "cell_type": "code",
      "source": [
        "## Save Model\n",
        "\n",
        "#model_LSTM2.save('/content/drive/MyDrive/FDA_Challenge/Models/model_LSTM2') "
      ],
      "metadata": {
        "colab": {
          "base_uri": "https://localhost:8080/"
        },
        "id": "fSyT2VG1B8mi",
        "outputId": "6f402fba-fc39-49fc-f61a-7fd6f4f27192"
      },
      "execution_count": null,
      "outputs": [
        {
          "output_type": "stream",
          "name": "stderr",
          "text": [
            "WARNING:absl:Found untraced functions such as _update_step_xla, lstm_cell_7_layer_call_fn, lstm_cell_7_layer_call_and_return_conditional_losses, lstm_cell_8_layer_call_fn, lstm_cell_8_layer_call_and_return_conditional_losses while saving (showing 5 of 5). These functions will not be directly callable after loading.\n"
          ]
        }
      ]
    },
    {
      "cell_type": "markdown",
      "source": [
        "# Deep Learning - Part 3\n",
        "\n",
        "In this last part, we are implementing a fine-tuned technic thanks to the BERT algorithm for **Bidirectional Encoder Representations from Transformers**, developped by google.\n",
        "\n",
        "The dataset isn't the same as the previous one, that's to say that the preprocessing isn't the same\n",
        "\n",
        "Source : \n",
        "https://www.kaggle.com/code/charunumesh/nlp-disaster-tweets-lstm-transformers"
      ],
      "metadata": {
        "id": "10Au5bBvMNm-"
      }
    },
    {
      "cell_type": "markdown",
      "source": [
        "## Preprocessing"
      ],
      "metadata": {
        "id": "FT06DWe-DVfc"
      }
    },
    {
      "cell_type": "code",
      "source": [
        "## Define the pretrained model we use\n",
        "\n",
        "checkpoint = \"distilbert-base-uncased-finetuned-sst-2-english\" # Define which pre-trained model we will be using\n",
        "classifier = AutoModelForSequenceClassification.from_pretrained(checkpoint, num_labels=2) # Get the classifier\n",
        "tokenizer = AutoTokenizer.from_pretrained(checkpoint) # Get the tokenizer"
      ],
      "metadata": {
        "colab": {
          "base_uri": "https://localhost:8080/",
          "height": 145,
          "referenced_widgets": [
            "a9511763a3e747a189bc303fa5acd5ac",
            "606c8ebafb6544108e5766b551439809",
            "0e6072e88f8f4ab2b8ce05c6938823fd",
            "2ae766f8f77a4e4f9b3c7892f664ab9c",
            "a8c24e7829134ff0a7c05c35c8cb3cb5",
            "e5104b3076c749d88ecaf365a8a22006",
            "aa1fd4f4a8ab4ebd9b6f001cac90b996",
            "190fac655ad54a7b8aa2b05a352e2bc4",
            "dadecb0da69c4ea894535947e70f5a35",
            "6c4c1122f7b24ae4bb3981414f031924",
            "0bef5512b9714be69f23d81e081ead12",
            "c3f676d6d03c4246bb5d97f5298b25b1",
            "3128ee9144614a74a3c1277333ac966e",
            "dd306c99a1d143c1b5bd93285f9c065a",
            "0ec018623d254ac691b5a8a58fa73546",
            "1d71fdcbe50341d7b4f137cf9c756fad",
            "62a6d9a60b784454bed98a6b39e8d8c9",
            "56c91b0751dd4a3c868b9f6828af2117",
            "d22a0dd8cf2340629f523cd65bfc2a08",
            "2df87536841f484593d04c6d81142325",
            "ac127b853bd74daa8b9333ac0542b6f5",
            "0737b979b49742b9a25b335a4fa75388",
            "6a85097545a64e3484f4d8ec3ee4cb34",
            "1f4ec943788349a8933b70df77f06a42",
            "c5aedb2e3a5a4cbca9b2aa1d28a1b84e",
            "3094d6437bc44f0891716f2ebcc603bd",
            "7299c16d0903428b948a5d28249bfee3",
            "d685df1d3db540c992e95bde5fdc11d3",
            "3c30ee2dacd24d12988ebe5abe2e8839",
            "1fdcb739cd23402fb04c9f29178e9f8e",
            "3f70a79050d249cba5b9f0986e41794e",
            "f4dff6d2e4744f00a3960ff664565236",
            "0fa05901eeb14d208573f93967e78877",
            "c27e558d1c5c445ebf5f1c1ac61ba16c",
            "94d1ab597566441ab5cf612cc01237b7",
            "e6c1249c8f8b403c9bfa287496c4ecbe",
            "e06837a860254834aa92271773ffa536",
            "0aa2392a4a7f410c81b6293986588a28",
            "c432c51737104d228cab88d6bb43e0a4",
            "fa042f522f444b8297dc9d2e62289823",
            "b59ddf22afc94feb82bf28cff560b717",
            "95b4595fd04d458ca83c67756efb3146",
            "7a3a053bbfa34bee9a4733d11759fee9",
            "8d6b0187b08349cf8a0e03f5be33fac8"
          ]
        },
        "id": "FXUyJfzUMPRp",
        "outputId": "518b7d35-1ac6-4e87-b1a2-0846e3217c87"
      },
      "execution_count": null,
      "outputs": [
        {
          "output_type": "display_data",
          "data": {
            "text/plain": [
              "Downloading (…)lve/main/config.json:   0%|          | 0.00/629 [00:00<?, ?B/s]"
            ],
            "application/vnd.jupyter.widget-view+json": {
              "version_major": 2,
              "version_minor": 0,
              "model_id": "a9511763a3e747a189bc303fa5acd5ac"
            }
          },
          "metadata": {}
        },
        {
          "output_type": "display_data",
          "data": {
            "text/plain": [
              "Downloading pytorch_model.bin:   0%|          | 0.00/268M [00:00<?, ?B/s]"
            ],
            "application/vnd.jupyter.widget-view+json": {
              "version_major": 2,
              "version_minor": 0,
              "model_id": "c3f676d6d03c4246bb5d97f5298b25b1"
            }
          },
          "metadata": {}
        },
        {
          "output_type": "display_data",
          "data": {
            "text/plain": [
              "Downloading (…)okenizer_config.json:   0%|          | 0.00/48.0 [00:00<?, ?B/s]"
            ],
            "application/vnd.jupyter.widget-view+json": {
              "version_major": 2,
              "version_minor": 0,
              "model_id": "6a85097545a64e3484f4d8ec3ee4cb34"
            }
          },
          "metadata": {}
        },
        {
          "output_type": "display_data",
          "data": {
            "text/plain": [
              "Downloading (…)solve/main/vocab.txt:   0%|          | 0.00/232k [00:00<?, ?B/s]"
            ],
            "application/vnd.jupyter.widget-view+json": {
              "version_major": 2,
              "version_minor": 0,
              "model_id": "c27e558d1c5c445ebf5f1c1ac61ba16c"
            }
          },
          "metadata": {}
        }
      ]
    },
    {
      "cell_type": "code",
      "source": [
        "df_tra = data_train.loc[:, ['text', 'target']]\n",
        "\n",
        "# Split the dataset\n",
        "df_train, df_test= train_test_split(df_tra, train_size=0.8,stratify=df_tra.target, random_state=42)\n",
        "\n",
        "# Convert pandas dataframe into datasetra\n",
        "data = DatasetDict({\n",
        "    \"train\": Dataset.from_pandas(df_train),\n",
        "    \"test\": Dataset.from_pandas(df_test)\n",
        "})"
      ],
      "metadata": {
        "id": "yZtf7qi7MwyV"
      },
      "execution_count": null,
      "outputs": []
    },
    {
      "cell_type": "code",
      "source": [
        "## Tokenization\n",
        "\n",
        "tokenized_datasets = data.map(lambda dataset: tokenizer(dataset['text'], truncation=True), batched=True)\n",
        "print(tokenized_datasets)"
      ],
      "metadata": {
        "colab": {
          "base_uri": "https://localhost:8080/",
          "height": 187,
          "referenced_widgets": [
            "78d1a61a3e6041229201f4629834e2de",
            "1811e9077e8740b3baeb1e89b8d41205",
            "1255893c430a4045acf7201fb19fe26e",
            "349d82aef32c4a43815cd5a271dc3509",
            "ef5528d8e79e479cb2576d78d6407feb",
            "e5aa07e727fe45d0a2629fe74575e542",
            "78fcbcb2368f4269ae6eacf47617949c",
            "beec8e9f0fc1416188c8aa9ed7a2175c",
            "7b9b24eea9834078bcf93112b8613063",
            "ea7892025b2d4f868a50bca804e66dcb",
            "d6eda059d1c542f7a137ec795695710c",
            "f737e57e76fb4c068f13a40bcfae342e",
            "4d991497f1e34005b748e1fe45d90b26",
            "51de463fd0a948f2bc049c56a2b33175",
            "e2ba653fb60e4727941743fc51c9ba81",
            "1f73553d36fa44639e61209323028d4a",
            "a898f013fb6c4fada5309f382a811637",
            "6cfb29245f134320aff19cea7c073f6e",
            "aa6c2d835e0941abba2b1c521cb42e84",
            "4c92455607844b2cb3ab6d33b215bf9c",
            "55d546485909414dbbead5c913c9d247",
            "02613cd1d1d4479fac2097a567c84d6c"
          ]
        },
        "id": "nZFDseLqTAgA",
        "outputId": "ff370c42-6f1a-4a85-9cbe-f1b6ea3c745d"
      },
      "execution_count": null,
      "outputs": [
        {
          "output_type": "display_data",
          "data": {
            "text/plain": [
              "Map:   0%|          | 0/6090 [00:00<?, ? examples/s]"
            ],
            "application/vnd.jupyter.widget-view+json": {
              "version_major": 2,
              "version_minor": 0,
              "model_id": "78d1a61a3e6041229201f4629834e2de"
            }
          },
          "metadata": {}
        },
        {
          "output_type": "display_data",
          "data": {
            "text/plain": [
              "Map:   0%|          | 0/1523 [00:00<?, ? examples/s]"
            ],
            "application/vnd.jupyter.widget-view+json": {
              "version_major": 2,
              "version_minor": 0,
              "model_id": "f737e57e76fb4c068f13a40bcfae342e"
            }
          },
          "metadata": {}
        },
        {
          "output_type": "stream",
          "name": "stdout",
          "text": [
            "DatasetDict({\n",
            "    train: Dataset({\n",
            "        features: ['text', 'target', 'id', 'input_ids', 'attention_mask'],\n",
            "        num_rows: 6090\n",
            "    })\n",
            "    test: Dataset({\n",
            "        features: ['text', 'target', 'id', 'input_ids', 'attention_mask'],\n",
            "        num_rows: 1523\n",
            "    })\n",
            "})\n"
          ]
        }
      ]
    },
    {
      "cell_type": "code",
      "source": [
        "# Remove usel columns form tokenized_datasets\n",
        "tokenized_datasets = tokenized_datasets.remove_columns([\"text\", \"id\"])\n",
        "\n",
        "#Also we will rename \"target\" to \"labels\", as Trainer API require the target to be named \"labels\"\n",
        "tokenized_datasets = tokenized_datasets.rename_column(\"target\", \"labels\")\n",
        "print(tokenized_datasets)"
      ],
      "metadata": {
        "colab": {
          "base_uri": "https://localhost:8080/"
        },
        "id": "mekpRwkwTOVk",
        "outputId": "f4173697-0194-45da-de78-1720e722d855"
      },
      "execution_count": null,
      "outputs": [
        {
          "output_type": "stream",
          "name": "stdout",
          "text": [
            "DatasetDict({\n",
            "    train: Dataset({\n",
            "        features: ['labels', 'input_ids', 'attention_mask'],\n",
            "        num_rows: 6090\n",
            "    })\n",
            "    test: Dataset({\n",
            "        features: ['labels', 'input_ids', 'attention_mask'],\n",
            "        num_rows: 1523\n",
            "    })\n",
            "})\n"
          ]
        }
      ]
    },
    {
      "cell_type": "markdown",
      "source": [
        "## Model"
      ],
      "metadata": {
        "id": "VxfJeXsREFPB"
      }
    },
    {
      "cell_type": "code",
      "source": [
        "data_collator = DataCollatorWithPadding(tokenizer=tokenizer)\n",
        "\n",
        "training_args = TrainingArguments('test-trainer', num_train_epochs=1, evaluation_strategy='epoch',\n",
        "                                 weight_decay=5e-4, save_strategy='no', report_to='none')\n",
        "\n",
        "# Metric for validation error\n",
        "def compute_metrics(eval_preds):\n",
        "    metric = evaluate.load(\"glue\", \"mrpc\") # F1 and Accuracy\n",
        "    logits, labels = eval_preds\n",
        "    predictions = np.argmax(logits, axis=-1)\n",
        "    return metric.compute(predictions=predictions, references=labels)\n",
        "\n",
        "# Define trainer\n",
        "model_BERT_ft = Trainer(\n",
        "    classifier,\n",
        "    training_args,\n",
        "    train_dataset=tokenized_datasets[\"train\"],\n",
        "    eval_dataset=tokenized_datasets[\"test\"],\n",
        "    data_collator=data_collator,\n",
        "    tokenizer=tokenizer,\n",
        "    compute_metrics=compute_metrics\n",
        ")\n"
      ],
      "metadata": {
        "id": "jw06i2M9T5ho"
      },
      "execution_count": null,
      "outputs": []
    },
    {
      "cell_type": "code",
      "source": [
        "## Training\n",
        "model_BERT_ft.train()"
      ],
      "metadata": {
        "colab": {
          "base_uri": "https://localhost:8080/",
          "height": 260,
          "referenced_widgets": [
            "fe5b76d2ee2347e4a348b5cf34b4ddc9",
            "3caa72d06c94466b925ecd574fa4921b",
            "13e92de40c1f4933a25e324e56dc4e23",
            "ff1306b32fc24c3599e59ba3febb5a15",
            "2bfdc9b44e784a1fba9f8a2fcdd5e10b",
            "f6663e1979a94be99a4a325833a0f72f",
            "a73d9f38253d425cab73a2170e84880b",
            "928d46719580499e85a4abe1a4522b8a",
            "7221c0767a6548c990f27aea00cfadd2",
            "25f6e067da3a4884a6c312b186fbfc48",
            "e0a6eb5f81d845d986f9cccb4c5fd2d5"
          ]
        },
        "id": "aljFlyVmT7TP",
        "outputId": "eadb1841-2834-410b-d9a4-14eed6c1bfaa"
      },
      "execution_count": null,
      "outputs": [
        {
          "output_type": "stream",
          "name": "stderr",
          "text": [
            "/usr/local/lib/python3.9/dist-packages/transformers/optimization.py:391: FutureWarning: This implementation of AdamW is deprecated and will be removed in a future version. Use the PyTorch implementation torch.optim.AdamW instead, or set `no_deprecation_warning=True` to disable this warning\n",
            "  warnings.warn(\n",
            "You're using a DistilBertTokenizerFast tokenizer. Please note that with a fast tokenizer, using the `__call__` method is faster than using a method to encode the text followed by a call to the `pad` method to get a padded encoding.\n"
          ]
        },
        {
          "output_type": "display_data",
          "data": {
            "text/plain": [
              "<IPython.core.display.HTML object>"
            ],
            "text/html": [
              "\n",
              "    <div>\n",
              "      \n",
              "      <progress value='762' max='762' style='width:300px; height:20px; vertical-align: middle;'></progress>\n",
              "      [762/762 51:16, Epoch 1/1]\n",
              "    </div>\n",
              "    <table border=\"1\" class=\"dataframe\">\n",
              "  <thead>\n",
              " <tr style=\"text-align: left;\">\n",
              "      <th>Epoch</th>\n",
              "      <th>Training Loss</th>\n",
              "      <th>Validation Loss</th>\n",
              "      <th>Accuracy</th>\n",
              "      <th>F1</th>\n",
              "    </tr>\n",
              "  </thead>\n",
              "  <tbody>\n",
              "    <tr>\n",
              "      <td>1</td>\n",
              "      <td>0.496100</td>\n",
              "      <td>0.389118</td>\n",
              "      <td>0.845043</td>\n",
              "      <td>0.809677</td>\n",
              "    </tr>\n",
              "  </tbody>\n",
              "</table><p>"
            ]
          },
          "metadata": {}
        },
        {
          "output_type": "display_data",
          "data": {
            "text/plain": [
              "Downloading builder script:   0%|          | 0.00/5.75k [00:00<?, ?B/s]"
            ],
            "application/vnd.jupyter.widget-view+json": {
              "version_major": 2,
              "version_minor": 0,
              "model_id": "fe5b76d2ee2347e4a348b5cf34b4ddc9"
            }
          },
          "metadata": {}
        },
        {
          "output_type": "execute_result",
          "data": {
            "text/plain": [
              "TrainOutput(global_step=762, training_loss=0.468186546185511, metrics={'train_runtime': 3087.2752, 'train_samples_per_second': 1.973, 'train_steps_per_second': 0.247, 'total_flos': 79337105328648.0, 'train_loss': 0.468186546185511, 'epoch': 1.0})"
            ]
          },
          "metadata": {},
          "execution_count": 112
        }
      ]
    },
    {
      "cell_type": "code",
      "source": [
        "## Evaluation\n",
        "\n",
        "# Get the test data\n",
        "df_test = pd.DataFrame(X_val,columns=['text'])\n",
        "df_test = df_test.loc[:,[\"text\"]] # Keep only text\n",
        "\n",
        "# Turn the DataFrame into appropriate format\n",
        "test_dataset = Dataset.from_pandas(df_test)\n",
        "test_dataset = test_dataset.map(lambda dataset: tokenizer(dataset['text'], truncation=True), batched=True)\n",
        "test_dataset = test_dataset.remove_columns('text')\n",
        "\n",
        "# Get the prediction\n",
        "predictions = model_BERT_ft.predict(test_dataset)\n",
        "y_pred_BERT = np.argmax(predictions.predictions, axis=-1)\n"
      ],
      "metadata": {
        "colab": {
          "base_uri": "https://localhost:8080/",
          "height": 17,
          "referenced_widgets": [
            "4a26f3792271489593b9ea80d2b89a10",
            "7044e91dca6a4f019d0405f5f893a980",
            "f036248e901647d0a31c71e864d56b92",
            "d3ced7f692a144c386bb36fe791da964",
            "e8c0503f19874ea4b425f38a87d5af62",
            "db125f96e49543b3a01424af6bf54a1d",
            "8ec1b1ad85f9479c9e2400b3e318887a",
            "2308cc2b408445259eb91575bbeab7b8",
            "d9cb906085284bc483ece14b2c150473",
            "7b60f41a7e86463bb0e332235fd49758",
            "c9b76ba1fef44ef59dfc0ea5bb7b6df9"
          ]
        },
        "id": "lCQ2nhlodvEi",
        "outputId": "bcc2f8bd-37ca-4463-e8e1-172dfad8b329"
      },
      "execution_count": null,
      "outputs": [
        {
          "output_type": "display_data",
          "data": {
            "text/plain": [
              "Map:   0%|          | 0/1523 [00:00<?, ? examples/s]"
            ],
            "application/vnd.jupyter.widget-view+json": {
              "version_major": 2,
              "version_minor": 0,
              "model_id": "4a26f3792271489593b9ea80d2b89a10"
            }
          },
          "metadata": {}
        },
        {
          "output_type": "display_data",
          "data": {
            "text/plain": [
              "<IPython.core.display.HTML object>"
            ],
            "text/html": []
          },
          "metadata": {}
        }
      ]
    },
    {
      "cell_type": "code",
      "source": [
        "## Metrics \n",
        "score_kaggle_BERT = 82.47\n",
        "\n",
        "conf_matrix(y_pred_BERT,Y_val)\n",
        "results_BERT = metrics(y_pred_BERT,Y_val)\n",
        "results['BERT'] = results_BERT + [score_kaggle_BERT]"
      ],
      "metadata": {
        "colab": {
          "base_uri": "https://localhost:8080/",
          "height": 414
        },
        "id": "k_xfM-WseEQh",
        "outputId": "83fdf5cd-31c0-4ae7-911f-cb977c5df2e3"
      },
      "execution_count": null,
      "outputs": [
        {
          "output_type": "display_data",
          "data": {
            "text/plain": [
              "<Figure size 504x288 with 2 Axes>"
            ],
            "image/png": "[encoded data removed]"
          },
          "metadata": {
            "needs_background": "light"
          }
        },
        {
          "output_type": "stream",
          "name": "stdout",
          "text": [
            "-------- Metrics ----------\n",
            "Accuracy   : 86.8 %\n",
            "Error rate : 13.2 %\n",
            "Recall     : 73.7 %\n",
            "Precision  : 94.32 %\n",
            "f1         : 82.75 %\n",
            "----------------------------\n"
          ]
        }
      ]
    },
    {
      "cell_type": "code",
      "source": [
        "## Save Model\n",
        "\n",
        "#model_BERT.save_model('/content/drive/MyDrive/FDA_Challenge/Models/model_BERT') "
      ],
      "metadata": {
        "id": "XNTjgidGFdg0"
      },
      "execution_count": null,
      "outputs": []
    },
    {
      "cell_type": "code",
      "source": [
        "# Use the saved model (model trained)\n",
        "\"\"\"\n",
        "from tensorflow.keras.models import load_model #import model\n",
        "\n",
        "# Create a basic model instance\n",
        "model_test2 = load_model('/content/drive/MyDrive/FDA_Challenge/test/model_0')\n",
        "\"\"\""
      ],
      "metadata": {
        "id": "InsGsOZQOhGe"
      },
      "execution_count": null,
      "outputs": []
    },
    {
      "cell_type": "markdown",
      "source": [
        "# Submission"
      ],
      "metadata": {
        "id": "5V93aGrkHrGp"
      }
    },
    {
      "cell_type": "code",
      "source": [
        "def result_BERT(model, X):\n",
        "  \"\"\"\n",
        "  return the resulting list of the BERT algorithm with the dataset X in input\n",
        "  \"\"\"\n",
        "  # Get the test data\n",
        "  df_test = pd.DataFrame(X,columns=['text'])\n",
        "  df_test = df_test.loc[:,[\"text\"]] # Keep only text\n",
        "\n",
        "  # Turn the DataFrame into appropriate format\n",
        "  test_dataset = Dataset.from_pandas(df_test)\n",
        "  test_dataset = test_dataset.map(lambda dataset: tokenizer(dataset['text'], truncation=True), batched=True)\n",
        "  test_dataset = test_dataset.remove_columns('text')\n",
        "\n",
        "  # Get the prediction\n",
        "  predictions = model.predict(test_dataset)\n",
        "  preds = np.argmax(predictions.predictions, axis=-1)\n",
        "\n",
        "  return preds"
      ],
      "metadata": {
        "id": "5fashcn8GjRD"
      },
      "execution_count": null,
      "outputs": []
    },
    {
      "cell_type": "code",
      "source": [
        "## Import\n",
        "model_sub = model_BERT_ft\n",
        "name = '5_BERT.csv'\n",
        "\n",
        "data_sub = pd.read_csv('/content/drive/MyDrive/FDA_Challenge/Base_de_donnees/test.csv',index_col = 0)\n",
        "data_sub = data_sub['text']\n",
        "\n",
        "## Prediction\n",
        "results_kaggle = result_BERT(model_sub, data_sub)\n",
        "\n",
        "sample = pd.read_csv('/content/drive/MyDrive/FDA_Challenge/Base_de_donnees/sample_submission.csv',index_col=0)\n",
        "sample['target'] = results_kaggle"
      ],
      "metadata": {
        "colab": {
          "base_uri": "https://localhost:8080/",
          "height": 17,
          "referenced_widgets": [
            "3a98ba40fef9476489a67d917c374c6b",
            "c4f900f55f844ac781dec0b8c0cef26e",
            "92cfa39fd161474a99928b97e4d60957",
            "706606567eb14ddbb040efc3cdf788e1",
            "a8bb00a2df34476d9b13abb6c22e6880",
            "15ffda063e874636b45ac7728b32d336",
            "1cbd5e7358364abba2ae59bc1cabc593",
            "1c2e07b95ef844e3aed7850461613fdc",
            "3ada7ec7b18d40ed82cfbba46a33c7f7",
            "b44032cab8944deca9461bc29e313da7",
            "a9cc7c7a52f440a2ba66c5bba3848557"
          ]
        },
        "id": "vZRXFKFZusv8",
        "outputId": "9de84b52-769e-4784-dd71-e938fb6cbcb8"
      },
      "execution_count": null,
      "outputs": [
        {
          "output_type": "display_data",
          "data": {
            "text/plain": [
              "Map:   0%|          | 0/3263 [00:00<?, ? examples/s]"
            ],
            "application/vnd.jupyter.widget-view+json": {
              "version_major": 2,
              "version_minor": 0,
              "model_id": "3a98ba40fef9476489a67d917c374c6b"
            }
          },
          "metadata": {}
        },
        {
          "output_type": "display_data",
          "data": {
            "text/plain": [
              "<IPython.core.display.HTML object>"
            ],
            "text/html": []
          },
          "metadata": {}
        }
      ]
    },
    {
      "cell_type": "code",
      "source": [
        "## Import\n",
        "model_sub = trainer\n",
        "name = '5_BERT.csv'\n",
        "\n",
        "data_sub = pd.read_csv('/content/drive/MyDrive/FDA_Challenge/Base_de_donnees/test.csv',index_col = 0)\n",
        "data_sub = data_sub['text']\n",
        "\n",
        "#prediction\n",
        "X_sub = data_sub.to_list()\n",
        "X_sub = string_to_tensor(tokenizer, max_len,X_sub)\n",
        "\n",
        "Y_sub = [x[0] for x in model.predict(X_sub).tolist()]\n",
        "results_kaggle = [0 if x > 0.5 else 1 for x in Y_sub]\n",
        "\n",
        "\n",
        "sample = pd.read_csv('/content/drive/MyDrive/FDA_Challenge/Base_de_donnees/sample_submission.csv',index_col=0)\n",
        "sample['target'] = results_kaggle"
      ],
      "metadata": {
        "id": "rM6euNJ5Ht-h"
      },
      "execution_count": null,
      "outputs": []
    },
    {
      "cell_type": "code",
      "source": [
        "## Save the results\n",
        "\n",
        "sample.to_csv('/content/drive/MyDrive/FDA_Challenge/Fichier_Kaggle/'+name)"
      ],
      "metadata": {
        "id": "hyZIy_BUG8ey"
      },
      "execution_count": null,
      "outputs": []
    },
    {
      "cell_type": "markdown",
      "source": [
        "#Final results"
      ],
      "metadata": {
        "id": "eTODd3RbI7wf"
      }
    },
    {
      "cell_type": "code",
      "source": [
        "results"
      ],
      "metadata": {
        "colab": {
          "base_uri": "https://localhost:8080/",
          "height": 235
        },
        "id": "z5My8JBuI6wf",
        "outputId": "e07cb1c6-4680-4fbe-b9fd-480a9d16c806"
      },
      "execution_count": null,
      "outputs": [
        {
          "output_type": "execute_result",
          "data": {
            "text/plain": [
              "              SVC     GB  Basic NN    TCN  LSTM1  LSTM2   BERT\n",
              "accuracy    78.88  80.55     78.08      -  79.65  81.55  86.80\n",
              "error rate  21.12  19.45     21.92      -  20.35  18.45  13.20\n",
              "recall      65.78  68.91     68.12      -  68.65  70.64  73.70\n",
              "precision   81.12  82.58     77.72      -  81.05  83.85  94.32\n",
              "f1 score    72.65  75.13     72.61      -  74.34  76.68  82.75\n",
              "Kaggle      76.31      -     76.40  76.34  78.24  78.55  82.47"
            ],
            "text/html": [
              "\n",
              "  <div id=\"df-491292a8-3304-4554-9937-8d1d6ea704a3\">\n",
              "    <div class=\"colab-df-container\">\n",
              "      <div>\n",
              "<style scoped>\n",
              "    .dataframe tbody tr th:only-of-type {\n",
              "        vertical-align: middle;\n",
              "    }\n",
              "\n",
              "    .dataframe tbody tr th {\n",
              "        vertical-align: top;\n",
              "    }\n",
              "\n",
              "    .dataframe thead th {\n",
              "        text-align: right;\n",
              "    }\n",
              "</style>\n",
              "<table border=\"1\" class=\"dataframe\">\n",
              "  <thead>\n",
              "    <tr style=\"text-align: right;\">\n",
              "      <th></th>\n",
              "      <th>SVC</th>\n",
              "      <th>GB</th>\n",
              "      <th>Basic NN</th>\n",
              "      <th>TCN</th>\n",
              "      <th>LSTM1</th>\n",
              "      <th>LSTM2</th>\n",
              "      <th>BERT</th>\n",
              "    </tr>\n",
              "  </thead>\n",
              "  <tbody>\n",
              "    <tr>\n",
              "      <th>accuracy</th>\n",
              "      <td>78.88</td>\n",
              "      <td>80.55</td>\n",
              "      <td>78.08</td>\n",
              "      <td>-</td>\n",
              "      <td>79.65</td>\n",
              "      <td>81.55</td>\n",
              "      <td>86.80</td>\n",
              "    </tr>\n",
              "    <tr>\n",
              "      <th>error rate</th>\n",
              "      <td>21.12</td>\n",
              "      <td>19.45</td>\n",
              "      <td>21.92</td>\n",
              "      <td>-</td>\n",
              "      <td>20.35</td>\n",
              "      <td>18.45</td>\n",
              "      <td>13.20</td>\n",
              "    </tr>\n",
              "    <tr>\n",
              "      <th>recall</th>\n",
              "      <td>65.78</td>\n",
              "      <td>68.91</td>\n",
              "      <td>68.12</td>\n",
              "      <td>-</td>\n",
              "      <td>68.65</td>\n",
              "      <td>70.64</td>\n",
              "      <td>73.70</td>\n",
              "    </tr>\n",
              "    <tr>\n",
              "      <th>precision</th>\n",
              "      <td>81.12</td>\n",
              "      <td>82.58</td>\n",
              "      <td>77.72</td>\n",
              "      <td>-</td>\n",
              "      <td>81.05</td>\n",
              "      <td>83.85</td>\n",
              "      <td>94.32</td>\n",
              "    </tr>\n",
              "    <tr>\n",
              "      <th>f1 score</th>\n",
              "      <td>72.65</td>\n",
              "      <td>75.13</td>\n",
              "      <td>72.61</td>\n",
              "      <td>-</td>\n",
              "      <td>74.34</td>\n",
              "      <td>76.68</td>\n",
              "      <td>82.75</td>\n",
              "    </tr>\n",
              "    <tr>\n",
              "      <th>Kaggle</th>\n",
              "      <td>76.31</td>\n",
              "      <td>-</td>\n",
              "      <td>76.40</td>\n",
              "      <td>76.34</td>\n",
              "      <td>78.24</td>\n",
              "      <td>78.55</td>\n",
              "      <td>82.47</td>\n",
              "    </tr>\n",
              "  </tbody>\n",
              "</table>\n",
              "</div>\n",
              "      <button class=\"colab-df-convert\" onclick=\"convertToInteractive('df-491292a8-3304-4554-9937-8d1d6ea704a3')\"\n",
              "              title=\"Convert this dataframe to an interactive table.\"\n",
              "              style=\"display:none;\">\n",
              "        \n",
              "  <svg xmlns=\"http://www.w3.org/2000/svg\" height=\"24px\"viewBox=\"0 0 24 24\"\n",
              "       width=\"24px\">\n",
              "    <path d=\"M0 0h24v24H0V0z\" fill=\"none\"/>\n",
              "    <path d=\"M18.56 5.44l.94 2.06.94-2.06 2.06-.94-2.06-.94-.94-2.06-.94 2.06-2.06.94zm-11 1L8.5 8.5l.94-2.06 2.06-.94-2.06-.94L8.5 2.5l-.94 2.06-2.06.94zm10 10l.94 2.06.94-2.06 2.06-.94-2.06-.94-.94-2.06-.94 2.06-2.06.94z\"/><path d=\"M17.41 7.96l-1.37-1.37c-.4-.4-.92-.59-1.43-.59-.52 0-1.04.2-1.43.59L10.3 9.45l-7.72 7.72c-.78.78-.78 2.05 0 2.83L4 21.41c.39.39.9.59 1.41.59.51 0 1.02-.2 1.41-.59l7.78-7.78 2.81-2.81c.8-.78.8-2.07 0-2.86zM5.41 20L4 18.59l7.72-7.72 1.47 1.35L5.41 20z\"/>\n",
              "  </svg>\n",
              "      </button>\n",
              "      \n",
              "  <style>\n",
              "    .colab-df-container {\n",
              "      display:flex;\n",
              "      flex-wrap:wrap;\n",
              "      gap: 12px;\n",
              "    }\n",
              "\n",
              "    .colab-df-convert {\n",
              "      background-color: #E8F0FE;\n",
              "      border: none;\n",
              "      border-radius: 50%;\n",
              "      cursor: pointer;\n",
              "      display: none;\n",
              "      fill: #1967D2;\n",
              "      height: 32px;\n",
              "      padding: 0 0 0 0;\n",
              "      width: 32px;\n",
              "    }\n",
              "\n",
              "    .colab-df-convert:hover {\n",
              "      background-color: #E2EBFA;\n",
              "      box-shadow: 0px 1px 2px rgba(60, 64, 67, 0.3), 0px 1px 3px 1px rgba(60, 64, 67, 0.15);\n",
              "      fill: #174EA6;\n",
              "    }\n",
              "\n",
              "    [theme=dark] .colab-df-convert {\n",
              "      background-color: #3B4455;\n",
              "      fill: #D2E3FC;\n",
              "    }\n",
              "\n",
              "    [theme=dark] .colab-df-convert:hover {\n",
              "      background-color: #434B5C;\n",
              "      box-shadow: 0px 1px 3px 1px rgba(0, 0, 0, 0.15);\n",
              "      filter: drop-shadow(0px 1px 2px rgba(0, 0, 0, 0.3));\n",
              "      fill: #FFFFFF;\n",
              "    }\n",
              "  </style>\n",
              "\n",
              "      <script>\n",
              "        const buttonEl =\n",
              "          document.querySelector('#df-491292a8-3304-4554-9937-8d1d6ea704a3 button.colab-df-convert');\n",
              "        buttonEl.style.display =\n",
              "          google.colab.kernel.accessAllowed ? 'block' : 'none';\n",
              "\n",
              "        async function convertToInteractive(key) {\n",
              "          const element = document.querySelector('#df-491292a8-3304-4554-9937-8d1d6ea704a3');\n",
              "          const dataTable =\n",
              "            await google.colab.kernel.invokeFunction('convertToInteractive',\n",
              "                                                     [key], {});\n",
              "          if (!dataTable) return;\n",
              "\n",
              "          const docLinkHtml = 'Like what you see? Visit the ' +\n",
              "            '<a target=\"_blank\" href=https://colab.research.google.com/notebooks/data_table.ipynb>data table notebook</a>'\n",
              "            + ' to learn more about interactive tables.';\n",
              "          element.innerHTML = '';\n",
              "          dataTable['output_type'] = 'display_data';\n",
              "          await google.colab.output.renderOutput(dataTable, element);\n",
              "          const docLink = document.createElement('div');\n",
              "          docLink.innerHTML = docLinkHtml;\n",
              "          element.appendChild(docLink);\n",
              "        }\n",
              "      </script>\n",
              "    </div>\n",
              "  </div>\n",
              "  "
            ]
          },
          "metadata": {},
          "execution_count": 115
        }
      ]
    },
    {
      "cell_type": "code",
      "source": [
        "## Export the results\n",
        "\n",
        "results.to_csv('/content/drive/MyDrive/FDA_Challenge/all_resultst')"
      ],
      "metadata": {
        "id": "VPevoMmXJBH6"
      },
      "execution_count": null,
      "outputs": []
    },
    {
      "cell_type": "markdown",
      "source": [
        "**END**"
      ],
      "metadata": {
        "id": "yXlmV4a-JCVW"
      }
    }
  ]
}